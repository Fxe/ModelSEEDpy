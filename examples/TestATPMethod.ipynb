{
 "cells": [
  {
   "cell_type": "code",
   "execution_count": 1,
   "metadata": {},
   "outputs": [
    {
     "name": "stdout",
     "output_type": "stream",
     "text": [
      "cobrakbase 0.2.7\n"
     ]
    }
   ],
   "source": [
    "import sys\n",
    "import cobra\n",
    "import cobrakbase\n",
    "sys.path.append(\"/Users/chenry/code/ModelSEEDpy\")\n",
    "from modelseedpy import MSATPCorrection,MSEditorAPI,MSEquation"
   ]
  },
  {
   "cell_type": "code",
   "execution_count": 2,
   "metadata": {},
   "outputs": [
    {
     "name": "stderr",
     "output_type": "stream",
     "text": [
      "/Users/chenry/opt/anaconda3/lib/python3.7/site-packages/cobra/util/solver.py:416 \u001b[1;31mUserWarning\u001b[0m: solver status is 'infeasible'\n"
     ]
    },
    {
     "ename": "KeyError",
     "evalue": "'objective'",
     "output_type": "error",
     "traceback": [
      "\u001b[0;31m---------------------------------------------------------------------------\u001b[0m",
      "\u001b[0;31mKeyError\u001b[0m                                  Traceback (most recent call last)",
      "\u001b[0;32m<ipython-input-2-c6df07705248>\u001b[0m in \u001b[0;36m<module>\u001b[0;34m\u001b[0m\n\u001b[1;32m     42\u001b[0m \u001b[0mMSEditorAPI\u001b[0m\u001b[0;34m.\u001b[0m\u001b[0madd_custom_reaction\u001b[0m\u001b[0;34m(\u001b[0m\u001b[0mmodel\u001b[0m\u001b[0;34m,\u001b[0m\u001b[0;34m\"bio2\"\u001b[0m\u001b[0;34m,\u001b[0m\u001b[0mMSEquation\u001b[0m\u001b[0;34m.\u001b[0m\u001b[0mbuild_from_palsson_string\u001b[0m\u001b[0;34m(\u001b[0m\u001b[0;34m\"cpd00002 + cpd00001 => cpd00008 + cpd00009 + cpd00067\"\u001b[0m\u001b[0;34m,\u001b[0m\u001b[0;34m\"c0\"\u001b[0m\u001b[0;34m)\u001b[0m\u001b[0;34m)\u001b[0m\u001b[0;34m\u001b[0m\u001b[0;34m\u001b[0m\u001b[0m\n\u001b[1;32m     43\u001b[0m \u001b[0mtemplate\u001b[0m \u001b[0;34m=\u001b[0m \u001b[0mkbase_api\u001b[0m\u001b[0;34m.\u001b[0m\u001b[0mget_from_ws\u001b[0m\u001b[0;34m(\u001b[0m\u001b[0;34m\"CoreModelTemplateV3\"\u001b[0m\u001b[0;34m,\u001b[0m\u001b[0;34m\"NewKBaseModelTemplates\"\u001b[0m\u001b[0;34m)\u001b[0m\u001b[0;34m\u001b[0m\u001b[0;34m\u001b[0m\u001b[0m\n\u001b[0;32m---> 44\u001b[0;31m \u001b[0mMSATPCorrection\u001b[0m\u001b[0;34m.\u001b[0m\u001b[0matp_correction\u001b[0m\u001b[0;34m(\u001b[0m\u001b[0mmodel\u001b[0m\u001b[0;34m,\u001b[0m\u001b[0mtemplate\u001b[0m\u001b[0;34m,\u001b[0m\u001b[0mmedia_list\u001b[0m\u001b[0;34m,\u001b[0m\u001b[0matp_objective\u001b[0m \u001b[0;34m=\u001b[0m \u001b[0;34m\"bio2\"\u001b[0m\u001b[0;34m,\u001b[0m\u001b[0mgenome_class\u001b[0m \u001b[0;34m=\u001b[0m \u001b[0;32mNone\u001b[0m\u001b[0;34m)\u001b[0m\u001b[0;34m\u001b[0m\u001b[0;34m\u001b[0m\u001b[0m\n\u001b[0m",
      "\u001b[0;32m~/code/ModelSEEDpy/modelseedpy/core/msatpcorrection.py\u001b[0m in \u001b[0;36matp_correction\u001b[0;34m(model, coretemplate, atp_medias, atp_objective, genome_class)\u001b[0m\n\u001b[1;32m    126\u001b[0m     \u001b[0;34m@\u001b[0m\u001b[0mstaticmethod\u001b[0m\u001b[0;34m\u001b[0m\u001b[0;34m\u001b[0m\u001b[0m\n\u001b[1;32m    127\u001b[0m     \u001b[0;32mdef\u001b[0m \u001b[0matp_correction\u001b[0m\u001b[0;34m(\u001b[0m\u001b[0mmodel\u001b[0m\u001b[0;34m,\u001b[0m\u001b[0mcoretemplate\u001b[0m\u001b[0;34m,\u001b[0m\u001b[0matp_medias\u001b[0m \u001b[0;34m=\u001b[0m \u001b[0;32mNone\u001b[0m\u001b[0;34m,\u001b[0m\u001b[0matp_objective\u001b[0m \u001b[0;34m=\u001b[0m \u001b[0;34m\"bio2\"\u001b[0m\u001b[0;34m,\u001b[0m\u001b[0mgenome_class\u001b[0m \u001b[0;34m=\u001b[0m \u001b[0;32mNone\u001b[0m\u001b[0;34m)\u001b[0m\u001b[0;34m:\u001b[0m\u001b[0;34m\u001b[0m\u001b[0;34m\u001b[0m\u001b[0m\n\u001b[0;32m--> 128\u001b[0;31m         \u001b[0;32mreturn\u001b[0m \u001b[0mMSATPCorrection\u001b[0m\u001b[0;34m(\u001b[0m\u001b[0mcoretemplate\u001b[0m\u001b[0;34m)\u001b[0m\u001b[0;34m.\u001b[0m\u001b[0mrun_atp_correction\u001b[0m\u001b[0;34m(\u001b[0m\u001b[0mmodel\u001b[0m\u001b[0;34m,\u001b[0m\u001b[0matp_medias\u001b[0m\u001b[0;34m,\u001b[0m\u001b[0matp_objective\u001b[0m\u001b[0;34m,\u001b[0m\u001b[0mgenome_class\u001b[0m\u001b[0;34m)\u001b[0m\u001b[0;34m\u001b[0m\u001b[0;34m\u001b[0m\u001b[0m\n\u001b[0m\u001b[1;32m    129\u001b[0m \u001b[0;34m\u001b[0m\u001b[0m\n\u001b[1;32m    130\u001b[0m \u001b[0;34m\u001b[0m\u001b[0m\n",
      "\u001b[0;32m~/code/ModelSEEDpy/modelseedpy/core/msatpcorrection.py\u001b[0m in \u001b[0;36mrun_atp_correction\u001b[0;34m(self, model, atp_medias, atp_objective, genome_class)\u001b[0m\n\u001b[1;32m    121\u001b[0m         \u001b[0mmedia_list\u001b[0m \u001b[0;34m=\u001b[0m \u001b[0mself\u001b[0m\u001b[0;34m.\u001b[0m\u001b[0mdetermine_growth_media\u001b[0m\u001b[0;34m(\u001b[0m\u001b[0mmodel\u001b[0m\u001b[0;34m,\u001b[0m\u001b[0mmedia_gapfill_stats\u001b[0m\u001b[0;34m,\u001b[0m\u001b[0mself\u001b[0m\u001b[0;34m.\u001b[0m\u001b[0mmax_gapfilling\u001b[0m\u001b[0;34m,\u001b[0m\u001b[0mself\u001b[0m\u001b[0;34m.\u001b[0m\u001b[0mgapfilling_delta\u001b[0m\u001b[0;34m)\u001b[0m\u001b[0;34m\u001b[0m\u001b[0;34m\u001b[0m\u001b[0m\n\u001b[1;32m    122\u001b[0m         \u001b[0mmodel\u001b[0m \u001b[0;34m=\u001b[0m \u001b[0mself\u001b[0m\u001b[0;34m.\u001b[0m\u001b[0mapply_growth_media_gapfilling\u001b[0m\u001b[0;34m(\u001b[0m\u001b[0mmodel\u001b[0m\u001b[0;34m,\u001b[0m\u001b[0mmedia_list\u001b[0m\u001b[0;34m,\u001b[0m\u001b[0mmedia_gapfill_stats\u001b[0m\u001b[0;34m)\u001b[0m\u001b[0;34m\u001b[0m\u001b[0;34m\u001b[0m\u001b[0m\n\u001b[0;32m--> 123\u001b[0;31m         \u001b[0mmodel\u001b[0m \u001b[0;34m=\u001b[0m \u001b[0mself\u001b[0m\u001b[0;34m.\u001b[0m\u001b[0mexpand_model_to_genome_scale\u001b[0m\u001b[0;34m(\u001b[0m\u001b[0mmodel\u001b[0m\u001b[0;34m,\u001b[0m\u001b[0mmedia_list\u001b[0m\u001b[0;34m,\u001b[0m\u001b[0mnoncore_reactions\u001b[0m\u001b[0;34m)\u001b[0m\u001b[0;34m\u001b[0m\u001b[0;34m\u001b[0m\u001b[0m\n\u001b[0m\u001b[1;32m    124\u001b[0m         \u001b[0mmodel\u001b[0m \u001b[0;34m=\u001b[0m \u001b[0mself\u001b[0m\u001b[0;34m.\u001b[0m\u001b[0mrestore_noncore_reactions\u001b[0m\u001b[0;34m(\u001b[0m\u001b[0mmodel\u001b[0m\u001b[0;34m,\u001b[0m\u001b[0mnoncore_reactions\u001b[0m\u001b[0;34m,\u001b[0m\u001b[0moriginal_bounds\u001b[0m\u001b[0;34m)\u001b[0m\u001b[0;34m\u001b[0m\u001b[0;34m\u001b[0m\u001b[0m\n\u001b[1;32m    125\u001b[0m \u001b[0;34m\u001b[0m\u001b[0m\n",
      "\u001b[0;32m~/code/ModelSEEDpy/modelseedpy/core/msatpcorrection.py\u001b[0m in \u001b[0;36mexpand_model_to_genome_scale\u001b[0;34m(self, model, media_list, noncore_reactions)\u001b[0m\n\u001b[1;32m     90\u001b[0m             \u001b[0mgapfilling_tests\u001b[0m\u001b[0;34m.\u001b[0m\u001b[0mappend\u001b[0m\u001b[0;34m(\u001b[0m\u001b[0;34m{\u001b[0m\u001b[0;34m\"media\"\u001b[0m\u001b[0;34m:\u001b[0m\u001b[0mmedia\u001b[0m\u001b[0;34m,\u001b[0m\u001b[0;34m\"is_max_threshold\"\u001b[0m\u001b[0;34m:\u001b[0m \u001b[0;32mTrue\u001b[0m\u001b[0;34m,\u001b[0m\u001b[0;34m\"threshold\"\u001b[0m\u001b[0;34m:\u001b[0m\u001b[0;36m1.2\u001b[0m\u001b[0;34m*\u001b[0m\u001b[0msolution\u001b[0m\u001b[0;34m.\u001b[0m\u001b[0mobjective_value\u001b[0m\u001b[0;34m}\u001b[0m\u001b[0;34m)\u001b[0m\u001b[0;34m\u001b[0m\u001b[0;34m\u001b[0m\u001b[0m\n\u001b[1;32m     91\u001b[0m         \u001b[0;31m#Extending model with noncore reactions while retaining ATP accuracy\u001b[0m\u001b[0;34m\u001b[0m\u001b[0;34m\u001b[0m\u001b[0;34m\u001b[0m\u001b[0m\n\u001b[0;32m---> 92\u001b[0;31m         \u001b[0mfiltered\u001b[0m \u001b[0;34m=\u001b[0m \u001b[0mFBAHelper\u001b[0m\u001b[0;34m.\u001b[0m\u001b[0mreaction_expansion_test\u001b[0m\u001b[0;34m(\u001b[0m\u001b[0mmodel\u001b[0m\u001b[0;34m,\u001b[0m\u001b[0mnoncore_reactions\u001b[0m\u001b[0;34m,\u001b[0m\u001b[0mgapfilling_tests\u001b[0m\u001b[0;34m)\u001b[0m\u001b[0;34m\u001b[0m\u001b[0;34m\u001b[0m\u001b[0m\n\u001b[0m\u001b[1;32m     93\u001b[0m         \u001b[0;31m#Removing filtered reactions\u001b[0m\u001b[0;34m\u001b[0m\u001b[0;34m\u001b[0m\u001b[0;34m\u001b[0m\u001b[0m\n\u001b[1;32m     94\u001b[0m         \u001b[0;32mfor\u001b[0m \u001b[0mitem\u001b[0m \u001b[0;32min\u001b[0m \u001b[0mfiltered\u001b[0m\u001b[0;34m:\u001b[0m\u001b[0;34m\u001b[0m\u001b[0;34m\u001b[0m\u001b[0m\n",
      "\u001b[0;32m~/code/ModelSEEDpy/modelseedpy/core/fbahelper.py\u001b[0m in \u001b[0;36mreaction_expansion_test\u001b[0;34m(model, reaction_list, condition_list)\u001b[0m\n\u001b[1;32m     86\u001b[0m             \u001b[0;32mif\u001b[0m \u001b[0mitem\u001b[0m\u001b[0;34m[\u001b[0m\u001b[0;36m1\u001b[0m\u001b[0;34m]\u001b[0m \u001b[0;34m==\u001b[0m \u001b[0;34m\">\"\u001b[0m \u001b[0;34m:\u001b[0m\u001b[0;34m\u001b[0m\u001b[0;34m\u001b[0m\u001b[0m\n\u001b[1;32m     87\u001b[0m                 \u001b[0mitem\u001b[0m\u001b[0;34m[\u001b[0m\u001b[0;36m0\u001b[0m\u001b[0;34m]\u001b[0m\u001b[0;34m.\u001b[0m\u001b[0mupper_bound\u001b[0m \u001b[0;34m=\u001b[0m \u001b[0moriginal_bound\u001b[0m\u001b[0;34m[\u001b[0m\u001b[0mcount\u001b[0m\u001b[0;34m]\u001b[0m\u001b[0;34m\u001b[0m\u001b[0;34m\u001b[0m\u001b[0m\n\u001b[0;32m---> 88\u001b[0;31m                 \u001b[0;32mif\u001b[0m \u001b[0;32mnot\u001b[0m \u001b[0mFBAHelper\u001b[0m\u001b[0;34m.\u001b[0m\u001b[0mtest_condition_list\u001b[0m\u001b[0;34m(\u001b[0m\u001b[0mmodel\u001b[0m\u001b[0;34m,\u001b[0m\u001b[0mcondition_list\u001b[0m\u001b[0;34m)\u001b[0m\u001b[0;34m:\u001b[0m\u001b[0;34m\u001b[0m\u001b[0;34m\u001b[0m\u001b[0m\n\u001b[0m\u001b[1;32m     89\u001b[0m                     \u001b[0mitem\u001b[0m\u001b[0;34m[\u001b[0m\u001b[0;36m0\u001b[0m\u001b[0;34m]\u001b[0m\u001b[0;34m.\u001b[0m\u001b[0mupper_bound\u001b[0m \u001b[0;34m=\u001b[0m \u001b[0;36m0\u001b[0m\u001b[0;34m\u001b[0m\u001b[0;34m\u001b[0m\u001b[0m\n\u001b[1;32m     90\u001b[0m                     \u001b[0mfiltered_list\u001b[0m\u001b[0;34m.\u001b[0m\u001b[0mappend\u001b[0m\u001b[0;34m(\u001b[0m\u001b[0mitem\u001b[0m\u001b[0;34m)\u001b[0m\u001b[0;34m\u001b[0m\u001b[0;34m\u001b[0m\u001b[0m\n",
      "\u001b[0;32m~/code/ModelSEEDpy/modelseedpy/core/fbahelper.py\u001b[0m in \u001b[0;36mtest_condition_list\u001b[0;34m(model, condition_list)\u001b[0m\n\u001b[1;32m     60\u001b[0m         \u001b[0;32mfor\u001b[0m \u001b[0mcondition\u001b[0m \u001b[0;32min\u001b[0m \u001b[0mcondition_list\u001b[0m\u001b[0;34m:\u001b[0m\u001b[0;34m\u001b[0m\u001b[0;34m\u001b[0m\u001b[0m\n\u001b[1;32m     61\u001b[0m             \u001b[0mpkgmgr\u001b[0m\u001b[0;34m.\u001b[0m\u001b[0mgetpkg\u001b[0m\u001b[0;34m(\u001b[0m\u001b[0;34m\"KBaseMediaPkg\"\u001b[0m\u001b[0;34m)\u001b[0m\u001b[0;34m.\u001b[0m\u001b[0mbuild_package\u001b[0m\u001b[0;34m(\u001b[0m\u001b[0mcondition\u001b[0m\u001b[0;34m[\u001b[0m\u001b[0;34m\"media\"\u001b[0m\u001b[0;34m]\u001b[0m\u001b[0;34m)\u001b[0m\u001b[0;34m\u001b[0m\u001b[0;34m\u001b[0m\u001b[0m\n\u001b[0;32m---> 62\u001b[0;31m             \u001b[0mmodel\u001b[0m\u001b[0;34m.\u001b[0m\u001b[0mobjective\u001b[0m \u001b[0;34m=\u001b[0m \u001b[0mcondition\u001b[0m\u001b[0;34m[\u001b[0m\u001b[0;34m\"objective\"\u001b[0m\u001b[0;34m]\u001b[0m\u001b[0;34m\u001b[0m\u001b[0;34m\u001b[0m\u001b[0m\n\u001b[0m\u001b[1;32m     63\u001b[0m             \u001b[0msol\u001b[0m \u001b[0;34m=\u001b[0m \u001b[0mmodel\u001b[0m\u001b[0;34m.\u001b[0m\u001b[0moptimize\u001b[0m\u001b[0;34m(\u001b[0m\u001b[0;34m)\u001b[0m\u001b[0;34m\u001b[0m\u001b[0;34m\u001b[0m\u001b[0m\n\u001b[1;32m     64\u001b[0m             \u001b[0mprint\u001b[0m\u001b[0;34m(\u001b[0m\u001b[0;34m\"Testing \"\u001b[0m\u001b[0;34m+\u001b[0m\u001b[0mcondition\u001b[0m\u001b[0;34m[\u001b[0m\u001b[0;34m\"media\"\u001b[0m\u001b[0;34m]\u001b[0m\u001b[0;34m.\u001b[0m\u001b[0mname\u001b[0m\u001b[0;34m(\u001b[0m\u001b[0;34m)\u001b[0m\u001b[0;34m+\u001b[0m\u001b[0;34m\":\"\u001b[0m\u001b[0;34m+\u001b[0m\u001b[0mstr\u001b[0m\u001b[0;34m(\u001b[0m\u001b[0msol\u001b[0m\u001b[0;34m.\u001b[0m\u001b[0mobjective_value\u001b[0m\u001b[0;34m)\u001b[0m\u001b[0;34m+\u001b[0m\u001b[0;34m\":\"\u001b[0m\u001b[0;34m+\u001b[0m\u001b[0mstr\u001b[0m\u001b[0;34m(\u001b[0m\u001b[0mcondition\u001b[0m\u001b[0;34m[\u001b[0m\u001b[0;34m\"threshold\"\u001b[0m\u001b[0;34m]\u001b[0m\u001b[0;34m)\u001b[0m\u001b[0;34m)\u001b[0m\u001b[0;34m\u001b[0m\u001b[0;34m\u001b[0m\u001b[0m\n",
      "\u001b[0;31mKeyError\u001b[0m: 'objective'"
     ]
    }
   ],
   "source": [
    "kbase_api = cobrakbase.KBaseAPI()\n",
    "\n",
    "media_names = [\n",
    "    \"Glucose.aerobic\",\n",
    "    \"Acetate.aerobic\",\n",
    "    \"Ethanol.aerobic\",\n",
    "    \"Pyruvate.aerobic\",\n",
    "    \"Glycerol.aerobic\",\n",
    "    \"Fumarate.aerobic\",\n",
    "    \"Succinate.aerobic\",\n",
    "    \"Oxoglutarate.aerobic\",\n",
    "    \"L-Lactate.aerobic\",\n",
    "    \"D-Lactate.aerobic\",\n",
    "    \"Formate.aerobic\",\n",
    "    \"Glucose.anaerobic\",\n",
    "    \"Acetate.anaerobic\",\n",
    "    \"Ethanol.anaerobic\",\n",
    "    \"Pyruatve.anaerobic\",\n",
    "    \"Glycerol.anaerobic\",\n",
    "    \"Fumarate.anaerobic\",\n",
    "    \"Succinate.anaerobic\",\n",
    "    \"Oxoglutarate.anaerobic\",\n",
    "    \"Formate-Nitrite\",\n",
    "    \"Formate-Nitrate\",\n",
    "    \"Glucose-DMSO\",\n",
    "    \"Glucose-TMAO\",\n",
    "    \"Pyruvate-DMSO\",\n",
    "    \"Pyruvate-DMSO\",\n",
    "    \"Pyruvate-Nitric.oxide\",\n",
    "    \"Pyruvate-Nitrite\",\n",
    "    \"Pyruvate-Nitrate\",\n",
    "    \"Pyruvate-Sulfate\",\n",
    "    \"Pyruvate-Sulfite\"#,\n",
    "    #\"Hydrogenotrophic\",\n",
    "    #\"control.media\",\n",
    "    #\"Auxotrphic\"\n",
    "]\n",
    "media_list = []\n",
    "for name in media_names:\n",
    "    media_list.append(kbase_api.get_from_ws(name,94026))\n",
    "model = kbase_api.get_from_ws(\"562.61279.fbamodel\",93541)    \n",
    "MSEditorAPI.add_custom_reaction(model,\"bio2\",MSEquation.build_from_palsson_string(\"cpd00002 + cpd00001 => cpd00008 + cpd00009 + cpd00067\",\"c0\"))\n",
    "template = kbase_api.get_from_ws(\"CoreModelTemplateV3\",\"NewKBaseModelTemplates\")\n",
    "MSATPCorrection.atp_correction(model,template,media_list,atp_objective = \"bio2\",genome_class = None)\n"
   ]
  },
  {
   "cell_type": "code",
   "execution_count": null,
   "metadata": {},
   "outputs": [],
   "source": []
  }
 ],
 "metadata": {
  "kernelspec": {
   "display_name": "Python 3",
   "language": "python",
   "name": "python3"
  },
  "language_info": {
   "codemirror_mode": {
    "name": "ipython",
    "version": 3
   },
   "file_extension": ".py",
   "mimetype": "text/x-python",
   "name": "python",
   "nbconvert_exporter": "python",
   "pygments_lexer": "ipython3",
   "version": "3.7.6"
  }
 },
 "nbformat": 4,
 "nbformat_minor": 4
}
