{
 "cells": [
  {
   "cell_type": "code",
   "execution_count": 1,
   "metadata": {},
   "outputs": [
    {
     "name": "stdout",
     "output_type": "stream",
     "text": [
      "cobrakbase 0.2.7\n"
     ]
    }
   ],
   "source": [
    "import sys\n",
    "import cobra\n",
    "import cobrakbase\n",
    "sys.path.append(\"/Users/chenry/code/ModelSEEDpy\")\n",
    "from modelseedpy import MSATPCorrection,MSEditorAPI,MSEquation,MSBuilder"
   ]
  },
  {
   "cell_type": "code",
   "execution_count": 2,
   "metadata": {},
   "outputs": [
    {
     "ename": "AttributeError",
     "evalue": "'NewModelTemplateReaction' object has no attribute 'compartment'",
     "output_type": "error",
     "traceback": [
      "\u001b[0;31m---------------------------------------------------------------------------\u001b[0m",
      "\u001b[0;31mAttributeError\u001b[0m                            Traceback (most recent call last)",
      "\u001b[0;32m<ipython-input-2-f77887c66351>\u001b[0m in \u001b[0;36m<module>\u001b[0;34m\u001b[0m\n\u001b[1;32m      1\u001b[0m \u001b[0mkbase_api\u001b[0m \u001b[0;34m=\u001b[0m \u001b[0mcobrakbase\u001b[0m\u001b[0;34m.\u001b[0m\u001b[0mKBaseAPI\u001b[0m\u001b[0;34m(\u001b[0m\u001b[0;34m)\u001b[0m\u001b[0;34m\u001b[0m\u001b[0;34m\u001b[0m\u001b[0m\n\u001b[1;32m      2\u001b[0m \u001b[0mtemplate\u001b[0m \u001b[0;34m=\u001b[0m \u001b[0mkbase_api\u001b[0m\u001b[0;34m.\u001b[0m\u001b[0mget_from_ws\u001b[0m\u001b[0;34m(\u001b[0m\u001b[0;34m\"CoreModelTemplateV3\"\u001b[0m\u001b[0;34m,\u001b[0m\u001b[0;34m\"NewKBaseModelTemplates\"\u001b[0m\u001b[0;34m)\u001b[0m\u001b[0;34m\u001b[0m\u001b[0;34m\u001b[0m\u001b[0m\n\u001b[0;32m----> 3\u001b[0;31m \u001b[0mmodel\u001b[0m \u001b[0;34m=\u001b[0m \u001b[0mMSBuilder\u001b[0m\u001b[0;34m.\u001b[0m\u001b[0mbuild_full_template_model\u001b[0m\u001b[0;34m(\u001b[0m\u001b[0mtemplate\u001b[0m\u001b[0;34m)\u001b[0m\u001b[0;34m\u001b[0m\u001b[0;34m\u001b[0m\u001b[0m\n\u001b[0m",
      "\u001b[0;32m~/code/ModelSEEDpy/modelseedpy/core/msbuilder.py\u001b[0m in \u001b[0;36mbuild_full_template_model\u001b[0;34m(template)\u001b[0m\n\u001b[1;32m    475\u001b[0m         \u001b[0mall_reactions\u001b[0m \u001b[0;34m=\u001b[0m \u001b[0;34m[\u001b[0m\u001b[0;34m]\u001b[0m\u001b[0;34m\u001b[0m\u001b[0;34m\u001b[0m\u001b[0m\n\u001b[1;32m    476\u001b[0m         \u001b[0;32mfor\u001b[0m \u001b[0mrxn\u001b[0m \u001b[0;32min\u001b[0m \u001b[0mtemplate\u001b[0m\u001b[0;34m.\u001b[0m\u001b[0mreactions\u001b[0m\u001b[0;34m:\u001b[0m\u001b[0;34m\u001b[0m\u001b[0;34m\u001b[0m\u001b[0m\n\u001b[0;32m--> 477\u001b[0;31m             \u001b[0mreaction\u001b[0m \u001b[0;34m=\u001b[0m \u001b[0mMSBuilder\u001b[0m\u001b[0;34m.\u001b[0m\u001b[0m_build_reaction\u001b[0m\u001b[0;34m(\u001b[0m\u001b[0mrxn\u001b[0m\u001b[0;34m.\u001b[0m\u001b[0mid\u001b[0m\u001b[0;34m,\u001b[0m \u001b[0;34m{\u001b[0m\u001b[0;34m}\u001b[0m\u001b[0;34m,\u001b[0m \u001b[0mtemplate\u001b[0m\u001b[0;34m,\u001b[0m \u001b[0;34m\"0\"\u001b[0m\u001b[0;34m,\u001b[0m \u001b[0;34m\"SBO:0000176\"\u001b[0m\u001b[0;34m)\u001b[0m\u001b[0;34m\u001b[0m\u001b[0;34m\u001b[0m\u001b[0m\n\u001b[0m\u001b[1;32m    478\u001b[0m             \u001b[0mreaction\u001b[0m\u001b[0;34m.\u001b[0m\u001b[0mannotation\u001b[0m\u001b[0;34m[\u001b[0m\u001b[0;34m\"seed.reaction\"\u001b[0m\u001b[0;34m]\u001b[0m \u001b[0;34m=\u001b[0m \u001b[0mrxn\u001b[0m\u001b[0;34m.\u001b[0m\u001b[0mid\u001b[0m\u001b[0;34m\u001b[0m\u001b[0;34m\u001b[0m\u001b[0m\n\u001b[1;32m    479\u001b[0m             \u001b[0mall_reactions\u001b[0m\u001b[0;34m.\u001b[0m\u001b[0mappend\u001b[0m\u001b[0;34m(\u001b[0m\u001b[0mreaction\u001b[0m\u001b[0;34m)\u001b[0m\u001b[0;34m\u001b[0m\u001b[0;34m\u001b[0m\u001b[0m\n",
      "\u001b[0;32m~/code/ModelSEEDpy/modelseedpy/core/msbuilder.py\u001b[0m in \u001b[0;36m_build_reaction\u001b[0;34m(reaction_id, gpr_set, template, index, sbo)\u001b[0m\n\u001b[1;32m    372\u001b[0m         \u001b[0mtemplate_reaction\u001b[0m \u001b[0;34m=\u001b[0m \u001b[0mtemplate\u001b[0m\u001b[0;34m.\u001b[0m\u001b[0mreactions\u001b[0m\u001b[0;34m.\u001b[0m\u001b[0mget_by_id\u001b[0m\u001b[0;34m(\u001b[0m\u001b[0mreaction_id\u001b[0m\u001b[0;34m)\u001b[0m\u001b[0;34m\u001b[0m\u001b[0;34m\u001b[0m\u001b[0m\n\u001b[1;32m    373\u001b[0m \u001b[0;34m\u001b[0m\u001b[0m\n\u001b[0;32m--> 374\u001b[0;31m         \u001b[0mreaction_compartment\u001b[0m \u001b[0;34m=\u001b[0m \u001b[0mtemplate_reaction\u001b[0m\u001b[0;34m.\u001b[0m\u001b[0mcompartment\u001b[0m\u001b[0;34m\u001b[0m\u001b[0;34m\u001b[0m\u001b[0m\n\u001b[0m\u001b[1;32m    375\u001b[0m         \u001b[0mmetabolites\u001b[0m \u001b[0;34m=\u001b[0m \u001b[0;34m{\u001b[0m\u001b[0;34m}\u001b[0m\u001b[0;34m\u001b[0m\u001b[0;34m\u001b[0m\u001b[0m\n\u001b[1;32m    376\u001b[0m \u001b[0;34m\u001b[0m\u001b[0m\n",
      "\u001b[0;31mAttributeError\u001b[0m: 'NewModelTemplateReaction' object has no attribute 'compartment'"
     ]
    }
   ],
   "source": [
    "kbase_api = cobrakbase.KBaseAPI()\n",
    "template = kbase_api.get_from_ws(\"CoreModelTemplateV3\",\"NewKBaseModelTemplates\")\n",
    "model = MSBuilder.build_full_template_model(template)"
   ]
  },
  {
   "cell_type": "code",
   "execution_count": null,
   "metadata": {
    "scrolled": true
   },
   "outputs": [],
   "source": [
    "kbase_api = cobrakbase.KBaseAPI()\n",
    "\n",
    "media_names = [\n",
    "    \"Glucose.aerobic\",\n",
    "    \"Acetate.aerobic\",\n",
    "    \"Ethanol.aerobic\",\n",
    "    \"Pyruvate.aerobic\",\n",
    "    \"Glycerol.aerobic\",\n",
    "    \"Fumarate.aerobic\",\n",
    "    \"Succinate.aerobic\",\n",
    "    \"Oxoglutarate.aerobic\",\n",
    "    \"L-Lactate.aerobic\",\n",
    "    \"D-Lactate.aerobic\",\n",
    "    \"Formate.aerobic\",\n",
    "    \"Glucose.anaerobic\",\n",
    "    \"Acetate.anaerobic\",\n",
    "    \"Ethanol.anaerobic\",\n",
    "    \"Pyruatve.anaerobic\",\n",
    "    \"Glycerol.anaerobic\",\n",
    "    \"Fumarate.anaerobic\",\n",
    "    \"Succinate.anaerobic\",\n",
    "    \"Oxoglutarate.anaerobic\",\n",
    "    \"Formate-Nitrite\",\n",
    "    \"Formate-Nitrate\",\n",
    "    \"Glucose-DMSO\",\n",
    "    \"Glucose-TMAO\",\n",
    "    \"Pyruvate-DMSO\",\n",
    "    \"Pyruvate-DMSO\",\n",
    "    \"Pyruvate-Nitric.oxide\",\n",
    "    \"Pyruvate-Nitrite\",\n",
    "    \"Pyruvate-Nitrate\",\n",
    "    \"Pyruvate-Sulfate\",\n",
    "    \"Pyruvate-Sulfite\"#,\n",
    "    #\"Hydrogenotrophic\",\n",
    "    #\"control.media\",\n",
    "    #\"Auxotrphic\"\n",
    "]\n",
    "media_list = []\n",
    "for name in media_names:\n",
    "    media_list.append(kbase_api.get_from_ws(name,94026))\n",
    "model = kbase_api.get_from_ws(\"562.61279.fbamodel\",93541)    \n",
    "MSEditorAPI.add_custom_reaction(model,\"bio2\",MSEquation.build_from_palsson_string(\"cpd00002 + cpd00001 => cpd00008 + cpd00009 + cpd00067\",\"c0\"))\n",
    "template = kbase_api.get_from_ws(\"CoreModelTemplateV3\",\"NewKBaseModelTemplates\")\n",
    "MSATPCorrection.atp_correction(model,template,media_list,atp_objective = \"bio2\",genome_class = None)\n"
   ]
  },
  {
   "cell_type": "code",
   "execution_count": null,
   "metadata": {},
   "outputs": [],
   "source": []
  }
 ],
 "metadata": {
  "kernelspec": {
   "display_name": "Python 3",
   "language": "python",
   "name": "python3"
  },
  "language_info": {
   "codemirror_mode": {
    "name": "ipython",
    "version": 3
   },
   "file_extension": ".py",
   "mimetype": "text/x-python",
   "name": "python",
   "nbconvert_exporter": "python",
   "pygments_lexer": "ipython3",
   "version": "3.7.6"
  }
 },
 "nbformat": 4,
 "nbformat_minor": 4
}
