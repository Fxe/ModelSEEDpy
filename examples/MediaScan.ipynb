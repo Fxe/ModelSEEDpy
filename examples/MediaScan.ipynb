{
 "cells": [
  {
   "cell_type": "code",
   "execution_count": 2,
   "metadata": {},
   "outputs": [],
   "source": [
    "import cobra\n",
    "from cobra.flux_analysis.parsimonious import pfba\n",
    "import cobrakbase\n",
    "import sys\n",
    "sys.path.append(\"/Users/chenry/code/ModelSEEDpy\")\n",
    "from modelseedpy import KBaseMediaPkg\n"
   ]
  },
  {
   "cell_type": "code",
   "execution_count": null,
   "metadata": {},
   "outputs": [
    {
     "name": "stdout",
     "output_type": "stream",
     "text": [
      "Media\tGrowth\n",
      "\n",
      "Sulfate-L-Arabitol\t0.0\n",
      "Sulfate-Cystathionine\t0.0\n",
      "Sulfate-N-Acetyl-D-galactosamine\t0.0\n",
      "Sulfate-Uridine\t0.0\n",
      "Phosphate-Cytidine-2-Monophosphate\t0.0\n",
      "Nitrogen-L-Pyroglutamic-Acid\t0.0\n",
      "Sulfate-L-Lysine\t0.0\n",
      "Sulfate-D-Arabitol\t0.0\n",
      "Carbon-L-Malic-Acid\t0.0\n",
      "Carbon-D-Psicose\t0.0\n",
      "Carbon-N-Acetyl-L-Glutamic-Acid\t0.0\n",
      "Nitrogen-Nitrite\t0.0\n",
      "Nitrogen-Xanthine\t0.0\n",
      "Sulfate-Tyramine\t0.0\n",
      "Carbon-Mucic-Acid\t0.0\n",
      "Sulfate-Citrate\t0.0\n",
      "Sulfate-Maltotriose\t0.0\n",
      "Sulfate-1H-Imidazole-4-ethanamin\t0.0\n",
      "Nitrogen-L-Glutamine\t0.0\n",
      "Sulfate-Glycerone\t0.0\n",
      "Nitrogen-b-Phenylethylamine\t0.0\n",
      "Sulfate-Cysteamine\t0.0\n",
      "Sulfate-6-Deoxy-D-galactose\t0.0\n",
      "Carbon-D-Gluconic-Acid\t0.0\n",
      "Nitrogen-L-Proline\t0.0\n",
      "Nitrogen-Glycine\t0.0\n",
      "Nitrogen-Nitrate\t0.0\n",
      "Sulfate-Dextrin\t0.0\n",
      "Carbon-L-Asparagine\t0.0\n",
      "Phosphate-D-2-Phospho-Glyceric-Acid\t0.0\n",
      "Carbon-Tyramine\t0.0\n",
      "Sulfate-NH3\t0.0\n",
      "Sulfate-Galactitol\t0.0\n",
      "Complete\t0.0\n",
      "Nitrogen-L-Asparagine\t0.0\n",
      "Sulfate-Biuret\t0.0\n"
     ]
    }
   ],
   "source": [
    "kbase_api = cobrakbase.KBaseAPI()\n",
    "#Getting B. theta model out of KBase\n",
    "model = kbase_api.get_from_ws(\"E_iML1515.kb\",40576)\n",
    "#Creating KBase media package for assigning constraints based on media\n",
    "kmp = KBaseMediaPkg(model)\n",
    "#Getting list of all media in KBase\n",
    "media_list = kbase_api.list_objects(\"KBaseMedia\")\n",
    "print(\"Media\\tGrowth\")\n",
    "for media_info in media_list:\n",
    "    #Getting media object data\n",
    "    media = kbase_api.get_from_ws(media_info[1],media_info[6])\n",
    "    #Constraining model based on media\n",
    "    kmp.build_package(media)\n",
    "    #Optimizing model\n",
    "    solution=model.optimize()\n",
    "    #Printing predicted growth rate in media\n",
    "    print(media_info[1]+\"\\t\"+str(solution.objective_value))"
   ]
  },
  {
   "cell_type": "code",
   "execution_count": null,
   "metadata": {},
   "outputs": [],
   "source": []
  }
 ],
 "metadata": {
  "kernelspec": {
   "display_name": "Python 3",
   "language": "python",
   "name": "python3"
  },
  "language_info": {
   "codemirror_mode": {
    "name": "ipython",
    "version": 3
   },
   "file_extension": ".py",
   "mimetype": "text/x-python",
   "name": "python",
   "nbconvert_exporter": "python",
   "pygments_lexer": "ipython3",
   "version": "3.7.6"
  }
 },
 "nbformat": 4,
 "nbformat_minor": 4
}
