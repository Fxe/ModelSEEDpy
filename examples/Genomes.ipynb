{
 "cells": [
  {
   "cell_type": "code",
   "execution_count": 1,
   "metadata": {},
   "outputs": [],
   "source": [
    "import modelseedpy\n",
    "from modelseedpy.core.msgenome import MSGenome, parse_fasta_str\n",
    "from modelseedpy.core.rast_client import RastClient"
   ]
  },
  {
   "cell_type": "code",
   "execution_count": 19,
   "metadata": {},
   "outputs": [],
   "source": [
    "from modelseedpy.core.msgenome import MSFeature\n",
    "def parse_fasta_str(faa_str, split='|'):\n",
    "    lines = faa_str.split('\\n')\n",
    "    features = []\n",
    "    seq = None\n",
    "    for line in lines:\n",
    "        if line.startswith('>'):\n",
    "            if seq:\n",
    "                features.append(seq)\n",
    "            seq_id = line[1:]\n",
    "            desc = \"\"\n",
    "            if split:\n",
    "                header_data = line[1:].split(split, 1)\n",
    "                seq_id = header_data[0]\n",
    "                desc = header_data[1]\n",
    "\n",
    "            seq = MSFeature(seq_id, \"\", desc)\n",
    "        else:\n",
    "            if seq:\n",
    "                seq.seq += line\n",
    "    if seq and seq.seq and len(seq.seq) > 0:\n",
    "        features.append(seq)\n",
    "    return features"
   ]
  },
  {
   "cell_type": "code",
   "execution_count": 4,
   "metadata": {},
   "outputs": [],
   "source": [
    "    faa_str = \"\"\"\n",
    "    >NP_414543.1 fused aspartate kinase/homoserine dehydrogenase 1\n",
    "    MRVLKFGGTSVANAERFLRVADILESNARQGQVATVLSAPAKITNHLVAMIEKTISGQDALPNISDAERIFAELLTGLAA\n",
    "    AQPGFPLAQLKTFVDQEFAQIKHVLHGISLLGQCPDSINAALICRGEKMSIAIMAGVLEARGHNVTVIDPVEKLLAVGHY\n",
    "    LESTVDIAESTRRIAASRIPADHMVLMAGFTAGNEKGELVVLGRNGSDYSAAVLAACLRADCCEIWTDVDGVYTCDPRQV\n",
    "    PDARLLKSMSYQEAMELSYFGAKVLHPRTITPIAQFQIPCLIKNTGNPQAPGTLIGASRDEDELPVKGISNLNNMAMFSV\n",
    "    SGPGMKGMVGMAARVFAAMSRARISVVLITQSSSEYSISFCVPQSDCVRAERAMQEEFYLELKEGLLEPLAVTERLAIIS\n",
    "    VVGDGMRTLRGISAKFFAALARANINIVAIAQGSSERSISVVVNNDDATTGVRVTHQMLFNTDQVIEVFVIGVGGVGGAL\n",
    "    LEQLKRQQSWLKNKHIDLRVCGVANSKALLTNVHGLNLENWQEELAQAKEPFNLGRLIRLVKEYHLLNPVIVDCTSSQAV\n",
    "    ADQYADFLREGFHVVTPNKKANTSSMDYYHQLRYAAEKSRRKFLYDTNVGAGLPVIENLQNLLNAGDELMKFSGILSGSL\n",
    "    SYIFGKLDEGMSFSEATTLAREMGYTEPDPRDDLSGMDVARKLLILARETGRELELADIEIEPVLPAEFNAEGDVAAFMA\n",
    "    NLSQLDDLFAARVAKARDEGKVLRYVGNIDEDGVCRVKIAEVDGNDPLFKVKNGENALAFYSHYYQPLPLVLRGYGAGND\n",
    "    VTAAGVFADLLRTLSWKLGV\n",
    "    >NP_414544.1 homoserine kinase\n",
    "    MVKVYAPASSANMSVGFDVLGAAVTPVDGALLGDVVTVEAAETFSLNNLGRFADKLPSEPRENIVYQCWERFCQELGKQI\n",
    "    PVAMTLEKNMPIGSGLGSSACSVVAALMAMNEHCGKPLNDTRLLALMGELEGRISGSIHYDNVAPCFLGGMQLMIEENDI\n",
    "    ISQQVPGFDEWLWVLAYPGIKVSTAEARAILPAQYRRQDCIAHGRHLAGFIHACYSRQPELAAKLMKDVIAEPYRERLLP\n",
    "    GFRQARQAVAEIGAVASGISGSGPTLFALCDKPETAQRVADWLGKNYLQNQEGFVHICRLDTAGARVLEN\n",
    "    \"\"\"\n",
    "    features = parse_fasta_str(faa_str, ' ')\n",
    "    assert len(features) == 2"
   ]
  },
  {
   "cell_type": "code",
   "execution_count": 9,
   "metadata": {},
   "outputs": [
    {
     "data": {
      "text/plain": [
       "820"
      ]
     },
     "execution_count": 9,
     "metadata": {},
     "output_type": "execute_result"
    }
   ],
   "source": [
    "len(features[0].seq)"
   ]
  },
  {
   "cell_type": "code",
   "execution_count": 2,
   "metadata": {},
   "outputs": [],
   "source": [
    "rast = RastClient()"
   ]
  },
  {
   "cell_type": "code",
   "execution_count": 18,
   "metadata": {},
   "outputs": [],
   "source": [
    "genome = MSGenome.from_fasta('GCF_000005845.2.faa', split=' ')"
   ]
  },
  {
   "cell_type": "code",
   "execution_count": 19,
   "metadata": {},
   "outputs": [
    {
     "name": "stdout",
     "output_type": "stream",
     "text": [
      "Number of features: 3\n"
     ]
    }
   ],
   "source": [
    "print('Number of features:', len(genome.features))"
   ]
  },
  {
   "cell_type": "code",
   "execution_count": 20,
   "metadata": {},
   "outputs": [
    {
     "name": "stdout",
     "output_type": "stream",
     "text": [
      "NP_414543.1 820 fused aspartate kinase/homoserine dehydrogenase 1 [Escherichia coli str. K-12 substr. MG1655]\n",
      "NP_414544.1 310 homoserine kinase [Escherichia coli str. K-12 substr. MG1655]\n",
      "NP_414545.1 428 threonine synthase [Escherichia coli str. K-12 substr. MG1655]\n"
     ]
    }
   ],
   "source": [
    "for f in genome.features:\n",
    "    print(f.id, len(f.seq), f.description)"
   ]
  },
  {
   "cell_type": "code",
   "execution_count": null,
   "metadata": {},
   "outputs": [],
   "source": []
  },
  {
   "cell_type": "code",
   "execution_count": 14,
   "metadata": {},
   "outputs": [
    {
     "data": {
      "text/plain": [
       "[{'execution_time': 1622756127.36331,\n",
       "  'tool_name': 'kmer_search',\n",
       "  'hostname': 'pear',\n",
       "  'parameters': ['-a',\n",
       "   '-g',\n",
       "   200,\n",
       "   '-m',\n",
       "   5,\n",
       "   '-d',\n",
       "   '/opt/patric-common/data/kmer_metadata_v2',\n",
       "   '-u',\n",
       "   'http://pear.mcs.anl.gov:6100/query'],\n",
       "  'id': '9CCA6D20-C4B3-11EB-A893-36A8BEF382BD'},\n",
       " {'parameters': ['annotate_hypothetical_only=1',\n",
       "   'dataset_name=Release70',\n",
       "   'kmer_size=8'],\n",
       "  'hostname': 'pear',\n",
       "  'tool_name': 'KmerAnnotationByFigfam',\n",
       "  'id': '9CE3769E-C4B3-11EB-A893-36A8BEF382BD',\n",
       "  'execution_time': 1622756127.52738},\n",
       " {'execute_time': 1622756127.88296,\n",
       "  'hostname': 'pear',\n",
       "  'parameters': [],\n",
       "  'tool_name': 'annotate_proteins_similarity',\n",
       "  'id': '9D19B7EA-C4B3-11EB-9714-71B3BDF382BD'}]"
      ]
     },
     "execution_count": 14,
     "metadata": {},
     "output_type": "execute_result"
    }
   ],
   "source": [
    "rast.annotate_genome(genome)"
   ]
  },
  {
   "cell_type": "markdown",
   "metadata": {},
   "source": [
    "### Equivalent call from the client it self"
   ]
  },
  {
   "cell_type": "code",
   "execution_count": 15,
   "metadata": {},
   "outputs": [],
   "source": [
    "#genome, res = rast.annotate_genome_from_fasta('GCF_000005845.2_ASM584v2_protein.faa', split=' ')\n",
    "#res"
   ]
  },
  {
   "cell_type": "code",
   "execution_count": null,
   "metadata": {},
   "outputs": [],
   "source": []
  },
  {
   "cell_type": "code",
   "execution_count": null,
   "metadata": {},
   "outputs": [],
   "source": []
  },
  {
   "cell_type": "code",
   "execution_count": 22,
   "metadata": {},
   "outputs": [],
   "source": []
  },
  {
   "cell_type": "code",
   "execution_count": null,
   "metadata": {},
   "outputs": [],
   "source": []
  },
  {
   "cell_type": "code",
   "execution_count": 8,
   "metadata": {},
   "outputs": [],
   "source": []
  },
  {
   "cell_type": "code",
   "execution_count": null,
   "metadata": {},
   "outputs": [],
   "source": []
  },
  {
   "cell_type": "code",
   "execution_count": 34,
   "metadata": {},
   "outputs": [],
   "source": [
    "feature = genome.features.get_by_id('YP_588478.1')"
   ]
  },
  {
   "cell_type": "code",
   "execution_count": 36,
   "metadata": {},
   "outputs": [
    {
     "data": {
      "text/plain": [
       "{'RAST': 'DUF1435 domain-containing protein YjjZ [Escherichia coli str. K-12 substr. MG1655]'}"
      ]
     },
     "execution_count": 36,
     "metadata": {},
     "output_type": "execute_result"
    }
   ],
   "source": [
    "feature.ontology_terms"
   ]
  },
  {
   "cell_type": "code",
   "execution_count": null,
   "metadata": {},
   "outputs": [],
   "source": [
    "feature.add_ontology_term('')"
   ]
  }
 ],
 "metadata": {
  "kernelspec": {
   "display_name": "Python 3",
   "language": "python",
   "name": "python3"
  },
  "language_info": {
   "codemirror_mode": {
    "name": "ipython",
    "version": 3
   },
   "file_extension": ".py",
   "mimetype": "text/x-python",
   "name": "python",
   "nbconvert_exporter": "python",
   "pygments_lexer": "ipython3",
   "version": "3.7.4"
  }
 },
 "nbformat": 4,
 "nbformat_minor": 4
}
