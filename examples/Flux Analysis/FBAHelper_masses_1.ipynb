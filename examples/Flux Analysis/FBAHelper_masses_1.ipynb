{
 "cells": [
  {
   "cell_type": "markdown",
   "metadata": {},
   "source": [
    "# Import the modules"
   ]
  },
  {
   "cell_type": "code",
   "execution_count": 1,
   "metadata": {},
   "outputs": [
    {
     "name": "stdout",
     "output_type": "stream",
     "text": [
      "cobrakbase 0.2.8\n"
     ]
    }
   ],
   "source": [
    "# import kbase\n",
    "import os\n",
    "local_cobrakbase_path = 'C:\\\\Users\\\\Andrew Freiburger\\\\Dropbox\\\\My PC (DESKTOP-M302P50)\\\\Documents\\\\UVic Civil Engineering\\\\Internships\\\\Agronne\\\\cobrakbase'\n",
    "os.environ[\"HOME\"] = local_cobrakbase_path\n",
    "import cobrakbase\n",
    "token = 'TKWQA762H2SMAYRES3BFUP37LKGNGQSM'\n",
    "kbase = cobrakbase.KBaseAPI(token)\n",
    "\n",
    "# import Chemicals and the FBAHelper\n",
    "from chemicals import periodic_table\n",
    "from modelseedpy.core import fbahelper\n",
    "# %run ../../../TFA/ModelSEEDpy/modelseedpy/core/fbahelper.py"
   ]
  },
  {
   "cell_type": "markdown",
   "metadata": {},
   "source": [
    "### Demonstrate the metabolite_mw function"
   ]
  },
  {
   "cell_type": "code",
   "execution_count": 2,
   "metadata": {},
   "outputs": [
    {
     "name": "stderr",
     "output_type": "stream",
     "text": [
      "WARNING:cobrakbase.core.kbasefba.fbamodel_builder:unable to add sink for [cpd15302_c0]: not found\n",
      "WARNING:cobrakbase.core.kbasefba.fbamodel_builder:unable to add sink for [cpd11416_c0]: not found\n",
      "WARNING:cobrakbase.core.kbasefba.fbamodel_builder:unable to add sink for [cpd02701_c0]: not found\n"
     ]
    },
    {
     "name": "stdout",
     "output_type": "stream",
     "text": [
      "Pyruvate_e0: \t\t\t 87.05412\n",
      "3-Phosphoglycerate_c0: \t\t\t 183.033421\n",
      "Pyruvate_c0: \t\t\t 87.05412\n",
      "Ubiquinol-8_c0: \t\t\t 729.12534\n",
      "Phosphate_e0: \t\t\t 95.97930099999999\n",
      "D-Xylulose5-phosphate_c0: \t\t\t 228.093921\n",
      "2-Phospho-D-glycerate_c0: \t\t\t 183.033421\n",
      "L-Glutamate_e0: \t\t\t 146.12132\n",
      "D-Glucose_e0: \t\t\t 180.15588\n",
      "L-Glutamate_c0: \t\t\t 146.12132\n",
      "Glyceraldehyde3-phosphate_c0: \t\t\t 168.041961\n",
      "D-Erythrose4-phosphate_c0: \t\t\t 198.067941\n",
      "Phosphate_c0: \t\t\t 95.97930099999999\n",
      "6-phospho-D-glucono-1-5-lactone_c0: \t\t\t 256.104021\n",
      "D-Lactate_e0: \t\t\t 89.07\n",
      "cis-Aconitate_c0: \t\t\t 171.08442\n",
      "D-Lactate_c0: \t\t\t 89.07\n",
      "Oxaloacetate_c0: \t\t\t 130.05568\n",
      "CoA_c0: \t\t\t 763.5023630000001\n",
      "D-Ribulose5-phosphate_c0: \t\t\t 228.093921\n",
      "ATP_c0: \t\t\t 504.157203\n",
      "NADH_c0: \t\t\t 663.425102\n",
      "O2_e0: \t\t\t 31.9988\n",
      "L-Glutamine_e0: \t\t\t 146.1445\n",
      "O2_c0: \t\t\t 31.9988\n",
      "L-Glutamine_c0: \t\t\t 146.1445\n",
      "NADP_c0: \t\t\t 740.3811830000001\n",
      "Acetaldehyde_e0: \t\t\t 44.05256\n",
      "H+_c0: \t\t\t 1.00794\n",
      "Acetaldehyde_c0: \t\t\t 44.05256\n",
      "NH3_e0: \t\t\t 18.03846\n",
      "H+_e0: \t\t\t 1.00794\n",
      "NADPH_c0: \t\t\t 741.389123\n",
      "NH3_c0: \t\t\t 18.03846\n",
      "H2O_e0: \t\t\t 18.01528\n",
      "CO2_e0: \t\t\t 44.0095\n",
      "H2O_c0: \t\t\t 18.01528\n",
      "CO2_c0: \t\t\t 44.0095\n",
      "Acetyl-CoA_c0: \t\t\t 805.539043\n",
      "ADP_c0: \t\t\t 425.18524199999996\n",
      "Glycerone-phosphate_c0: \t\t\t 168.041961\n",
      "Citrate_c0: \t\t\t 189.09969999999998\n",
      "Fumarate_c0: \t\t\t 114.05628\n",
      "D-fructose-6-phosphate_c0: \t\t\t 258.119901\n",
      "Fumarate_e0: \t\t\t 114.05628\n",
      "ribose-5-phosphate_c0: \t\t\t 228.093921\n",
      "Ethanol_c0: \t\t\t 46.06844\n",
      "6-Phospho-D-gluconate_c0: \t\t\t 273.111361\n",
      "2-Oxoglutarate_c0: \t\t\t 144.08226000000002\n",
      "D-fructose-1,6-bisphosphate_c0: \t\t\t 336.083922\n",
      "AMP_c0: \t\t\t 345.20534100000003\n",
      "Formate_e0: \t\t\t 45.01744\n",
      "NAD_c0: \t\t\t 662.4171620000001\n",
      "2-Oxoglutarate_e0: \t\t\t 144.08226000000002\n",
      "Formate_c0: \t\t\t 45.01744\n",
      "1,3-Bisphospho-D-glycerate_c0: \t\t\t 262.005382\n",
      "Succinyl-CoA_c0: \t\t\t 862.5671829999999\n",
      "Succinate_e0: \t\t\t 116.07216\n",
      "Glyoxalate_c0: \t\t\t 73.02754\n",
      "Succinate_c0: \t\t\t 116.07216\n",
      "Isocitrate_c0: \t\t\t 189.09969999999998\n",
      "L-Malate_c0: \t\t\t 132.07156\n",
      "L-Malate_e0: \t\t\t 132.07156\n",
      "Ubiquinone-8_c0: \t\t\t 727.1094600000001\n",
      "Acetylphosphate_c0: \t\t\t 138.015981\n",
      "D-Fructose_e0: \t\t\t 180.15588\n",
      "D-glucose-6-phosphate_c0: \t\t\t 258.119901\n",
      "Acetate_c0: \t\t\t 59.04402\n",
      "Sedoheptulose7-phosphate_c0: \t\t\t 288.14588100000003\n",
      "Acetate_e0: \t\t\t 59.04402\n",
      "Ethanol_e0: \t\t\t 46.06844\n",
      "Phosphoenolpyruvate_c0: \t\t\t 165.01814099999999\n"
     ]
    }
   ],
   "source": [
    "# import the FBAHelper and the Ecoli core model\n",
    "fbah = fbahelper.FBAHelper()\n",
    "model = kbase.get_from_ws('e_coli_core.kb', 95098)\n",
    "\n",
    "for metabolite in model.metabolites:\n",
    "    metabolite_mass = fbah.metabolite_mw(metabolite)\n",
    "    print(f'{metabolite.name}: \\t\\t\\t', metabolite_mass)"
   ]
  }
 ],
 "metadata": {
  "kernelspec": {
   "display_name": "Python 3",
   "language": "python",
   "name": "python3"
  },
  "language_info": {
   "codemirror_mode": {
    "name": "ipython",
    "version": 3
   },
   "file_extension": ".py",
   "mimetype": "text/x-python",
   "name": "python",
   "nbconvert_exporter": "python",
   "pygments_lexer": "ipython3",
   "version": "3.7.4"
  }
 },
 "nbformat": 4,
 "nbformat_minor": 2
}
