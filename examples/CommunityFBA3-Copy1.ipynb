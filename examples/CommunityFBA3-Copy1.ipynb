{
 "cells": [
  {
   "cell_type": "code",
   "execution_count": 1,
   "metadata": {},
   "outputs": [
    {
     "name": "stdout",
     "output_type": "stream",
     "text": [
      "cobrakbase 0.2.8\n"
     ]
    }
   ],
   "source": [
    "import cobra\n",
    "from cobra import Model, Reaction, Metabolite\n",
    "import pandas as pd\n",
    "import cplex\n",
    "import optlang\n",
    "import math\n",
    "import json\n",
    "import sys\n",
    "import cProfile\n",
    "from optlang.symbolics import Zero, add\n",
    "import cobra.util.solver as sutil\n",
    "from cobra.flux_analysis.parsimonious import pfba\n",
    "from IPython.core.display import HTML\n",
    "\n",
    "import os\n",
    "os.environ[\"HOME\"] = 'C:\\\\Users\\\\Andrew Freiburger\\\\Dropbox\\\\My PC (DESKTOP-M302P50)\\\\Documents\\\\UVic Civil Engineering\\\\Internships\\\\Agronne\\\\cobrakbase'\n",
    "import cobrakbase\n",
    "token = 'I6WL7MAW5Z4QO3OQ62YUR6HJM6RAUFHE'\n",
    "kbase = cobrakbase.KBaseAPI(token)\n",
    "sys.path.append(\"/Users/chandhanavoleti/Dropbox/My PC (DESKTOP-M302P50)/Documents/UVic Civil Engineering/Internships/Agronne/ModelSEEDpy/ModelSEEDpy\")\n",
    "#import modelseedpy.fbapkg\n",
    "from modelseedpy import ElementUptakePkg, SimpleThermoPkg, ReactionUsePkg, BilevelPkg, CommKineticPkg, KBaseMediaPkg\n",
    "\n",
    "from collections import Counter\n",
    "import numpy as np\n",
    "from itertools import combinations\n",
    "import networkx as nx\n"
   ]
  },
  {
   "cell_type": "code",
   "execution_count": 12,
   "metadata": {},
   "outputs": [],
   "source": [
    "def communityFBA(modelInfo,mediaInfo,kinetic_coeff,abundances=None):\n",
    "    # import the model and media\n",
    "    model = kbase.get_from_ws(modelInfo[0],modelInfo[1])\n",
    "    media = kbase.get_from_ws(mediaInfo[0],mediaInfo[1])\n",
    "    kmp = KBaseMediaPkg(model)\n",
    "    kmp.build_package(media)\n",
    "    model.solver = 'optlang-cplex'\n",
    "    \n",
    "    # applying uptake limit to total carbon uptake by model\n",
    "    '''eup = ElementUptakePkg(model)\n",
    "    eup.build_package({\"C\":60})\n",
    "    '''\n",
    "    \n",
    "    # applying community model kinetic constraints\n",
    "    '''ckp = CommKineticPkg(model)\n",
    "    ckp.build_package(kinetic_coeff,abundances)\n",
    "    '''\n",
    "\n",
    "    biomass_objective = model.problem.Objective(\n",
    "        1 * model.reactions.bio1.flux_expression,\n",
    "        direction='max')\n",
    "    model.objective = biomass_objective\n",
    "\n",
    "    # FBA\n",
    "    sol=model.optimize()\n",
    "    \n",
    "    # pFBA\n",
    "#     sol = cobra.flux_analysis.pfba(model)\n",
    "    \n",
    "    #print(model.summary())\n",
    "\n",
    "    # calculate the metabolic exchanges\n",
    "    metabolite_uptake = {}\n",
    "    compartment_numbers = []\n",
    "    for rxn in model.reactions:\n",
    "        if rxn.id[-2] == ('c' or 'p'):\n",
    "            if rxn.id[-1] != '0' and rxn.id[-1] != 0:\n",
    "                compartment_number = rxn.id[-1]\n",
    "                '''print(compartment_number, '\\t', rxn.id)'''\n",
    "                if not re.search('[a-z]',compartment_number, re.IGNORECASE):\n",
    "                    compartment_numbers.append(compartment_number)\n",
    "                '''else:\n",
    "                    print('--->', compartment_number, '\\t', rxn.id)'''\n",
    "\n",
    "\n",
    "                for metabolite in rxn.metabolites:\n",
    "                    if metabolite.compartment == \"e0\":\n",
    "                        rate_law = 0\n",
    "                        flux = solution.fluxes[rxn.id]\n",
    "                        if flux != 0:\n",
    "                            rate_law += rxn.metabolites[metabolite]*flux\n",
    "                            metabolite_uptake[(metabolite.id,compartment_number)] = rate_law\n",
    "\n",
    "    compartment_numbers = unique(compartment_numbers)\n",
    "    number_of_compartments = len(compartment_numbers)\n",
    "\n",
    "    # Cross feeding\n",
    "    external_metabolites = []\n",
    "    for rxn in model.reactions:\n",
    "        for metabolite in rxn.metabolites:\n",
    "            if metabolite.compartment == \"e0\":\n",
    "                external_metabolites.append(metabolite.id)\n",
    "\n",
    "    cross_all = []\n",
    "    for metabolite in external_metabolites:\n",
    "        r_out = {x: r for (m, x), r in metabolite_uptake.items() if m == metabolite and r > 0}\n",
    "        r_in = {x: -r for (m, x), r in metabolite_uptake.items() if m == metabolite and -r > 0}\n",
    "        total_in = sum(r_in.values())\n",
    "        total_out = sum(r_out.values())\n",
    "        total = max(total_in, total_out)\n",
    "        if total_in > total_out:\n",
    "            r_out[None] = total_in - total_out\n",
    "        if total_out > total_in:\n",
    "            r_in[None] = total_out - total_in\n",
    "\n",
    "        cross = [(o1, o2, metabolite, r1 * r2 / total) for o1, r1 in r_out.items() for o2, r2 in r_in.items()]\n",
    "        cross_all.extend(cross) # [donor, receiver, compound, rate]\n",
    "\n",
    "    production = [[0] * numOfSpecies for i in range(numOfSpecies)] #production[donorSpecies][receiverSpecies]\n",
    "    consumption = [[0] * numOfSpecies for i in range(numOfSpecies)]\n",
    "\n",
    "    for i in cross_all:\n",
    "        if i[0] is not None and i[1] is not None:\n",
    "            production[int(i[0])-1][int(i[1])-1] += i[3]\n",
    "            consumption[int(i[1])-1][int(i[0])-1] += i[3]\n",
    "    \n",
    "    graph=nx.Graph()\n",
    "    for i in speciesNum:\n",
    "        graph.add_node(i)\n",
    "    for k in combinations(speciesNum, 2):\n",
    "        sp1 = int(k[0])-1\n",
    "        sp2 = int(k[1])-1\n",
    "        if production[sp1][sp2] > consumption[sp2][sp1]:\n",
    "            interaction_flux = production[sp1][sp2]\n",
    "        else:\n",
    "            interaction_flux = consumption[sp2][sp1]\n",
    "        graph.add_edge(k[0],k[1],weight=interaction_flux)\n",
    "\n",
    "    pos=nx.circular_layout(graph)\n",
    "    nx.draw_networkx(graph,pos)\n",
    "    labels = nx.get_edge_attributes(graph,'weight')\n",
    "    nx.draw_networkx_edge_labels(graph,pos,edge_labels=labels)"
   ]
  },
  {
   "cell_type": "code",
   "execution_count": 13,
   "metadata": {},
   "outputs": [
    {
     "name": "stderr",
     "output_type": "stream",
     "text": [
      "WARNING:cobrakbase.core.kbasefba.fbamodel_builder:unable to add sink for [cpd15302_c0]: not found\n",
      "WARNING:cobrakbase.core.kbasefba.fbamodel_builder:unable to add sink for [cpd02701_c0]: not found\n"
     ]
    },
    {
     "data": {
      "image/png": "[encoded data removed]",
      "text/plain": [
       "<Figure size 432x288 with 1 Axes>"
      ]
     },
     "metadata": {},
     "output_type": "display_data"
    }
   ],
   "source": [
    "modelInfo_2 = [\"CMM_iAH991V2_iML1515.kb\",40576]\n",
    "mediaInfo_2 = [\"Btheta_Ecoli_minimal_media\",40576]\n",
    "communityFBA(modelInfo_2,mediaInfo_2,2100,{\"1\":0.5,\"2\":0.5})"
   ]
  },
  {
   "cell_type": "code",
   "execution_count": null,
   "metadata": {},
   "outputs": [],
   "source": [
    "# changing the kinetic coefficient\n",
    "communityFBA(modelInfo_2,mediaInfo_2,2300,{\"1\":0.5,\"2\":0.5})"
   ]
  },
  {
   "cell_type": "code",
   "execution_count": null,
   "metadata": {},
   "outputs": [],
   "source": [
    "# changing the species abundances\n",
    "communityFBA(modelInfo_2,mediaInfo_2,2100,{\"1\":0.1,\"2\":0.9})"
   ]
  },
  {
   "cell_type": "code",
   "execution_count": null,
   "metadata": {},
   "outputs": [],
   "source": [
    "modelInfo_3 = [\"electro.community.edited.v2\",93204]\n",
    "mediaInfo_3 = [\"CO2_minimal\",93204]\n",
    "communityFBA(modelInfo_3,mediaInfo_3,2100)"
   ]
  },
  {
   "cell_type": "code",
   "execution_count": null,
   "metadata": {},
   "outputs": [],
   "source": [
    "# changing the kinetic coefficient\n",
    "communityFBA(modelInfo_3,mediaInfo_3,2300)"
   ]
  },
  {
   "cell_type": "code",
   "execution_count": null,
   "metadata": {},
   "outputs": [],
   "source": [
    "# changing the species abundances\n",
    "communityFBA(modelInfo_3,mediaInfo_3,2100,abundances={\"1\":0.1,\"2\":0.1,\"3\":0.8})"
   ]
  },
  {
   "cell_type": "code",
   "execution_count": null,
   "metadata": {},
   "outputs": [],
   "source": [
    "# modelInfo_7 = [\"Hot_Lake_seven.mdl.v2\",94153]\n",
    "# mediaInfo_7 = [\"HotLakeMedia\",94153]\n",
    "# communityFBA(modelInfo_7,mediaInfo_7,2100)"
   ]
  },
  {
   "cell_type": "code",
   "execution_count": null,
   "metadata": {},
   "outputs": [],
   "source": []
  }
 ],
 "metadata": {
  "kernelspec": {
   "display_name": "Python 3",
   "language": "python",
   "name": "python3"
  },
  "language_info": {
   "codemirror_mode": {
    "name": "ipython",
    "version": 3
   },
   "file_extension": ".py",
   "mimetype": "text/x-python",
   "name": "python",
   "nbconvert_exporter": "python",
   "pygments_lexer": "ipython3",
   "version": "3.7.4"
  }
 },
 "nbformat": 4,
 "nbformat_minor": 5
}
