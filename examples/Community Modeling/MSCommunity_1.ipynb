{
 "cells": [
  {
   "cell_type": "markdown",
   "metadata": {},
   "source": [
    "# Import KBase and cFBA"
   ]
  },
  {
   "cell_type": "code",
   "execution_count": 1,
   "metadata": {},
   "outputs": [
    {
     "name": "stdout",
     "output_type": "stream",
     "text": [
      "cobrakbase 0.2.8\n"
     ]
    }
   ],
   "source": [
    "# import kbase\n",
    "import os\n",
    "os.environ[\"HOME\"] = 'C:\\\\Users\\\\Andrew Freiburger\\\\Dropbox\\\\My PC (DESKTOP-M302P50)\\\\Documents\\\\UVic Civil Engineering\\\\Internships\\\\Agronne\\\\cobrakbase'\n",
    "import cobrakbase\n",
    "token = 'TKWQA762H2SMAYRES3BFUP37LKGNGQSM'\n",
    "kbase = cobrakbase.KBaseAPI(token)\n",
    "\n",
    "ftp_path = '..\\..\\..\\..\\Biofilm growth code\\GSWL code\\ModelSEEDDatabase'\n",
    "\n",
    "# import cFBA\n",
    "%run ../ModelSEEDpy/modelseedpy/core/mscommunity.py\n",
    "%matplotlib inline"
   ]
  },
  {
   "cell_type": "markdown",
   "metadata": {},
   "source": [
    "# The 2-member Zahmeeth model"
   ]
  },
  {
   "cell_type": "markdown",
   "metadata": {},
   "source": [
    "## Unconstained model"
   ]
  },
  {
   "cell_type": "markdown",
   "metadata": {},
   "source": [
    "### Define and execute the model"
   ]
  },
  {
   "cell_type": "code",
   "execution_count": 2,
   "metadata": {
    "scrolled": false
   },
   "outputs": [
    {
     "name": "stderr",
     "output_type": "stream",
     "text": [
      "WARNING:cobrakbase.core.kbasefba.fbamodel_builder:unable to add sink for [cpd02701_c0]: not found\n",
      "WARNING:cobrakbase.core.kbasefba.fbamodel_builder:unable to add sink for [cpd15302_c0]: not found\n"
     ]
    },
    {
     "name": "stdout",
     "output_type": "stream",
     "text": [
      "\n",
      "Production matrix:\n",
      "                1          2           3\n",
      "Donor                                   \n",
      "1        0.000000  18.225811  352.783807\n",
      "2      426.862309   0.000000  316.889436\n",
      "3       37.298319  79.943201    0.000000\n",
      "\n",
      "\n",
      "Consumption matrix:\n",
      "                   1           2          3\n",
      "Receiver                                   \n",
      "1           0.000000  426.862309  37.298319\n",
      "2          18.225811    0.000000  79.943201\n",
      "3         352.783807  316.889436   0.000000\n"
     ]
    },
    {
     "data": {
      "image/png": "[encoded data removed]",
      "text/plain": [
       "<Figure size 432x288 with 1 Axes>"
      ]
     },
     "metadata": {},
     "output_type": "display_data"
    }
   ],
   "source": [
    "# import the model\n",
    "# from modelseedpy.fbapkg import kbasemediapkg\n",
    "\n",
    "modelInfo_2 = [\"CMM_iAH991V2_iML1515.kb\",40576]\n",
    "mediaInfo_2 = [\"Btheta_Ecoli_minimal_media\",40576]\n",
    "\n",
    "model = kbase.get_from_ws(modelInfo_2[0],modelInfo_2[1])\n",
    "media = kbase.get_from_ws(mediaInfo_2[0],mediaInfo_2[1])\n",
    "# kmp = kbasemediapkg.KBaseMediaPkg(self.model)\n",
    "# kmp.build_package(media)\n",
    "\n",
    "# simulate and visualize the model\n",
    "cfba = MSCommunity(model)\n",
    "cfba.constrain(media)\n",
    "solution = cfba.run()\n",
    "cfba.compute_interactions(solution)\n",
    "cfba.visualize()"
   ]
  },
  {
   "cell_type": "markdown",
   "metadata": {},
   "source": [
    "## FullThermo-constrained model"
   ]
  },
  {
   "cell_type": "markdown",
   "metadata": {},
   "source": [
    "### Define and execute the model"
   ]
  },
  {
   "cell_type": "code",
   "execution_count": null,
   "metadata": {
    "scrolled": true
   },
   "outputs": [
    {
     "name": "stderr",
     "output_type": "stream",
     "text": [
      "WARNING:cobrakbase.core.kbasefba.fbamodel_builder:unable to add sink for [cpd02701_c0]: not found\n",
      "WARNING:cobrakbase.core.kbasefba.fbamodel_builder:unable to add sink for [cpd15302_c0]: not found\n"
     ]
    }
   ],
   "source": [
    "# import the model\n",
    "# from modelseedpy.fbapkg import kbasemediapkg\n",
    "\n",
    "modelInfo_2 = [\"CMM_iAH991V2_iML1515.kb\",40576]\n",
    "mediaInfo_2 = [\"Btheta_Ecoli_minimal_media\",40576]\n",
    "\n",
    "model = kbase.get_from_ws(modelInfo_2[0],modelInfo_2[1])\n",
    "media = kbase.get_from_ws(mediaInfo_2[0],mediaInfo_2[1])\n",
    "# kmp = kbasemediapkg.KBaseMediaPkg(self.model)\n",
    "# kmp.build_package(media)\n",
    "\n",
    "# simulate and visualize the model\n",
    "cfba = MSCommunity(model)\n",
    "cfba.constrain(media, msdb_path_for_fullthermo = ftp_path)\n",
    "solution = cfba.run()\n",
    "cfba.compute_interactions(solution)\n",
    "cfba.visualize()"
   ]
  },
  {
   "cell_type": "markdown",
   "metadata": {},
   "source": [
    "# The 3-member model"
   ]
  },
  {
   "cell_type": "markdown",
   "metadata": {},
   "source": [
    "## Unconstrained model"
   ]
  },
  {
   "cell_type": "markdown",
   "metadata": {},
   "source": [
    "### Define and execute the model"
   ]
  },
  {
   "cell_type": "code",
   "execution_count": null,
   "metadata": {
    "scrolled": false
   },
   "outputs": [],
   "source": [
    "# import the model\n",
    "# from modelseedpy.fbapkg import kbasemediapkg\n",
    "\n",
    "modelInfo_2 = ['electrosynth_comnty.mdl.gf.2021',93204]\n",
    "mediaInfo_2 = [\"CO2_minimal\",93204]\n",
    "\n",
    "model = kbase.get_from_ws(modelInfo_2[0],modelInfo_2[1])\n",
    "media = kbase.get_from_ws(mediaInfo_2[0],mediaInfo_2[1])\n",
    "# kmp = kbasemediapkg.KBaseMediaPkg(self.model)\n",
    "# kmp.build_package(media)\n",
    "\n",
    "# simulate and visualize the model\n",
    "cfba = MSCommunity(model)\n",
    "cfba.constrain(media) #, msdb_path_for_fullthermo = '..\\..\\..\\Biofilm growth code\\GSWL code\\ModelSEEDDatabase')\n",
    "solution = cfba.run()\n",
    "cfba.compute_interactions(solution)\n",
    "cfba.visualize()"
   ]
  },
  {
   "cell_type": "markdown",
   "metadata": {},
   "source": [
    "## FullThermo-constrained model"
   ]
  },
  {
   "cell_type": "markdown",
   "metadata": {},
   "source": [
    "### Define and execute the model"
   ]
  },
  {
   "cell_type": "code",
   "execution_count": null,
   "metadata": {
    "scrolled": true
   },
   "outputs": [],
   "source": [
    "# import the model\n",
    "# from modelseedpy.fbapkg import kbasemediapkg\n",
    "\n",
    "modelInfo_2 = ['electrosynth_comnty.mdl.gf.2021',93204]\n",
    "mediaInfo_2 = [\"CO2_minimal\",93204]\n",
    "\n",
    "model = kbase.get_from_ws(modelInfo_2[0],modelInfo_2[1])\n",
    "media = kbase.get_from_ws(mediaInfo_2[0],mediaInfo_2[1])\n",
    "# kmp = kbasemediapkg.KBaseMediaPkg(self.model)\n",
    "# kmp.build_package(media)\n",
    "\n",
    "# simulate and visualize the model\n",
    "cfba = MSCommunity(model)\n",
    "cfba.constrain(media, msdb_path_for_fullthermo = ftp_path)\n",
    "solution = cfba.run()\n",
    "cfba.compute_interactions(solution)\n",
    "cfba.visualize()"
   ]
  },
  {
   "cell_type": "markdown",
   "metadata": {},
   "source": [
    "## Aimee model"
   ]
  },
  {
   "cell_type": "markdown",
   "metadata": {},
   "source": [
    "## Unconstrained model"
   ]
  },
  {
   "cell_type": "markdown",
   "metadata": {},
   "source": [
    "### Define and execute the model"
   ]
  },
  {
   "cell_type": "code",
   "execution_count": null,
   "metadata": {},
   "outputs": [],
   "source": [
    "# import the model\n",
    "# from modelseedpy.fbapkg import kbasemediapkg\n",
    "\n",
    "modelInfo_2 = ['Cjaponicus_Ecoli_Community',97055]\n",
    "mediaInfo_2 = [\"ChitinM9Media\",97055]\n",
    "\n",
    "model = kbase.get_from_ws(modelInfo_2[0],modelInfo_2[1])\n",
    "media = kbase.get_from_ws(mediaInfo_2[0],mediaInfo_2[1])\n",
    "# kmp = kbasemediapkg.KBaseMediaPkg(self.model)\n",
    "# kmp.build_package(media)\n",
    "\n",
    "# simulate and visualize the model\n",
    "cfba = MSCommunity(model)\n",
    "cfba.constrain(media) #, msdb_path_for_fullthermo = '..\\..\\..\\Biofilm growth code\\GSWL code\\ModelSEEDDatabase')\n",
    "cfba.gapfill(media)\n",
    "solution = cfba.run()\n",
    "cfba.compute_interactions(solution)\n",
    "cfba.visualize()"
   ]
  },
  {
   "cell_type": "markdown",
   "metadata": {},
   "source": [
    "## FullThermo-constrained model"
   ]
  },
  {
   "cell_type": "markdown",
   "metadata": {},
   "source": [
    "### Define and execute the model"
   ]
  },
  {
   "cell_type": "code",
   "execution_count": null,
   "metadata": {},
   "outputs": [],
   "source": [
    "# import the model\n",
    "# from modelseedpy.fbapkg import kbasemediapkg\n",
    "\n",
    "modelInfo_2 = ['Cjaponicus_Ecoli_Community',97055]\n",
    "mediaInfo_2 = [\"ChitinM9Media\",97055]\n",
    "\n",
    "model = kbase.get_from_ws(modelInfo_2[0],modelInfo_2[1])\n",
    "media = kbase.get_from_ws(mediaInfo_2[0],mediaInfo_2[1])\n",
    "# kmp = kbasemediapkg.KBaseMediaPkg(self.model)\n",
    "# kmp.build_package(media)\n",
    "\n",
    "# simulate and visualize the model\n",
    "cfba = MSCommunity(model)\n",
    "cfba.constrain(media, msdb_path_for_fullthermo = ftp_path)\n",
    "cfba.gapfill(media)\n",
    "solution = cfba.run()\n",
    "cfba.compute_interactions(solution)\n",
    "cfba.visualize()"
   ]
  }
 ],
 "metadata": {
  "kernelspec": {
   "display_name": "Python 3",
   "language": "python",
   "name": "python3"
  },
  "language_info": {
   "codemirror_mode": {
    "name": "ipython",
    "version": 3
   },
   "file_extension": ".py",
   "mimetype": "text/x-python",
   "name": "python",
   "nbconvert_exporter": "python",
   "pygments_lexer": "ipython3",
   "version": "3.7.4"
  }
 },
 "nbformat": 4,
 "nbformat_minor": 2
}
