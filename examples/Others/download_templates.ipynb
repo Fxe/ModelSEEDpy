{
 "cells": [
  {
   "cell_type": "code",
   "execution_count": 1,
   "id": "76825840-094c-4a84-b29b-a9178378e501",
   "metadata": {},
   "outputs": [],
   "source": [
    "import modelseedpy"
   ]
  },
  {
   "cell_type": "code",
   "execution_count": 2,
   "id": "c608799e-484b-48e7-8ba4-a9aa4e5dce7d",
   "metadata": {},
   "outputs": [
    {
     "name": "stdout",
     "output_type": "stream",
     "text": [
      "/usr/local/lib/python3.8/site-packages/modelseedpy//config.cfg\n",
      "['data']\n"
     ]
    }
   ],
   "source": [
    "from modelseedpy.helpers import get_classifier, get_template, get_file"
   ]
  },
  {
   "cell_type": "code",
   "execution_count": 3,
   "id": "56a998d6-d2e6-4eec-bad4-7e3dd81796b6",
   "metadata": {},
   "outputs": [
    {
     "data": {
      "text/plain": [
       "'/usr/local/lib/python3.8/site-packages/modelseedpy//data/ml/knn_filter_features.json'"
      ]
     },
     "execution_count": 3,
     "metadata": {},
     "output_type": "execute_result"
    }
   ],
   "source": [
    "get_file('template_core.json', 'data', 'template_folder')\n",
    "get_file('template_gram_neg.json', 'data', 'template_folder')\n",
    "get_file('template_gram_pos.json', 'data', 'template_folder')\n",
    "get_file('knn_filter.pickle', 'data', 'classifier_folder')\n",
    "get_file('knn_filter_features.json', 'data', 'classifier_folder')"
   ]
  },
  {
   "cell_type": "markdown",
   "id": "91b47516-0120-47ef-9933-725a10410d50",
   "metadata": {},
   "source": [
    "### load classifier\n",
    "options\n",
    "* knn_filter"
   ]
  },
  {
   "cell_type": "code",
   "execution_count": 4,
   "id": "7959ee2b-1520-43ac-b791-815861b0a63c",
   "metadata": {},
   "outputs": [],
   "source": [
    "genome_cls = get_classifier('knn_filter')"
   ]
  },
  {
   "cell_type": "markdown",
   "id": "1db81e21-97c7-4373-8173-33218abd8caf",
   "metadata": {},
   "source": [
    "### load template\n",
    "options\n",
    "* template_core\n",
    "* template_gram_neg\n",
    "* template_gram_pos"
   ]
  },
  {
   "cell_type": "code",
   "execution_count": 5,
   "id": "90b7bb44-d639-44ea-8f9d-482e31a95f03",
   "metadata": {},
   "outputs": [
    {
     "data": {
      "text/plain": [
       "'CoreModelTemplateV2'"
      ]
     },
     "execution_count": 5,
     "metadata": {},
     "output_type": "execute_result"
    }
   ],
   "source": [
    "core_template = get_template('template_core')\n",
    "core_template['id']"
   ]
  }
 ],
 "metadata": {
  "kernelspec": {
   "display_name": "Python 3",
   "language": "python",
   "name": "python3"
  },
  "language_info": {
   "codemirror_mode": {
    "name": "ipython",
    "version": 3
   },
   "file_extension": ".py",
   "mimetype": "text/x-python",
   "name": "python",
   "nbconvert_exporter": "python",
   "pygments_lexer": "ipython3",
   "version": "3.8.10"
  }
 },
 "nbformat": 4,
 "nbformat_minor": 5
}
