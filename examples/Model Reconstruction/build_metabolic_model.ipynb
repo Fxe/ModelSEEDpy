{
 "cells": [
  {
   "cell_type": "code",
   "execution_count": 1,
   "metadata": {},
   "outputs": [],
   "source": [
    "import modelseedpy\n",
    "from modelseedpy import MSBuilder, MSGenome"
   ]
  },
  {
   "cell_type": "code",
   "execution_count": 2,
   "metadata": {},
   "outputs": [],
   "source": [
    "genome = MSGenome.from_fasta('GCF_000005845.2_ASM584v2_protein.faa', split=' ')"
   ]
  },
  {
   "cell_type": "code",
   "execution_count": 3,
   "metadata": {},
   "outputs": [
    {
     "name": "stdout",
     "output_type": "stream",
     "text": [
      "Number of features: 4285\n"
     ]
    }
   ],
   "source": [
    "print('Number of features:', len(genome.features))"
   ]
  },
  {
   "cell_type": "code",
   "execution_count": 10,
   "metadata": {},
   "outputs": [
    {
     "data": {
      "text/html": [
       "\n",
       "        <table>\n",
       "            <tr>\n",
       "                <td><strong>ID</strong></td>\n",
       "                <td>GramNegative.modeltemplate</td>\n",
       "            </tr><tr>\n",
       "                <td><strong>Memory address</strong></td>\n",
       "                <td>0x07f657534ba60</td>\n",
       "            </tr><tr>\n",
       "                <td><strong>Number of metabolites</strong></td>\n",
       "                <td>6359</td>\n",
       "            </tr><tr>\n",
       "                <td><strong>Number of species</strong></td>\n",
       "                <td>6884</td>\n",
       "            </tr><tr>\n",
       "                <td><strong>Number of reactions</strong></td>\n",
       "                <td>24</td>\n",
       "            </tr><tr>\n",
       "                <td><strong>Number of roles</strong></td>\n",
       "                <td>58</td>\n",
       "            </tr><tr>\n",
       "                <td><strong>Number of complexes</strong></td>\n",
       "                <td>58</td>\n",
       "            </tr>\n",
       "          </table>"
      ],
      "text/plain": [
       "<cobrakbase.core.kbasefba.newmodeltemplate.NewModelTemplate at 0x7f657534ba60>"
      ]
     },
     "execution_count": 10,
     "metadata": {},
     "output_type": "execute_result"
    }
   ],
   "source": [
    "import cobrakbase\n",
    "kbase = cobrakbase.KBaseAPI()  # or kbase = cobrakbase.KBaseAPI('YOUR_KBASE_AUTHTOKEN')\n",
    "#core_template = kbase.get_from_ws('CoreModelTemplateV3', 'NewKBaseModelTemplates')\n",
    "core_template = kbase.get_from_ws('GramNegMPA_fstar_glyco', 56739)\n",
    "core_template"
   ]
  },
  {
   "cell_type": "code",
   "execution_count": 11,
   "metadata": {},
   "outputs": [
    {
     "data": {
      "text/html": [
       "\n",
       "        <table>\n",
       "            <tr>\n",
       "                <td><strong>Name</strong></td>\n",
       "                <td>ecoli.core</td>\n",
       "            </tr><tr>\n",
       "                <td><strong>Memory address</strong></td>\n",
       "                <td>0x07f657534b940</td>\n",
       "            </tr><tr>\n",
       "                <td><strong>Number of metabolites</strong></td>\n",
       "                <td>99</td>\n",
       "            </tr><tr>\n",
       "                <td><strong>Number of reactions</strong></td>\n",
       "                <td>18</td>\n",
       "            </tr><tr>\n",
       "                <td><strong>Number of groups</strong></td>\n",
       "                <td>0</td>\n",
       "            </tr><tr>\n",
       "                <td><strong>Objective expression</strong></td>\n",
       "                <td>1.0*bio1 - 1.0*bio1_reverse_b18f7</td>\n",
       "            </tr><tr>\n",
       "                <td><strong>Compartments</strong></td>\n",
       "                <td>c0</td>\n",
       "            </tr>\n",
       "          </table>"
      ],
      "text/plain": [
       "<Model ecoli.core at 0x7f657534b940>"
      ]
     },
     "execution_count": 11,
     "metadata": {},
     "output_type": "execute_result"
    }
   ],
   "source": [
    "model = MSBuilder.build_metabolic_model('ecoli.core', genome, core_template, None, allow_all_non_grp_reactions=True, annotate_with_rast=True)\n",
    "model"
   ]
  },
  {
   "cell_type": "code",
   "execution_count": 16,
   "metadata": {},
   "outputs": [
    {
     "name": "stdout",
     "output_type": "stream",
     "text": [
      "rxn00781_c0: cpd00003_c0 + cpd00009_c0 + cpd00102_c0 <=> cpd00004_c0 + cpd00067_c0 + cpd00203_c0 (NP_416293.1)\n",
      "rxn00161_c0: cpd00006_c0 + cpd00130_c0 --> cpd00005_c0 + cpd00011_c0 + cpd00020_c0 (NP_416958.1)\n",
      "rxn00148_c0: cpd00002_c0 + cpd00020_c0 <-- cpd00008_c0 + cpd00061_c0 + cpd00067_c0 (NP_416191.1) or (NP_416368.1)\n",
      "rxn01100_c0: cpd00002_c0 + cpd00169_c0 <=> cpd00008_c0 + cpd00203_c0 (NP_417401.1)\n",
      "rxn01106_c0: cpd00482_c0 <=> cpd00169_c0 (NP_418069.1) or (NP_418812.1) or (NP_415276.1)\n",
      "rxn00147_c0: cpd00001_c0 + cpd00002_c0 + cpd00020_c0 --> cpd00009_c0 + cpd00018_c0 + cpd00061_c0 + 3.0 cpd00067_c0 (NP_416217.1)\n",
      "rxn00248_c0: cpd00003_c0 + cpd00130_c0 <=> cpd00004_c0 + cpd00032_c0 + cpd00067_c0 (NP_417703.1)\n",
      "rxn00159_c0: cpd00003_c0 + cpd00130_c0 --> cpd00004_c0 + cpd00011_c0 + cpd00020_c0 (NP_415996.2)\n",
      "rxn00247_c0: cpd00002_c0 + cpd00032_c0 --> cpd00008_c0 + cpd00011_c0 + cpd00061_c0 (NP_417862.1)\n",
      "rxn00786_c0: cpd00290_c0 <=> cpd00095_c0 + cpd00102_c0 (NP_417400.1) or (NP_417280.1) or (NP_416600.4)\n",
      "rxn00747_c0: cpd00102_c0 <=> cpd00095_c0 (NP_418354.1)\n",
      "rxn00558_c0: cpd00079_c0 <=> cpd00072_c0 (NP_418449.1)\n",
      "rxn00545_c0: cpd00002_c0 + cpd00072_c0 --> cpd00008_c0 + cpd00067_c0 + cpd00290_c0 (NP_418351.1) or (NP_416237.3)\n",
      "rxn00216_c0: cpd00002_c0 + cpd00027_c0 <=> cpd00008_c0 + cpd00067_c0 + cpd00079_c0 (NP_416889.1)\n",
      "rxn00459_c0: cpd00482_c0 <=> cpd00001_c0 + cpd00061_c0 (NP_417259.1)\n",
      "rxn00549_c0: cpd00001_c0 + cpd00290_c0 --> cpd00009_c0 + cpd00072_c0 (NP_417405.1) or (NP_418360.1) or (NP_418653.1)\n",
      "bio1: 35.5403092430435 cpd00001_c0 + 40.1101757365074 cpd00002_c0 + 0.00280615915959131 cpd00003_c0 + 0.00280615915959131 cpd00006_c0 + 0.00280615915959131 cpd00010_c0 + 0.00280615915959131 cpd00015_c0 + 0.00280615915959131 cpd00016_c0 + 0.00280615915959131 cpd00017_c0 + 0.219088153012743 cpd00023_c0 + 0.00280615915959131 cpd00028_c0 + 0.00280615915959131 cpd00030_c0 + 0.509869786991038 cpd00033_c0 + 0.00280615915959131 cpd00034_c0 + 0.427934380173264 cpd00035_c0 + 0.00280615915959131 cpd00037_c0 + 0.135406821203723 cpd00038_c0 + 0.285438020490179 cpd00039_c0 + 0.200830806928348 cpd00041_c0 + 0.00280615915959131 cpd00042_c0 + 0.00280615915959131 cpd00048_c0 + 0.00280615915959131 cpd00050_c0 + 0.246696822701341 cpd00051_c0 + 0.0841036156544863 cpd00052_c0 + 0.219088153012743 cpd00053_c0 + 0.179456352975885 cpd00054_c0 + 0.00280615915959131 cpd00056_c0 + 0.00280615915959131 cpd00058_c0 + 0.127801422590767 cpd00060_c0 + 0.0908319049068452 cpd00062_c0 + 0.00280615915959131 cpd00063_c0 + 0.0472019191450218 cpd00065_c0 + 0.154519490031345 cpd00066_c0 + 0.120676604606612 cpd00069_c0 + 0.0761464922056484 cpd00084_c0 + 0.00280615915959131 cpd00087_c0 + 0.00280615915959131 cpd00099_c0 + 0.00280615915959131 cpd00104_c0 + 0.375388847540127 cpd00107_c0 + 0.0157642107352084 cpd00115_c0 + 0.00280615915959131 cpd00118_c0 + 0.0792636000737159 cpd00119_c0 + 0.184354665339991 cpd00129_c0 + 0.200830806928348 cpd00132_c0 + 0.00280615915959131 cpd00149_c0 + 0.352233189091625 cpd00156_c0 + 0.211072732780569 cpd00161_c0 + 0.00280615915959131 cpd00166_c0 + 0.00280615915959131 cpd00201_c0 + 0.00280615915959131 cpd00205_c0 + 0.00280615915959131 cpd00220_c0 + 0.01627686799489 cpd00241_c0 + 0.00280615915959131 cpd00254_c0 + 0.00280615915959131 cpd00264_c0 + 0.241798510337235 cpd00322_c0 + 0.00280615915959131 cpd00345_c0 + 0.01627686799489 cpd00356_c0 + 0.0157642107352084 cpd00357_c0 + 0.00280615915959131 cpd00557_c0 + 0.0250105977108944 cpd02229_c0 + 0.00280615915959131 cpd10515_c0 + 0.00280615915959131 cpd10516_c0 + 0.00280615915959131 cpd11493_c0 + 0.00280615915959131 cpd15352_c0 + 0.0250105977108944 cpd15432_c0 + 0.00280615915959131 cpd15500_c0 + 0.0311453449430676 cpd15533_c0 + 0.0311453449430676 cpd15540_c0 + 0.00280615915959131 cpd15560_c0 + 0.0250105977108944 cpd15665_c0 + 0.0311453449430676 cpd15793_c0 + cpd17041_c0 + cpd17042_c0 + cpd17043_c0 --> 40 cpd00008_c0 + 39.9971938408404 cpd00009_c0 + 0.484600235732628 cpd00012_c0 + 40 cpd00067_c0 + 0.00280615915959131 cpd01997_c0 + 0.00280615915959131 cpd03422_c0 + cpd11416_c0 + 0.00280615915959131 cpd12370_c0 + 0.0250105977108944 cpd15666_c0 \n",
      "SK_cpd11416_c0: cpd11416_c0 -->  \n"
     ]
    }
   ],
   "source": [
    "for r in model.reactions:\n",
    "    print(r, r.gene_reaction_rule)"
   ]
  },
  {
   "cell_type": "code",
   "execution_count": 10,
   "metadata": {},
   "outputs": [
    {
     "data": {
      "text/html": [
       "<h3>Objective</h3><p>1.0 bio1 = 0.12293681436268482</p><h4>Uptake</h4><table border=\"1\" class=\"dataframe\">\n",
       "  <thead>\n",
       "    <tr style=\"text-align: right;\">\n",
       "      <th>Metabolite</th>\n",
       "      <th>Reaction</th>\n",
       "      <th>Flux</th>\n",
       "      <th>C-Number</th>\n",
       "      <th>C-Flux</th>\n",
       "    </tr>\n",
       "  </thead>\n",
       "  <tbody>\n",
       "    <tr>\n",
       "      <td>cpd00007_e0</td>\n",
       "      <td>EX_cpd00007_e0</td>\n",
       "      <td>1.371</td>\n",
       "      <td>0</td>\n",
       "      <td>0.00%</td>\n",
       "    </tr>\n",
       "    <tr>\n",
       "      <td>cpd00009_e0</td>\n",
       "      <td>EX_cpd00009_e0</td>\n",
       "      <td>0.5182</td>\n",
       "      <td>0</td>\n",
       "      <td>0.00%</td>\n",
       "    </tr>\n",
       "    <tr>\n",
       "      <td>cpd00027_e0</td>\n",
       "      <td>EX_cpd00027_e0</td>\n",
       "      <td>1</td>\n",
       "      <td>6</td>\n",
       "      <td>100.00%</td>\n",
       "    </tr>\n",
       "  </tbody>\n",
       "</table><h4>Secretion</h4><table border=\"1\" class=\"dataframe\">\n",
       "  <thead>\n",
       "    <tr style=\"text-align: right;\">\n",
       "      <th>Metabolite</th>\n",
       "      <th>Reaction</th>\n",
       "      <th>Flux</th>\n",
       "      <th>C-Number</th>\n",
       "      <th>C-Flux</th>\n",
       "    </tr>\n",
       "  </thead>\n",
       "  <tbody>\n",
       "    <tr>\n",
       "      <td>cpd00001_e0</td>\n",
       "      <td>EX_cpd00001_e0</td>\n",
       "      <td>-2.812</td>\n",
       "      <td>0</td>\n",
       "      <td>0.00%</td>\n",
       "    </tr>\n",
       "    <tr>\n",
       "      <td>cpd00011_e0</td>\n",
       "      <td>EX_cpd00011_e0</td>\n",
       "      <td>-0.5044</td>\n",
       "      <td>1</td>\n",
       "      <td>100.00%</td>\n",
       "    </tr>\n",
       "    <tr>\n",
       "      <td>cpd00067_e0</td>\n",
       "      <td>EX_cpd00067_e0</td>\n",
       "      <td>-1.749</td>\n",
       "      <td>0</td>\n",
       "      <td>0.00%</td>\n",
       "    </tr>\n",
       "    <tr>\n",
       "      <td>cpd11416_c0</td>\n",
       "      <td>SK_cpd11416_c0</td>\n",
       "      <td>-0.1229</td>\n",
       "      <td>0</td>\n",
       "      <td>0.00%</td>\n",
       "    </tr>\n",
       "  </tbody>\n",
       "</table>"
      ],
      "text/plain": [
       "<cobra.summary.model_summary.ModelSummary at 0x7f7056976880>"
      ]
     },
     "execution_count": 10,
     "metadata": {},
     "output_type": "execute_result"
    }
   ],
   "source": [
    "model.objective = 'bio1'\n",
    "model.medium = {\n",
    "    'EX_cpd00067_e0': 1000,\n",
    "    'EX_cpd00027_e0': 1,\n",
    "    'EX_cpd00007_e0': 1000,\n",
    "    'EX_cpd00001_e0': 1000,\n",
    "    'EX_cpd00009_e0': 1000,\n",
    "}\n",
    "model.summary()"
   ]
  },
  {
   "cell_type": "code",
   "execution_count": 1,
   "metadata": {},
   "outputs": [
    {
     "name": "stdout",
     "output_type": "stream",
     "text": [
      "cobrakbase 0.2.8\n"
     ]
    }
   ],
   "source": [
    "import cobrakbase\n",
    "kbase = cobrakbase.KBaseAPI()"
   ]
  },
  {
   "cell_type": "code",
   "execution_count": 2,
   "metadata": {},
   "outputs": [],
   "source": [
    "model_compare = kbase.get_from_ws('GCF_000005845.2.RAST.mdl', 'filipeliu:narrative_1612259860241')\n",
    "model_compare_template = kbase.get_from_ws(model_compare.template_ref)\n",
    "model_compare_genome = kbase.get_from_ws(model_compare.genome_ref)"
   ]
  },
  {
   "cell_type": "code",
   "execution_count": 4,
   "metadata": {},
   "outputs": [
    {
     "data": {
      "text/html": [
       "\n",
       "        <table>\n",
       "            <tr>\n",
       "                <td><strong>Name</strong></td>\n",
       "                <td>GCF_000005845.2.RAST.mdl</td>\n",
       "            </tr><tr>\n",
       "                <td><strong>Memory address</strong></td>\n",
       "                <td>0x07f705ab88100</td>\n",
       "            </tr><tr>\n",
       "                <td><strong>Number of metabolites</strong></td>\n",
       "                <td>190</td>\n",
       "            </tr><tr>\n",
       "                <td><strong>Number of reactions</strong></td>\n",
       "                <td>229</td>\n",
       "            </tr><tr>\n",
       "                <td><strong>Number of groups</strong></td>\n",
       "                <td>0</td>\n",
       "            </tr><tr>\n",
       "                <td><strong>Objective expression</strong></td>\n",
       "                <td>1.0*bio2 - 1.0*bio2_reverse_a4204</td>\n",
       "            </tr><tr>\n",
       "                <td><strong>Compartments</strong></td>\n",
       "                <td>c0, e0</td>\n",
       "            </tr>\n",
       "          </table>"
      ],
      "text/plain": [
       "<FBAModel GCF_000005845.2.RAST.mdl at 0x7f705ab88100>"
      ]
     },
     "execution_count": 4,
     "metadata": {},
     "output_type": "execute_result"
    }
   ],
   "source": [
    "model_compare"
   ]
  },
  {
   "cell_type": "code",
   "execution_count": 49,
   "metadata": {},
   "outputs": [],
   "source": [
    "rxn_ids2 = set(map(lambda x: x.id, model.reactions))\n",
    "rxn_ids1 = set(map(lambda x: x.id, model_compare.reactions))"
   ]
  },
  {
   "cell_type": "code",
   "execution_count": 50,
   "metadata": {},
   "outputs": [
    {
     "data": {
      "text/plain": [
       "set()"
      ]
     },
     "execution_count": 50,
     "metadata": {},
     "output_type": "execute_result"
    }
   ],
   "source": [
    "rxn_ids2 - rxn_ids1"
   ]
  },
  {
   "cell_type": "code",
   "execution_count": 51,
   "metadata": {},
   "outputs": [
    {
     "data": {
      "text/plain": [
       "{'rxn00077_c0',\n",
       " 'rxn00160_c0',\n",
       " 'rxn00499_c0',\n",
       " 'rxn00512_c0',\n",
       " 'rxn00668_c0',\n",
       " 'rxn00869_c0',\n",
       " 'rxn00985_c0',\n",
       " 'rxn00994_c0',\n",
       " 'rxn01452_c0',\n",
       " 'rxn03884_c0',\n",
       " 'rxn06493_c0',\n",
       " 'rxn08178_c0',\n",
       " 'rxn08179_c0',\n",
       " 'rxn08792_c0',\n",
       " 'rxn08793_c0',\n",
       " 'rxn09004_c0',\n",
       " 'rxn09174_c0'}"
      ]
     },
     "execution_count": 51,
     "metadata": {},
     "output_type": "execute_result"
    }
   ],
   "source": [
    "rxn_ids1 - rxn_ids2"
   ]
  },
  {
   "cell_type": "code",
   "execution_count": 58,
   "metadata": {},
   "outputs": [],
   "source": [
    "#for r in model_compare.reactions:\n",
    "#    print(r, r.gene_reaction_rule)"
   ]
  },
  {
   "cell_type": "code",
   "execution_count": 59,
   "metadata": {},
   "outputs": [
    {
     "data": {
      "text/html": [
       "\n",
       "        <table>\n",
       "            <tr>\n",
       "                <td><strong>Reaction identifier</strong></td><td>rxn00077_c0</td>\n",
       "            </tr><tr>\n",
       "                <td><strong>Name</strong></td><td>ATP:NAD+ 2'-phosphotransferase_c0</td>\n",
       "            </tr><tr>\n",
       "                <td><strong>Memory address</strong></td>\n",
       "                <td>0x07f705a8b7b80</td>\n",
       "            </tr><tr>\n",
       "                <td><strong>Stoichiometry</strong></td>\n",
       "                <td>\n",
       "                    <p style='text-align:right'>cpd00002_c0 + cpd00003_c0 <=> cpd00006_c0 + cpd00008_c0 + cpd00067_c0</p>\n",
       "                    <p style='text-align:right'>ATP_c0 + NAD_c0 <=> NADP_c0 + ADP_c0 + H+_c0</p>\n",
       "                </td>\n",
       "            </tr><tr>\n",
       "                <td><strong>GPR</strong></td><td>(b2615)</td>\n",
       "            </tr><tr>\n",
       "                <td><strong>Lower bound</strong></td><td>-1000</td>\n",
       "            </tr><tr>\n",
       "                <td><strong>Upper bound</strong></td><td>1000</td>\n",
       "            </tr>\n",
       "        </table>\n",
       "        "
      ],
      "text/plain": [
       "<ModelReaction rxn00077_c0 at 0x7f705a8b7b80>"
      ]
     },
     "execution_count": 59,
     "metadata": {},
     "output_type": "execute_result"
    }
   ],
   "source": [
    "model_compare.reactions.rxn00077_c0"
   ]
  },
  {
   "cell_type": "code",
   "execution_count": 60,
   "metadata": {},
   "outputs": [
    {
     "ename": "AttributeError",
     "evalue": "DictList has no attribute or entry rxn00077_c0",
     "output_type": "error",
     "traceback": [
      "\u001b[0;31m---------------------------------------------------------------------------\u001b[0m",
      "\u001b[0;31mKeyError\u001b[0m                                  Traceback (most recent call last)",
      "\u001b[0;32m/usr/local/lib/python3.8/site-packages/cobra/core/dictlist.py\u001b[0m in \u001b[0;36m__getattr__\u001b[0;34m(self, attr)\u001b[0m\n\u001b[1;32m    454\u001b[0m         \u001b[0;32mtry\u001b[0m\u001b[0;34m:\u001b[0m\u001b[0;34m\u001b[0m\u001b[0;34m\u001b[0m\u001b[0m\n\u001b[0;32m--> 455\u001b[0;31m             \u001b[0;32mreturn\u001b[0m \u001b[0mDictList\u001b[0m\u001b[0;34m.\u001b[0m\u001b[0mget_by_id\u001b[0m\u001b[0;34m(\u001b[0m\u001b[0mself\u001b[0m\u001b[0;34m,\u001b[0m \u001b[0mattr\u001b[0m\u001b[0;34m)\u001b[0m\u001b[0;34m\u001b[0m\u001b[0;34m\u001b[0m\u001b[0m\n\u001b[0m\u001b[1;32m    456\u001b[0m         \u001b[0;32mexcept\u001b[0m \u001b[0mKeyError\u001b[0m\u001b[0;34m:\u001b[0m\u001b[0;34m\u001b[0m\u001b[0;34m\u001b[0m\u001b[0m\n",
      "\u001b[0;32m/usr/local/lib/python3.8/site-packages/cobra/core/dictlist.py\u001b[0m in \u001b[0;36mget_by_id\u001b[0;34m(self, id)\u001b[0m\n\u001b[1;32m     57\u001b[0m         \u001b[0;34m\"\"\"return the element with a matching id\"\"\"\u001b[0m\u001b[0;34m\u001b[0m\u001b[0;34m\u001b[0m\u001b[0m\n\u001b[0;32m---> 58\u001b[0;31m         \u001b[0;32mreturn\u001b[0m \u001b[0mlist\u001b[0m\u001b[0;34m.\u001b[0m\u001b[0m__getitem__\u001b[0m\u001b[0;34m(\u001b[0m\u001b[0mself\u001b[0m\u001b[0;34m,\u001b[0m \u001b[0mself\u001b[0m\u001b[0;34m.\u001b[0m\u001b[0m_dict\u001b[0m\u001b[0;34m[\u001b[0m\u001b[0mid\u001b[0m\u001b[0;34m]\u001b[0m\u001b[0;34m)\u001b[0m\u001b[0;34m\u001b[0m\u001b[0;34m\u001b[0m\u001b[0m\n\u001b[0m\u001b[1;32m     59\u001b[0m \u001b[0;34m\u001b[0m\u001b[0m\n",
      "\u001b[0;31mKeyError\u001b[0m: 'rxn00077_c0'",
      "\nDuring handling of the above exception, another exception occurred:\n",
      "\u001b[0;31mAttributeError\u001b[0m                            Traceback (most recent call last)",
      "\u001b[0;32m<ipython-input-60-4a0d95c0f410>\u001b[0m in \u001b[0;36m<module>\u001b[0;34m\u001b[0m\n\u001b[0;32m----> 1\u001b[0;31m \u001b[0mmodel\u001b[0m\u001b[0;34m.\u001b[0m\u001b[0mreactions\u001b[0m\u001b[0;34m.\u001b[0m\u001b[0mrxn00077_c0\u001b[0m\u001b[0;34m\u001b[0m\u001b[0;34m\u001b[0m\u001b[0m\n\u001b[0m",
      "\u001b[0;32m/usr/local/lib/python3.8/site-packages/cobra/core/dictlist.py\u001b[0m in \u001b[0;36m__getattr__\u001b[0;34m(self, attr)\u001b[0m\n\u001b[1;32m    455\u001b[0m             \u001b[0;32mreturn\u001b[0m \u001b[0mDictList\u001b[0m\u001b[0;34m.\u001b[0m\u001b[0mget_by_id\u001b[0m\u001b[0;34m(\u001b[0m\u001b[0mself\u001b[0m\u001b[0;34m,\u001b[0m \u001b[0mattr\u001b[0m\u001b[0;34m)\u001b[0m\u001b[0;34m\u001b[0m\u001b[0;34m\u001b[0m\u001b[0m\n\u001b[1;32m    456\u001b[0m         \u001b[0;32mexcept\u001b[0m \u001b[0mKeyError\u001b[0m\u001b[0;34m:\u001b[0m\u001b[0;34m\u001b[0m\u001b[0;34m\u001b[0m\u001b[0m\n\u001b[0;32m--> 457\u001b[0;31m             \u001b[0;32mraise\u001b[0m \u001b[0mAttributeError\u001b[0m\u001b[0;34m(\u001b[0m\u001b[0;34m\"DictList has no attribute or entry %s\"\u001b[0m \u001b[0;34m%\u001b[0m \u001b[0mattr\u001b[0m\u001b[0;34m)\u001b[0m\u001b[0;34m\u001b[0m\u001b[0;34m\u001b[0m\u001b[0m\n\u001b[0m\u001b[1;32m    458\u001b[0m \u001b[0;34m\u001b[0m\u001b[0m\n\u001b[1;32m    459\u001b[0m     \u001b[0;32mdef\u001b[0m \u001b[0m__dir__\u001b[0m\u001b[0;34m(\u001b[0m\u001b[0mself\u001b[0m\u001b[0;34m)\u001b[0m\u001b[0;34m:\u001b[0m\u001b[0;34m\u001b[0m\u001b[0;34m\u001b[0m\u001b[0m\n",
      "\u001b[0;31mAttributeError\u001b[0m: DictList has no attribute or entry rxn00077_c0"
     ]
    }
   ],
   "source": [
    "model.reactions.rxn00077_c0"
   ]
  },
  {
   "cell_type": "code",
   "execution_count": 22,
   "metadata": {},
   "outputs": [
    {
     "data": {
      "text/plain": [
       "{'NAD kinase (EC 2.7.1.23)'}"
      ]
     },
     "execution_count": 22,
     "metadata": {},
     "output_type": "execute_result"
    }
   ],
   "source": [
    "model_compare_genome.features.b2615.functions"
   ]
  },
  {
   "cell_type": "code",
   "execution_count": 32,
   "metadata": {},
   "outputs": [
    {
     "name": "stdout",
     "output_type": "stream",
     "text": [
      "cpx00366 {<NewModelTemplateRole ftr05049 at 0x7f7058808940>: (True, False)}\n",
      "tcpx00002 {<NewModelTemplateRole tftr00135 at 0x7f70586d0c40>: (True, False)}\n"
     ]
    }
   ],
   "source": [
    "for o in model_compare_template.reactions.rxn00077_c.complexes:\n",
    "    print(o.id, o.roles)"
   ]
  },
  {
   "cell_type": "code",
   "execution_count": 45,
   "metadata": {},
   "outputs": [],
   "source": [
    "for f in genome.features:\n",
    "    for a, b in f.ontology_terms.items():\n",
    "        for k in b:\n",
    "            if 'NAD kinase' in k:\n",
    "                print(f.id, f.ontology_terms)"
   ]
  },
  {
   "cell_type": "code",
   "execution_count": 47,
   "metadata": {},
   "outputs": [
    {
     "ename": "AttributeError",
     "evalue": "'FBAModel' object has no attribute 'features'",
     "output_type": "error",
     "traceback": [
      "\u001b[0;31m---------------------------------------------------------------------------\u001b[0m",
      "\u001b[0;31mAttributeError\u001b[0m                            Traceback (most recent call last)",
      "\u001b[0;32m<ipython-input-47-41fbf095574a>\u001b[0m in \u001b[0;36m<module>\u001b[0;34m\u001b[0m\n\u001b[0;32m----> 1\u001b[0;31m \u001b[0mmodel_compare\u001b[0m\u001b[0;34m.\u001b[0m\u001b[0mfeatures\u001b[0m\u001b[0;34m\u001b[0m\u001b[0;34m\u001b[0m\u001b[0m\n\u001b[0m",
      "\u001b[0;31mAttributeError\u001b[0m: 'FBAModel' object has no attribute 'features'"
     ]
    }
   ],
   "source": [
    "model_compare.features"
   ]
  },
  {
   "cell_type": "code",
   "execution_count": 6,
   "metadata": {},
   "outputs": [],
   "source": [
    "data = core_template.get_data()"
   ]
  },
  {
   "cell_type": "code",
   "execution_count": 14,
   "metadata": {},
   "outputs": [
    {
     "name": "stdout",
     "output_type": "stream",
     "text": [
      "__VERSION__ 1\n",
      "biochemistry_ref 489/6/13\n",
      "biomasses <class 'list'>\n",
      "compartments <class 'list'>\n",
      "compcompounds <class 'list'>\n",
      "complexes <class 'list'>\n",
      "compounds <class 'list'>\n",
      "domain Bacteria\n",
      "id CoreModelTemplateV2\n",
      "name CoreModelTemplateV2\n",
      "pathways <class 'list'>\n",
      "reactions <class 'list'>\n",
      "roles <class 'list'>\n",
      "subsystems <class 'list'>\n",
      "type GenomeScale\n"
     ]
    }
   ],
   "source": [
    "for k in data.keys():\n",
    "    if type(data[k]) is list:\n",
    "        print(k, type(data[k]))\n",
    "    else:\n",
    "        print(k, data[k])"
   ]
  },
  {
   "cell_type": "code",
   "execution_count": 61,
   "metadata": {},
   "outputs": [],
   "source": [
    "model1 = kbase.get_from_ws('Version1.4_iMM904_GP_GMM', 28277)"
   ]
  },
  {
   "cell_type": "code",
   "execution_count": 77,
   "metadata": {},
   "outputs": [
    {
     "data": {
      "text/html": [
       "\n",
       "        <table>\n",
       "            <tr>\n",
       "                <td><strong>Metabolite identifier</strong></td><td>ptd1ino-SC-c_c0</td>\n",
       "            </tr><tr>\n",
       "                <td><strong>Name</strong></td><td>Phosphatidyl 1D myo inositol yeast specific...</td>\n",
       "            </tr><tr>\n",
       "                <td><strong>Memory address</strong></td>\n",
       "                <td>0x07f704f8d8b50</td>\n",
       "            </tr><tr>\n",
       "                <td><strong>Formula</strong></td><td>*</td>\n",
       "            </tr><tr>\n",
       "                <td><strong>Compartment</strong></td><td>c0</td>\n",
       "            </tr><tr>\n",
       "                <td><strong>In 17 reaction(s)</strong></td><td>\n",
       "                    PTD1INOtn_SC_c0, IPCS126_SC_c0, MIP2CS124_SC_c0, MIP2CS324_SC_c0, MIP2CS126_SC_c0, IPCS124_SC_c0, IPCS224_SC_c0, MIP2CS326_SC_c0, MIP2CS224_SC_c0, PIN4K_SC_c0, IPCS326_SC_c0, PINOS_SC_c0,...</td>\n",
       "            </tr>\n",
       "        </table>"
      ],
      "text/plain": [
       "<ModelCompound ptd1ino-SC-c_c0 at 0x7f704f8d8b50>"
      ]
     },
     "execution_count": 77,
     "metadata": {},
     "output_type": "execute_result"
    }
   ],
   "source": [
    "model1.metabolites.get_by_id('ptd1ino-SC-c_c0')"
   ]
  },
  {
   "cell_type": "code",
   "execution_count": 79,
   "metadata": {},
   "outputs": [
    {
     "data": {
      "text/html": [
       "\n",
       "        <table>\n",
       "            <tr>\n",
       "                <td><strong>Reaction identifier</strong></td><td>IPCS126_SC_c0</td>\n",
       "            </tr><tr>\n",
       "                <td><strong>Name</strong></td><td>Inositol phosphorylceramide synthase ceramide 1 26C yeast specific</td>\n",
       "            </tr><tr>\n",
       "                <td><strong>Memory address</strong></td>\n",
       "                <td>0x07f704e53d430</td>\n",
       "            </tr><tr>\n",
       "                <td><strong>Stoichiometry</strong></td>\n",
       "                <td>\n",
       "                    <p style='text-align:right'>cpd15221_c0 + 0.01 ptd1ino-SC-c_c0 --> 0.01 cpd15192_c0 + 0.01 cpd15244_c0</p>\n",
       "                    <p style='text-align:right'>Ceramide-1 Sphinganine:n-C26:0)_c0 + 0.01 Phosphatidyl 1D myo inositol yeast specific C4140H7644O1300P100 --> 0.01 1,2-Diacylglycerol, yeast-specific_c0 + 0.01 Inositol phosphorylceramide,...</p>\n",
       "                </td>\n",
       "            </tr><tr>\n",
       "                <td><strong>GPR</strong></td><td>(YKL004W)</td>\n",
       "            </tr><tr>\n",
       "                <td><strong>Lower bound</strong></td><td>0</td>\n",
       "            </tr><tr>\n",
       "                <td><strong>Upper bound</strong></td><td>999999</td>\n",
       "            </tr>\n",
       "        </table>\n",
       "        "
      ],
      "text/plain": [
       "<ModelReaction IPCS126_SC_c0 at 0x7f704e53d430>"
      ]
     },
     "execution_count": 79,
     "metadata": {},
     "output_type": "execute_result"
    }
   ],
   "source": [
    "model1.reactions.IPCS126_SC_c0"
   ]
  },
  {
   "cell_type": "code",
   "execution_count": 75,
   "metadata": {},
   "outputs": [
    {
     "name": "stdout",
     "output_type": "stream",
     "text": [
      "cpd11791_c0 1,3-beta-Glucan_c0 -1.1348\n",
      "cpd00035_c0 L-Alanine_c0 -0.4588\n",
      "cpd00018_c0 AMP_c0 -0.046\n",
      "cpd00051_c0 L-Arginine_c0 -0.1607\n",
      "cpd00132_c0 L-Asparagine_c0 -0.1017\n",
      "cpd00041_c0 L-Aspartate_c0 -0.2975\n",
      "cpd00002_c0 ATP_c0 -59.276\n",
      "cpd00046_c0 CMP_c0 -0.0447\n",
      "cpd00084_c0 L-Cysteine_c0 -0.0066\n",
      "cpd00294_c0 dAMP_c0 -0.0036\n",
      "cpd00206_c0 dCMP_c0 -0.0024\n",
      "cpd00296_c0 dGMP_c0 -0.0024\n",
      "cpd00298_c0 dTMP_c0 -0.0036\n",
      "cpd01170_c0 Ergosterol_c0 -0.0001\n",
      "cpd00053_c0 L-Glutamine_c0 -0.1054\n",
      "cpd00023_c0 L-Glutamate_c0 -0.3018\n",
      "cpd00033_c0 Glycine_c0 -0.2904\n",
      "cpd00155_c0 Glycogen_c0 -0.5185\n",
      "cpd00126_c0 GMP_c0 -0.046\n",
      "cpd00001_c0 H2O_c0 -59.276\n",
      "cpd00119_c0 L-Histidine_c0 -0.0663\n",
      "cpd00322_c0 L-Isoleucine_c0 -0.1927\n",
      "cpd00107_c0 L-Leucine_c0 -0.2964\n",
      "cpd00039_c0 L-Lysine_c0 -0.2862\n",
      "cpd11685_c0 Mannan_c0 -0.8079\n",
      "cpd00060_c0 L-Methionine_c0 -0.0507\n",
      "cpd15276_c0 Phosphatidate, yeast-specific_c0 -0.0001\n",
      "cpd11624_c0 Lecithin_c0 -0.0001\n",
      "cpd29688_c0 psetha_BS_c0 -0.0001\n",
      "cpd00066_c0 L-Phenylalanine_c0 -0.1339\n",
      "cpd00129_c0 L-Proline_c0 -0.1647\n",
      "cpd29687_c0 ps_BS_c0 -0.0001\n",
      "ptd1ino-SC-c_c0 Phosphatidyl 1D myo inositol  yeast specific C4140H7644O1300P100 -0.0001\n",
      "cpd00220_c0 Riboflavin_c0 -0.0001\n",
      "cpd00054_c0 L-Serine_c0 -0.1854\n",
      "cpd00048_c0 Sulfate_c0 -0.02\n",
      "cpd00161_c0 L-Threonine_c0 -0.1914\n",
      "cpd00794_c0 TRHL_c0 -0.0234\n",
      "cpd11677_c0 Triglyceride_c0 -0.0001\n",
      "cpd00065_c0 L-Tryptophan_c0 -0.0284\n",
      "cpd00069_c0 L-Tyrosine_c0 -0.102\n",
      "cpd00091_c0 UMP_c0 -0.0599\n",
      "cpd00156_c0 L-Valine_c0 -0.2646\n",
      "cpd03221_c0 Zymosterol_c0 -0.0015\n",
      "cpd00008_c0 ADP_c0 59.276\n",
      "cpd00067_c0 H+_c0 58.70001\n",
      "cpd00009_c0 Phosphate_c0 59.305\n",
      "cpd00104_c0 BIOT_c0 -0.008\n",
      "cpd00087_c0 Tetrahydrofolate_c0 -0.008\n",
      "cpd00017_c0 S-Adenosyl-L-methionine_c0 -0.008\n",
      "cpd00345_c0 5-Methyltetrahydrofolate_c0 -0.008\n",
      "cpd00016_c0 Pyridoxal phosphate_c0 -0.008\n",
      "cpd00644_c0 PAN_c0 -0.0001\n"
     ]
    }
   ],
   "source": [
    "for o, coef in model1.reactions.bio1.metabolites.items():\n",
    "    print(o, o.name, coef)"
   ]
  },
  {
   "cell_type": "code",
   "execution_count": 63,
   "metadata": {},
   "outputs": [],
   "source": [
    "media = kbase.get_from_ws('Carbon-D-Glucose', 28277)"
   ]
  },
  {
   "cell_type": "code",
   "execution_count": 64,
   "metadata": {},
   "outputs": [],
   "source": [
    "model1.medium = media"
   ]
  },
  {
   "cell_type": "code",
   "execution_count": 65,
   "metadata": {},
   "outputs": [
    {
     "data": {
      "text/html": [
       "<h3>Objective</h3><p>1.0 bio1 = 0.4257503467968175</p><h4>Uptake</h4><table border=\"1\" class=\"dataframe\">\n",
       "  <thead>\n",
       "    <tr style=\"text-align: right;\">\n",
       "      <th>Metabolite</th>\n",
       "      <th>Reaction</th>\n",
       "      <th>Flux</th>\n",
       "      <th>C-Number</th>\n",
       "      <th>C-Flux</th>\n",
       "    </tr>\n",
       "  </thead>\n",
       "  <tbody>\n",
       "    <tr>\n",
       "      <td>cpd00007_e0</td>\n",
       "      <td>EX_cpd00007_e0</td>\n",
       "      <td>10</td>\n",
       "      <td>0</td>\n",
       "      <td>0.00%</td>\n",
       "    </tr>\n",
       "    <tr>\n",
       "      <td>cpd00009_e0</td>\n",
       "      <td>EX_cpd00009_e0</td>\n",
       "      <td>0.1012</td>\n",
       "      <td>0</td>\n",
       "      <td>0.00%</td>\n",
       "    </tr>\n",
       "    <tr>\n",
       "      <td>cpd00013_e0</td>\n",
       "      <td>EX_cpd00013_e0</td>\n",
       "      <td>2.484</td>\n",
       "      <td>0</td>\n",
       "      <td>0.00%</td>\n",
       "    </tr>\n",
       "    <tr>\n",
       "      <td>cpd00027_e0</td>\n",
       "      <td>EX_cpd00027_e0</td>\n",
       "      <td>5</td>\n",
       "      <td>6</td>\n",
       "      <td>100.00%</td>\n",
       "    </tr>\n",
       "    <tr>\n",
       "      <td>cpd00048_e0</td>\n",
       "      <td>EX_cpd00048_e0</td>\n",
       "      <td>0.04313</td>\n",
       "      <td>0</td>\n",
       "      <td>0.00%</td>\n",
       "    </tr>\n",
       "  </tbody>\n",
       "</table><h4>Secretion</h4><table border=\"1\" class=\"dataframe\">\n",
       "  <thead>\n",
       "    <tr style=\"text-align: right;\">\n",
       "      <th>Metabolite</th>\n",
       "      <th>Reaction</th>\n",
       "      <th>Flux</th>\n",
       "      <th>C-Number</th>\n",
       "      <th>C-Flux</th>\n",
       "    </tr>\n",
       "  </thead>\n",
       "  <tbody>\n",
       "    <tr>\n",
       "      <td>cpd00001_e0</td>\n",
       "      <td>EX_cpd00001_e0</td>\n",
       "      <td>-15.91</td>\n",
       "      <td>0</td>\n",
       "      <td>0.00%</td>\n",
       "    </tr>\n",
       "    <tr>\n",
       "      <td>cpd00011_e0</td>\n",
       "      <td>EX_cpd00011_e0</td>\n",
       "      <td>-11.61</td>\n",
       "      <td>1</td>\n",
       "      <td>83.69%</td>\n",
       "    </tr>\n",
       "    <tr>\n",
       "      <td>cpd00047_e0</td>\n",
       "      <td>EX_cpd00047_e0</td>\n",
       "      <td>-0.007664</td>\n",
       "      <td>1</td>\n",
       "      <td>0.06%</td>\n",
       "    </tr>\n",
       "    <tr>\n",
       "      <td>cpd00067_e0</td>\n",
       "      <td>EX_cpd00067_e0</td>\n",
       "      <td>-2.241</td>\n",
       "      <td>0</td>\n",
       "      <td>0.00%</td>\n",
       "    </tr>\n",
       "    <tr>\n",
       "      <td>cpd00229_e0</td>\n",
       "      <td>EX_cpd00229_e0</td>\n",
       "      <td>-0.006812</td>\n",
       "      <td>2</td>\n",
       "      <td>0.10%</td>\n",
       "    </tr>\n",
       "    <tr>\n",
       "      <td>cpd00363_e0</td>\n",
       "      <td>EX_cpd00363_e0</td>\n",
       "      <td>-1.095</td>\n",
       "      <td>2</td>\n",
       "      <td>15.78%</td>\n",
       "    </tr>\n",
       "    <tr>\n",
       "      <td>cpd02701_c0</td>\n",
       "      <td>SK_cpd02701_c0</td>\n",
       "      <td>-0.003406</td>\n",
       "      <td>15</td>\n",
       "      <td>0.37%</td>\n",
       "    </tr>\n",
       "  </tbody>\n",
       "</table>"
      ],
      "text/plain": [
       "<cobra.summary.model_summary.ModelSummary at 0x7f704ef9f760>"
      ]
     },
     "execution_count": 65,
     "metadata": {},
     "output_type": "execute_result"
    }
   ],
   "source": [
    "model1.summary()"
   ]
  },
  {
   "cell_type": "code",
   "execution_count": 67,
   "metadata": {},
   "outputs": [],
   "source": [
    "model1.medium = {\n",
    "    'EX_cpd00007_e0': 0,\n",
    " 'EX_cpd00067_e0': 100,\n",
    " 'EX_cpd00013_e0': 100,\n",
    " 'EX_cpd00009_e0': 100,\n",
    " 'EX_cpd00027_e0': 5,\n",
    " 'EX_cpd00001_e0': 100,\n",
    " 'EX_cpd10515_e0': 100,\n",
    " 'EX_cpd00205_e0': 100,\n",
    " 'EX_cpd00048_e0': 100,\n",
    " 'EX_cpd00971_e0': 100}"
   ]
  },
  {
   "cell_type": "code",
   "execution_count": 68,
   "metadata": {},
   "outputs": [
    {
     "data": {
      "text/html": [
       "<h3>Objective</h3><p>1.0 bio1 = 0.11551180963863844</p><h4>Uptake</h4><table border=\"1\" class=\"dataframe\">\n",
       "  <thead>\n",
       "    <tr style=\"text-align: right;\">\n",
       "      <th>Metabolite</th>\n",
       "      <th>Reaction</th>\n",
       "      <th>Flux</th>\n",
       "      <th>C-Number</th>\n",
       "      <th>C-Flux</th>\n",
       "    </tr>\n",
       "  </thead>\n",
       "  <tbody>\n",
       "    <tr>\n",
       "      <td>cpd00009_e0</td>\n",
       "      <td>EX_cpd00009_e0</td>\n",
       "      <td>0.02745</td>\n",
       "      <td>0</td>\n",
       "      <td>0.00%</td>\n",
       "    </tr>\n",
       "    <tr>\n",
       "      <td>cpd00013_e0</td>\n",
       "      <td>EX_cpd00013_e0</td>\n",
       "      <td>0.6877</td>\n",
       "      <td>0</td>\n",
       "      <td>0.00%</td>\n",
       "    </tr>\n",
       "    <tr>\n",
       "      <td>cpd00027_e0</td>\n",
       "      <td>EX_cpd00027_e0</td>\n",
       "      <td>5</td>\n",
       "      <td>6</td>\n",
       "      <td>100.00%</td>\n",
       "    </tr>\n",
       "    <tr>\n",
       "      <td>cpd00048_e0</td>\n",
       "      <td>EX_cpd00048_e0</td>\n",
       "      <td>0.0117</td>\n",
       "      <td>0</td>\n",
       "      <td>0.00%</td>\n",
       "    </tr>\n",
       "  </tbody>\n",
       "</table><h4>Secretion</h4><table border=\"1\" class=\"dataframe\">\n",
       "  <thead>\n",
       "    <tr style=\"text-align: right;\">\n",
       "      <th>Metabolite</th>\n",
       "      <th>Reaction</th>\n",
       "      <th>Flux</th>\n",
       "      <th>C-Number</th>\n",
       "      <th>C-Flux</th>\n",
       "    </tr>\n",
       "  </thead>\n",
       "  <tbody>\n",
       "    <tr>\n",
       "      <td>cpd00001_e0</td>\n",
       "      <td>EX_cpd00001_e0</td>\n",
       "      <td>-1.888</td>\n",
       "      <td>0</td>\n",
       "      <td>0.00%</td>\n",
       "    </tr>\n",
       "    <tr>\n",
       "      <td>cpd00011_e0</td>\n",
       "      <td>EX_cpd00011_e0</td>\n",
       "      <td>-7.842</td>\n",
       "      <td>1</td>\n",
       "      <td>30.60%</td>\n",
       "    </tr>\n",
       "    <tr>\n",
       "      <td>cpd00036_e0</td>\n",
       "      <td>EX_cpd00036_e0</td>\n",
       "      <td>-0.4592</td>\n",
       "      <td>4</td>\n",
       "      <td>7.17%</td>\n",
       "    </tr>\n",
       "    <tr>\n",
       "      <td>cpd00067_e0</td>\n",
       "      <td>EX_cpd00067_e0</td>\n",
       "      <td>-1.538</td>\n",
       "      <td>0</td>\n",
       "      <td>0.00%</td>\n",
       "    </tr>\n",
       "    <tr>\n",
       "      <td>cpd00229_e0</td>\n",
       "      <td>EX_cpd00229_e0</td>\n",
       "      <td>-0.001848</td>\n",
       "      <td>2</td>\n",
       "      <td>0.01%</td>\n",
       "    </tr>\n",
       "    <tr>\n",
       "      <td>cpd00363_e0</td>\n",
       "      <td>EX_cpd00363_e0</td>\n",
       "      <td>-7.903</td>\n",
       "      <td>2</td>\n",
       "      <td>61.68%</td>\n",
       "    </tr>\n",
       "    <tr>\n",
       "      <td>cpd00800_e0</td>\n",
       "      <td>EX_cpd00800_e0</td>\n",
       "      <td>-0.01373</td>\n",
       "      <td>9</td>\n",
       "      <td>0.48%</td>\n",
       "    </tr>\n",
       "    <tr>\n",
       "      <td>cpd02701_c0</td>\n",
       "      <td>SK_cpd02701_c0</td>\n",
       "      <td>-0.0009241</td>\n",
       "      <td>15</td>\n",
       "      <td>0.05%</td>\n",
       "    </tr>\n",
       "  </tbody>\n",
       "</table>"
      ],
      "text/plain": [
       "<cobra.summary.model_summary.ModelSummary at 0x7f704f293040>"
      ]
     },
     "execution_count": 68,
     "metadata": {},
     "output_type": "execute_result"
    }
   ],
   "source": [
    "model1.summary()"
   ]
  },
  {
   "cell_type": "code",
   "execution_count": null,
   "metadata": {},
   "outputs": [],
   "source": []
  }
 ],
 "metadata": {
  "kernelspec": {
   "display_name": "Python 3",
   "language": "python",
   "name": "python3"
  },
  "language_info": {
   "codemirror_mode": {
    "name": "ipython",
    "version": 3
   },
   "file_extension": ".py",
   "mimetype": "text/x-python",
   "name": "python",
   "nbconvert_exporter": "python",
   "pygments_lexer": "ipython3",
   "version": "3.8.10"
  }
 },
 "nbformat": 4,
 "nbformat_minor": 4
}
