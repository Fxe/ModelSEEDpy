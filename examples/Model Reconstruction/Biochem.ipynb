{
 "cells": [
  {
   "cell_type": "markdown",
   "id": "7f53fcb3-4b49-4d57-a2e5-afa555378ce0",
   "metadata": {},
   "source": [
    "# Reading ModelSEED Biochemistry from ModelSEED Database\n",
    "\n",
    "This notebook provides examples to read data from the biochemistry database"
   ]
  },
  {
   "cell_type": "markdown",
   "id": "74246002-2a2e-405c-8aa0-2ed382c752cc",
   "metadata": {},
   "source": [
    "The biochemistry database is represented by the `modelseedpy.biochem.modelseed_biochem.ModelSEEDDatabase` class\n",
    "\n",
    "The database can be instantiated from either a local github copy of the database repository or loaded via web url from github.\n",
    "* `from_local` - from_local(*path to repository*)\n",
    "    * Example:\n",
    "        1. first we obtain a copy of the repository: `git clone https://github.com/ModelSEED/ModelSEEDDatabase.git`\n",
    "        2. then we can load the repository with `from_local`: `from_local('/home/user/ModelSEEDDatabase')`\n",
    "* `from_github` - from_github(*commit version*)\n",
    "    * Example:\n",
    "        * load the dev branch from github (default: https://github.com/ModelSEED/ModelSEEDDatabase): `from_github('dev')`\n",
    "        * load a specific commit version from github: `from_github('194ac8afe48f8a606c0dd07ba3c7af10c02ba2fd')`\n",
    "        * load from another fork/repository: `from_github('master', 'https://raw.githubusercontent.com/Fxe/ModelSEEDDatabase')`"
   ]
  },
  {
   "cell_type": "code",
   "execution_count": 1,
   "id": "ac3992a9-d5b3-48d7-b744-0dd08a32df27",
   "metadata": {},
   "outputs": [],
   "source": [
    "import logging\n",
    "import pandas as pd\n",
    "from modelseedpy.biochem.modelseed_biochem import get_structures_from_df, get_aliases_from_df, get_names_from_df, process_aliases, load_metabolites_from_df\n",
    "from modelseedpy.biochem.modelseed_biochem import ALIAS_RXN_IDENTIFIERS_ORG, ALIAS_MODELS\n",
    "from modelseedpy.biochem.modelseed_biochem import from_local2, from_local, from_github\n",
    "from modelseedpy.biochem.modelseed_reaction import ModelSEEDReaction, ModelSEEDReaction2\n",
    "logger = logging.getLogger(__name__)"
   ]
  },
  {
   "cell_type": "code",
   "execution_count": 2,
   "id": "65ecaae2-d062-4221-b567-dddd4eec15bd",
   "metadata": {},
   "outputs": [
    {
     "name": "stdout",
     "output_type": "stream",
     "text": [
      "CPU times: user 16.8 s, sys: 668 ms, total: 17.5 s\n",
      "Wall time: 17.5 s\n"
     ]
    }
   ],
   "source": [
    "%%time\n",
    "modelseed_local2 = from_local2('/home/fliu/workspace/python/ModelSEEDDatabase/')"
   ]
  },
  {
   "cell_type": "code",
   "execution_count": 3,
   "id": "cc04b352-3890-4bad-8a16-c9a05e401be2",
   "metadata": {},
   "outputs": [
    {
     "name": "stdout",
     "output_type": "stream",
     "text": [
      "CPU times: user 42.2 s, sys: 503 ms, total: 42.7 s\n",
      "Wall time: 42.7 s\n"
     ]
    }
   ],
   "source": [
    "%%time\n",
    "modelseed_local1 = from_local('/home/fliu/workspace/python/ModelSEEDDatabase/')"
   ]
  },
  {
   "cell_type": "code",
   "execution_count": 4,
   "id": "43934d69-bbd0-4cab-ab7f-a6e4296a7b56",
   "metadata": {},
   "outputs": [
    {
     "name": "stdout",
     "output_type": "stream",
     "text": [
      "CPU times: user 18.8 s, sys: 1.12 s, total: 19.9 s\n",
      "Wall time: 24.3 s\n"
     ]
    }
   ],
   "source": [
    "%%time\n",
    "modelseed_git = from_github('dev')"
   ]
  },
  {
   "cell_type": "code",
   "execution_count": 5,
   "id": "7e4ce949-7c34-408e-976b-77d7eaf0993f",
   "metadata": {},
   "outputs": [],
   "source": [
    "inchi_key_lookup = {}\n",
    "for cpd in modelseed_git.compounds:\n",
    "    inchi_key = cpd.inchi_key\n",
    "    inchi_key = None if pd.isna(inchi_key) or len(inchi_key) == 0 else inchi_key\n",
    "    cpd.inchi_key = inchi_key\n",
    "    if cpd.inchi_key:\n",
    "        a, b, p = cpd.inchi_key.split('-')\n",
    "        if a not in inchi_key_lookup:\n",
    "            inchi_key_lookup[a] = {}\n",
    "        if b not in inchi_key_lookup[a]:\n",
    "            inchi_key_lookup[a][b] = set()\n",
    "        inchi_key_lookup[a][b].add((cpd.id, p))"
   ]
  },
  {
   "cell_type": "code",
   "execution_count": 6,
   "id": "27d973b2-67af-43a0-b418-737843aeb038",
   "metadata": {},
   "outputs": [],
   "source": [
    "metabolite_reactions = {}\n",
    "for rxn in modelseed_git.reactions:\n",
    "    if not rxn.is_obsolete:\n",
    "        for m in rxn.metabolites:\n",
    "            if m.seed_id not in metabolite_reactions:\n",
    "                metabolite_reactions[m.seed_id] = set()\n",
    "            metabolite_reactions[m.seed_id].add(rxn.id)"
   ]
  },
  {
   "cell_type": "code",
   "execution_count": 35,
   "id": "28c90f2a-3f21-4616-8c69-2c746be512ec",
   "metadata": {},
   "outputs": [],
   "source": []
  },
  {
   "cell_type": "code",
   "execution_count": 7,
   "id": "d91f26d4-f2d1-4231-9408-7a451a304399",
   "metadata": {},
   "outputs": [],
   "source": [
    "import cobra\n",
    "model = cobra.io.load_json_model('/home/fliu/workspace/data/sbml/iAnC892/iAnC892_single.json')"
   ]
  },
  {
   "cell_type": "code",
   "execution_count": 8,
   "id": "43f03e38-ea9b-462d-b69c-aea595fdd8bd",
   "metadata": {},
   "outputs": [
    {
     "data": {
      "text/html": [
       "\n",
       "        <table>\n",
       "            <tr>\n",
       "                <td><strong>Reaction identifier</strong></td><td>rxn08335_p_p</td>\n",
       "            </tr><tr>\n",
       "                <td><strong>Name</strong></td><td>rxn08335_p</td>\n",
       "            </tr><tr>\n",
       "                <td><strong>Memory address</strong></td>\n",
       "                <td>0x07fcbbaba06d0</td>\n",
       "            </tr><tr>\n",
       "                <td><strong>Stoichiometry</strong></td>\n",
       "                <td>\n",
       "                    <p style='text-align:right'>cpd00282_c + cpd07274_p --> cpd00247_c + cpd16503_p</p>\n",
       "                    <p style='text-align:right'>S-Dihydroorotate + Plastoquinone A --> Orotate + Plastoquinol-9</p>\n",
       "                </td>\n",
       "            </tr><tr>\n",
       "                <td><strong>GPR</strong></td><td>A3776_RS12690</td>\n",
       "            </tr><tr>\n",
       "                <td><strong>Lower bound</strong></td><td>0.0</td>\n",
       "            </tr><tr>\n",
       "                <td><strong>Upper bound</strong></td><td>1000.0</td>\n",
       "            </tr>\n",
       "        </table>\n",
       "        "
      ],
      "text/plain": [
       "<Reaction rxn08335_p_p at 0x7fcbbaba06d0>"
      ]
     },
     "execution_count": 8,
     "metadata": {},
     "output_type": "execute_result"
    }
   ],
   "source": [
    "model.reactions.rxn08335_p_p"
   ]
  },
  {
   "cell_type": "code",
   "execution_count": 9,
   "id": "7c892248-657d-40aa-b73f-57331a0e7948",
   "metadata": {},
   "outputs": [
    {
     "data": {
      "text/html": [
       "\n",
       "        <table>\n",
       "            <tr>\n",
       "                <td><strong>Name</strong></td>\n",
       "                <td>M_iAnC892</td>\n",
       "            </tr><tr>\n",
       "                <td><strong>Memory address</strong></td>\n",
       "                <td>0x07fcc386bc3a0</td>\n",
       "            </tr><tr>\n",
       "                <td><strong>Number of metabolites</strong></td>\n",
       "                <td>934</td>\n",
       "            </tr><tr>\n",
       "                <td><strong>Number of reactions</strong></td>\n",
       "                <td>909</td>\n",
       "            </tr><tr>\n",
       "                <td><strong>Number of groups</strong></td>\n",
       "                <td>0</td>\n",
       "            </tr><tr>\n",
       "                <td><strong>Objective expression</strong></td>\n",
       "                <td>0</td>\n",
       "            </tr><tr>\n",
       "                <td><strong>Compartments</strong></td>\n",
       "                <td>Cytoplasm, Lumen, periplasm, Extracellular space, Carboxysome, Pseudo compartment</td>\n",
       "            </tr>\n",
       "          </table>"
      ],
      "text/plain": [
       "<Model M_iAnC892 at 0x7fcc386bc3a0>"
      ]
     },
     "execution_count": 9,
     "metadata": {},
     "output_type": "execute_result"
    }
   ],
   "source": [
    "model"
   ]
  },
  {
   "cell_type": "code",
   "execution_count": 10,
   "id": "4436bbf2-885f-41a4-ab76-87f688447cb1",
   "metadata": {},
   "outputs": [],
   "source": [
    "#rxn37623: cpd00005_0 + 3.0 cpd00067_0 + cpd07274_0 <=> cpd00006_0 + cpd29046_0\n",
    "#rxn37623 NADPH + 3.0 H+ + Plastoquinone A <=> NADP + plastoquinol A\n",
    "#rxn36824 NADPH + H+ + Plastoquinone A <=> NADP + Plastoquinol-9\n",
    "#rxn36824: cpd00005_0 + cpd00067_0 + cpd07274_0 <=> cpd00006_0 + cpd16503_0\n",
    "super_c = {\n",
    "    'NDH1_1u_k': ('NDH1_1u_k', {'0': 'c', '1': 'k'}),\n",
    "    'NDH1_1p_p': ('NDH1_1u_k', {'0': 'c', '1': 'p'}),\n",
    "    'NDH1_4pp_p': ('NDH1_3u_k', {'0': 'c', '1': 'k'}),\n",
    "    'NDH1_3u_k': ('NDH1_3u_k', {'0': 'c', '1': 'p'}),\n",
    "    'NDH1_2p_p': ('NDH1_2u_k', {'0': 'c', '1': 'p'}),\n",
    "    'NDH1_2u_k': ('NDH1_2u_k', {'0': 'c', '1': 'k'}),\n",
    "    \n",
    "    'rxn08335_p_p': ('DHORD_PQ9_k', {'0': 'c', '1': 'p'}),\n",
    "    'DHORD_PQ9_k': ('DHORD_PQ9_k', {'0': 'c', '1': 'k'}),\n",
    "}\n",
    "#           cpd00005_c + 4.0 cpd00067_c + cpd07274_k --> cpd00006_c + 3.0 cpd00067_k + cpd16503_k\n",
    "#NDH1_1p_p: cpd00005_c + 4.0 cpd00067_c + cpd07274_p --> cpd00006_c + 3.0 cpd00067_p + cpd16503_p\n",
    "#NDH1_1u_k: cpd00005_c + 4.0 cpd00067_c + cpd07274_k --> cpd00006_c + 3.0 cpd00067_k + cpd16503_k\n",
    "super_s = {\n",
    "    'NDH1_1u_k': {\n",
    "        ('cpd00005', '0'): -1, \n",
    "        ('cpd00067', '0'): -4, \n",
    "        ('cpd07274', '1'): -1,\n",
    "        ('cpd00006', '0'): 1, \n",
    "        ('cpd00067', '1'): 3, \n",
    "        ('cpd16503', '1'): 1\n",
    "    },\n",
    "\n",
    "#NDH1_4pp_p: cpd00001_c + cpd00005_c + cpd00011_p + 3.0 cpd00067_c + cpd07274_p --> cpd00006_c + 3.0 cpd00067_p + cpd00242_c + cpd16503_p\n",
    "#NDH1_3u_k : cpd00001_c + cpd00005_c + cpd00011_p + 3.0 cpd00067_c + cpd07274_k --> cpd00006_c + 3.0 cpd00067_k + cpd00242_c + cpd16503_k\n",
    "    'NDH1_3u_k': {\n",
    "        ('cpd00001', '0'): -1, \n",
    "        ('cpd00005', '0'): -1, \n",
    "        ('cpd00011', '0'): -1,\n",
    "        ('cpd00067', '0'): -3,\n",
    "        ('cpd07274', '1'): -1,\n",
    "        ('cpd00006', '0'): 1, \n",
    "        ('cpd00067', '1'): 3, \n",
    "        ('cpd00242', '0'): 1,\n",
    "        ('cpd16503', '1'): 1\n",
    "    },\n",
    "#NDH1_2p_p: cpd00004_c + 4.0 cpd00067_c + cpd07274_p --> cpd00003_c + 3.0 cpd00067_p + cpd16503_p\n",
    "#NDH1_2u_k: cpd00004_c + 4.0 cpd00067_c + cpd07274_k --> cpd00003_c + 3.0 cpd00067_k + cpd16503_k\n",
    "    'NDH1_2u_k': {\n",
    "        ('cpd00004', '0'): -1, \n",
    "        ('cpd00067', '0'): -4, \n",
    "        ('cpd07274', '1'): -1,\n",
    "        ('cpd00003', '0'): 1,\n",
    "        ('cpd00067', '1'): 3, \n",
    "        ('cpd16503', '1'): 1\n",
    "    },\n",
    "#NDH2_syn_k: cpd00004_c + cpd00067_c + cpd07274_k --> cpd00003_c + cpd16503_k\n",
    "    'NDH2_syn_k': {\n",
    "        ('cpd00004', 'c'): -1, \n",
    "        ('cpd00067', 'c'): -1, \n",
    "        ('cpd07274', 'k'): -1,\n",
    "        ('cpd00003', 'c'): 1,\n",
    "        ('cpd16503', 'k'): 1\n",
    "    },\n",
    "#rxn08335_p_p: cpd00282_c + cpd07274_p --> cpd00247_c + cpd16503_p\n",
    "#DHORD_PQ9_k : cpd00282_c + cpd07274_k --> cpd00247_c + cpd16503_k\n",
    "    'DHORD_PQ9_k': {\n",
    "        ('cpd00282', '0'): -1, \n",
    "        ('cpd07274', '1'): -1, \n",
    "        ('cpd00247', '0'): 1,\n",
    "        ('cpd16503', '1'): 1\n",
    "    }\n",
    "}"
   ]
  },
  {
   "cell_type": "code",
   "execution_count": 11,
   "id": "3ce735a9-be63-4144-a466-d36b4c5b09f1",
   "metadata": {},
   "outputs": [
    {
     "name": "stdout",
     "output_type": "stream",
     "text": [
      "NDH1_1u_k True\n",
      "NDH1_1p_p True\n",
      "NDH1_4pp_p False\n",
      "rxn_s_match {'cpd00001_c': -1, 'cpd00005_c': -1, 'cpd00011_c': -1, 'cpd00067_c': -3, 'cpd07274_k': -1, 'cpd00006_c': 1, 'cpd00067_k': 3, 'cpd00242_c': 1, 'cpd16503_k': 1}\n",
      "rxn_s_model {'cpd16503_p': 1.0, 'cpd00067_c': -3.0, 'cpd00067_p': 3.0, 'cpd00242_c': 1.0, 'cpd00011_p': -1.0, 'cpd00006_c': 1.0, 'cpd00005_c': -1.0, 'cpd07274_p': -1.0, 'cpd00001_c': -1.0}\n",
      "NDH1_3u_k False\n",
      "rxn_s_match {'cpd00001_c': -1, 'cpd00005_c': -1, 'cpd00011_c': -1, 'cpd00067_c': -3, 'cpd07274_p': -1, 'cpd00006_c': 1, 'cpd00067_p': 3, 'cpd00242_c': 1, 'cpd16503_p': 1}\n",
      "rxn_s_model {'cpd00067_c': -3.0, 'cpd00067_k': 3.0, 'cpd00242_c': 1.0, 'cpd00011_p': -1.0, 'cpd00006_c': 1.0, 'cpd07274_k': -1.0, 'cpd00005_c': -1.0, 'cpd16503_k': 1.0, 'cpd00001_c': -1.0}\n",
      "NDH1_2p_p True\n",
      "NDH1_2u_k True\n",
      "rxn08335_p_p True\n",
      "DHORD_PQ9_k True\n"
     ]
    }
   ],
   "source": [
    "for rxn_id in super_c:\n",
    "    if rxn_id in model.reactions:\n",
    "        stoich_key, compartment_setup = super_c[rxn_id]\n",
    "        rxn_model = model.reactions.get_by_id(rxn_id)\n",
    "        #print(rxn_id, rxn_model)\n",
    "        #print(compartment_setup)\n",
    "        rxn_s_model = dict(map(lambda x: (x[0].id, x[1]), rxn_model.metabolites.items()))\n",
    "        rxn_s_match = {}\n",
    "        for (cpd_id, cmp_token), v in super_s[stoich_key].items():\n",
    "            _cpd_id = f'{cpd_id}_{compartment_setup[cmp_token]}'\n",
    "            rxn_s_match[_cpd_id] = v\n",
    "\n",
    "        valid = rxn_s_model == rxn_s_match\n",
    "        print(rxn_id, valid)\n",
    "        if not valid:\n",
    "            print('rxn_s_match', rxn_s_match)\n",
    "            print('rxn_s_model', rxn_s_model)"
   ]
  },
  {
   "cell_type": "code",
   "execution_count": 12,
   "id": "5247a251-46de-4338-bb3d-ae336dae5bfa",
   "metadata": {
    "tags": []
   },
   "outputs": [
    {
     "name": "stdout",
     "output_type": "stream",
     "text": [
      "rxn16344: 2.0 cpd00067_0 + cpd11420_0 + 2.0 cpd11620_0 <=> cpd11421_0 + 2.0 cpd11621_0\n",
      "rxn16344 2.0 H+ + trdox + 2.0 Reducedferredoxin <=> trdrd + 2.0 Oxidizedferredoxin\n",
      "\n"
     ]
    }
   ],
   "source": [
    "def finddd(a, b):\n",
    "    c = set(a) | set(b)\n",
    "    super_match = None\n",
    "    for i in c:\n",
    "        if i in metabolite_reactions:\n",
    "            if super_match is None:\n",
    "                super_match = set(metabolite_reactions[i])\n",
    "            super_match &= set(metabolite_reactions[i])\n",
    "    return super_match\n",
    "\n",
    "#finddd(['cpd00003'], ['cpd00004'])\n",
    "for r in finddd(['cpd11421', 'cpd11621'], ['cpd11420', 'cpd11620']):\n",
    "    rxn = modelseed_git.reactions.get_by_id(r)\n",
    "    print(rxn)\n",
    "    print(rxn.id, rxn.build_reaction_string(True))\n",
    "    print()"
   ]
  },
  {
   "cell_type": "code",
   "execution_count": null,
   "id": "2e451f61-3ce3-4f18-b68c-d989ff5cb49e",
   "metadata": {},
   "outputs": [],
   "source": []
  }
 ],
 "metadata": {
  "kernelspec": {
   "display_name": "Python 3",
   "language": "python",
   "name": "python3"
  },
  "language_info": {
   "codemirror_mode": {
    "name": "ipython",
    "version": 3
   },
   "file_extension": ".py",
   "mimetype": "text/x-python",
   "name": "python",
   "nbconvert_exporter": "python",
   "pygments_lexer": "ipython3",
   "version": "3.8.10"
  }
 },
 "nbformat": 4,
 "nbformat_minor": 5
}
