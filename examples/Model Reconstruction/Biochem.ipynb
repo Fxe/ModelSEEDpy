{
 "cells": [
  {
   "cell_type": "markdown",
   "id": "7f53fcb3-4b49-4d57-a2e5-afa555378ce0",
   "metadata": {},
   "source": [
    "# Reading ModelSEED Biochemistry from ModelSEED Database\n",
    "\n",
    "This notebook provides examples to read data from the biochemistry database"
   ]
  },
  {
   "cell_type": "markdown",
   "id": "74246002-2a2e-405c-8aa0-2ed382c752cc",
   "metadata": {},
   "source": [
    "The biochemistry database is represented by the `modelseedpy.biochem.modelseed_biochem.ModelSEEDDatabase` class\n",
    "\n",
    "The database can be instantiated from either a local github copy of the database repository or loaded via web url from github.\n",
    "* `from_local` - from_local(*path to repository*)\n",
    "    * Example:\n",
    "        1. first we obtain a copy of the repository: `git clone https://github.com/ModelSEED/ModelSEEDDatabase.git`\n",
    "        2. then we can load the repository with `from_local`: `from_local('/home/user/ModelSEEDDatabase')`\n",
    "* `from_github` - from_github(*commit version*)\n",
    "    * Example:\n",
    "        * load the dev branch from github (default: https://github.com/ModelSEED/ModelSEEDDatabase): `from_github('dev')`\n",
    "        * load a specific commit version from github: `from_github('194ac8afe48f8a606c0dd07ba3c7af10c02ba2fd')`\n",
    "        * load from another fork/repository: `from_github('master', 'https://raw.githubusercontent.com/Fxe/ModelSEEDDatabase')`"
   ]
  },
  {
   "cell_type": "code",
   "execution_count": 1,
   "id": "ac3992a9-d5b3-48d7-b744-0dd08a32df27",
   "metadata": {},
   "outputs": [],
   "source": [
    "import logging\n",
    "import pandas as pd\n",
    "from modelseedpy.biochem.modelseed_biochem import get_structures_from_df, get_aliases_from_df, get_names_from_df, process_aliases, load_metabolites_from_df\n",
    "from modelseedpy.biochem.modelseed_biochem import ALIAS_RXN_IDENTIFIERS_ORG, ALIAS_MODELS\n",
    "from modelseedpy.biochem.modelseed_biochem import from_local2, from_local, from_github\n",
    "from modelseedpy.biochem.modelseed_reaction import ModelSEEDReaction, ModelSEEDReaction2\n",
    "logger = logging.getLogger(__name__)"
   ]
  },
  {
   "cell_type": "code",
   "execution_count": 2,
   "id": "65ecaae2-d062-4221-b567-dddd4eec15bd",
   "metadata": {},
   "outputs": [
    {
     "name": "stdout",
     "output_type": "stream",
     "text": [
      "CPU times: user 16.8 s, sys: 668 ms, total: 17.5 s\n",
      "Wall time: 17.5 s\n"
     ]
    }
   ],
   "source": [
    "%%time\n",
    "modelseed_local2 = from_local2('/home/fliu/workspace/python/ModelSEEDDatabase/')"
   ]
  },
  {
   "cell_type": "code",
   "execution_count": 3,
   "id": "cc04b352-3890-4bad-8a16-c9a05e401be2",
   "metadata": {},
   "outputs": [
    {
     "name": "stdout",
     "output_type": "stream",
     "text": [
      "CPU times: user 42.2 s, sys: 503 ms, total: 42.7 s\n",
      "Wall time: 42.7 s\n"
     ]
    }
   ],
   "source": [
    "%%time\n",
    "modelseed_local1 = from_local('/home/fliu/workspace/python/ModelSEEDDatabase/')"
   ]
  },
  {
   "cell_type": "code",
   "execution_count": 4,
   "id": "43934d69-bbd0-4cab-ab7f-a6e4296a7b56",
   "metadata": {},
   "outputs": [
    {
     "name": "stdout",
     "output_type": "stream",
     "text": [
      "CPU times: user 18.8 s, sys: 1.12 s, total: 19.9 s\n",
      "Wall time: 24.3 s\n"
     ]
    }
   ],
   "source": [
    "%%time\n",
    "modelseed_git = from_github('dev')"
   ]
  },
  {
   "cell_type": "code",
   "execution_count": 5,
   "id": "7e4ce949-7c34-408e-976b-77d7eaf0993f",
   "metadata": {},
   "outputs": [],
   "source": [
    "inchi_key_lookup = {}\n",
    "for cpd in modelseed_git.compounds:\n",
    "    inchi_key = cpd.inchi_key\n",
    "    inchi_key = None if pd.isna(inchi_key) or len(inchi_key) == 0 else inchi_key\n",
    "    cpd.inchi_key = inchi_key\n",
    "    if cpd.inchi_key:\n",
    "        a, b, p = cpd.inchi_key.split('-')\n",
    "        if a not in inchi_key_lookup:\n",
    "            inchi_key_lookup[a] = {}\n",
    "        if b not in inchi_key_lookup[a]:\n",
    "            inchi_key_lookup[a][b] = set()\n",
    "        inchi_key_lookup[a][b].add((cpd.id, p))"
   ]
  },
  {
   "cell_type": "code",
   "execution_count": 6,
   "id": "27d973b2-67af-43a0-b418-737843aeb038",
   "metadata": {},
   "outputs": [],
   "source": [
    "metabolite_reactions = {}\n",
    "for rxn in modelseed_git.reactions:\n",
    "    if not rxn.is_obsolete:\n",
    "        for m in rxn.metabolites:\n",
    "            if m.seed_id not in metabolite_reactions:\n",
    "                metabolite_reactions[m.seed_id] = set()\n",
    "            metabolite_reactions[m.seed_id].add(rxn.id)"
   ]
  },
  {
   "cell_type": "code",
   "execution_count": 14,
   "id": "28c90f2a-3f21-4616-8c69-2c746be512ec",
   "metadata": {},
   "outputs": [],
   "source": [
    "import cobrakbase\n",
    "kbase = cobrakbase.KBaseAPI()\n",
    "genome = kbase.get_from_ws('87388/3/1')"
   ]
  },
  {
   "cell_type": "code",
   "execution_count": 38,
   "id": "87e117e3-762c-4840-a40b-66714ef675f5",
   "metadata": {},
   "outputs": [
    {
     "data": {
      "text/plain": [
       "{'aliases': [['protein_id', 'WP_066378293.1'], ['locus_tag', 'A3776_RS08395']],\n",
       " 'cdss': ['A3776_RS08395_CDS_1'],\n",
       " 'dna_sequence': 'ATGATTGTACCCTTGCTATATCTGGCTTTAGCCGGAGCCTATCTATTAGTTGTCCCGGTGGCTTTAATGCTTTACCTCAACCTACGCTGGTATACGGCTGGCTCGATTGAGCGCACCGTCATGTATTTTTTTGTATTTTTGTTCTTTCCCGGACTGTTGGTTTTGTCGCCGTTTGTGAATCTGCGACCCAAACCCCGCAAAATTGAAGTTTAA',\n",
       " 'dna_sequence_length': 213,\n",
       " 'functions': ['NADH dehydrogenase subunit', 'NdhL'],\n",
       " 'id': 'A3776_RS08395',\n",
       " 'location': [['NZ_LUHI01000036.1', 21434, '-', 213]],\n",
       " 'md5': '1ae8b7b3d705b63184c99a9711785d23',\n",
       " 'protein_md5': '1ae8b7b3d705b63184c99a9711785d23',\n",
       " 'protein_translation': 'MIVPLLYLALAGAYLLVVPVALMLYLNLRWYTAGSIERTVMYFFVFLFFPGLLVLSPFVNLRPKPRKIEV',\n",
       " 'protein_translation_length': 70,\n",
       " 'quality': {'hit_count': 5, 'weighted_hit_count': 5.5205}}"
      ]
     },
     "execution_count": 38,
     "metadata": {},
     "output_type": "execute_result"
    }
   ],
   "source": [
    "genome.features.get_by_id('A3776_RS08395').data"
   ]
  },
  {
   "cell_type": "code",
   "execution_count": 221,
   "id": "d950807e-d2b1-423e-be71-7f54a5a35930",
   "metadata": {},
   "outputs": [],
   "source": [
    "import json\n",
    "data = None\n",
    "with open('/home/fliu/workspace/data/sbml/iAnC892/iAnC892_single.json', 'r') as fh:\n",
    "    data = json.load(fh)"
   ]
  },
  {
   "cell_type": "code",
   "execution_count": 222,
   "id": "80409e3f-e672-47bc-b275-715f79276bfb",
   "metadata": {},
   "outputs": [],
   "source": [
    "%run /home/fliu/workspace/data/sbml/iAnC892/tools.py\n",
    "integrate_to_seed(data)"
   ]
  },
  {
   "cell_type": "code",
   "execution_count": 161,
   "id": "d644b65e-3955-4da4-b346-3a3e4d0cd9ae",
   "metadata": {},
   "outputs": [],
   "source": [
    "with open('/home/fliu/workspace/data/sbml/iAnC892/iAnC892_single_mapped.json', 'w') as fh:\n",
    "    fh.write(json.dumps(data, indent=4, sort_keys=True))"
   ]
  },
  {
   "cell_type": "code",
   "execution_count": 162,
   "id": "df7e8efe-df5c-48a5-b240-48b7f51996ec",
   "metadata": {},
   "outputs": [],
   "source": []
  },
  {
   "cell_type": "code",
   "execution_count": 163,
   "id": "b9906460-1807-45ce-9b8b-65f4a910fce2",
   "metadata": {},
   "outputs": [],
   "source": []
  },
  {
   "cell_type": "code",
   "execution_count": 223,
   "id": "e64a4938-9fa5-496d-9658-633b88c0ae56",
   "metadata": {},
   "outputs": [],
   "source": []
  },
  {
   "cell_type": "code",
   "execution_count": 224,
   "id": "93c0dcbd-fdb0-41f7-8e70-f02668fe4108",
   "metadata": {},
   "outputs": [
    {
     "data": {
      "text/html": [
       "\n",
       "        <table>\n",
       "            <tr>\n",
       "                <td><strong>Metabolite identifier</strong></td><td>cpd00011_p</td>\n",
       "            </tr><tr>\n",
       "                <td><strong>Name</strong></td><td>CO2</td>\n",
       "            </tr><tr>\n",
       "                <td><strong>Memory address</strong></td>\n",
       "                <td>0x07fcba66f68e0</td>\n",
       "            </tr><tr>\n",
       "                <td><strong>Formula</strong></td><td>CO2</td>\n",
       "            </tr><tr>\n",
       "                <td><strong>Compartment</strong></td><td>p</td>\n",
       "            </tr><tr>\n",
       "                <td><strong>In 2 reaction(s)</strong></td><td>\n",
       "                    cpd00011exccc_p, cpd00011excpp_e</td>\n",
       "            </tr>\n",
       "        </table>"
      ],
      "text/plain": [
       "<Metabolite cpd00011_p at 0x7fcba66f68e0>"
      ]
     },
     "execution_count": 224,
     "metadata": {},
     "output_type": "execute_result"
    }
   ],
   "source": [
    "model_mapped.metabolites.cpd00011_p"
   ]
  },
  {
   "cell_type": "code",
   "execution_count": 225,
   "id": "3a7c8dc8-2a5c-46e5-b850-432f622b9e9f",
   "metadata": {},
   "outputs": [
    {
     "data": {
      "text/html": [
       "<h3>Objective</h3><p>1.0 obj_ATP = 0.8035714285714285</p><h4>Uptake</h4><table border=\"1\" class=\"dataframe\">\n",
       "  <thead>\n",
       "    <tr style=\"text-align: right;\">\n",
       "      <th>Metabolite</th>\n",
       "      <th>Reaction</th>\n",
       "      <th>Flux</th>\n",
       "      <th>C-Number</th>\n",
       "      <th>C-Flux</th>\n",
       "    </tr>\n",
       "  </thead>\n",
       "  <tbody>\n",
       "    <tr>\n",
       "      <td>cpd11632_e</td>\n",
       "      <td>EX_cpd11632_e</td>\n",
       "      <td>0.5</td>\n",
       "      <td>0</td>\n",
       "      <td>0.00%</td>\n",
       "    </tr>\n",
       "    <tr>\n",
       "      <td>hvphoton1_e</td>\n",
       "      <td>EX_hvphoton1_e</td>\n",
       "      <td>0.5</td>\n",
       "      <td>0</td>\n",
       "      <td>0.00%</td>\n",
       "    </tr>\n",
       "  </tbody>\n",
       "</table><h4>Secretion</h4><table border=\"1\" class=\"dataframe\">\n",
       "  <thead>\n",
       "    <tr style=\"text-align: right;\">\n",
       "      <th>Metabolite</th>\n",
       "      <th>Reaction</th>\n",
       "      <th>Flux</th>\n",
       "      <th>C-Number</th>\n",
       "      <th>C-Flux</th>\n",
       "    </tr>\n",
       "  </thead>\n",
       "  <tbody>\n",
       "  </tbody>\n",
       "</table>"
      ],
      "text/plain": [
       "<cobra.summary.model_summary.ModelSummary at 0x7fcba7328b80>"
      ]
     },
     "execution_count": 225,
     "metadata": {},
     "output_type": "execute_result"
    }
   ],
   "source": [
    "model_mapped = cobra.io.load_json_model('/home/fliu/workspace/data/sbml/iAnC892/iAnC892_single_mapped.json')\n",
    "from modelseedpy import MSBuilder\n",
    "from cobra.core import Reaction\n",
    "MSBuilder.build_exchanges(model_mapped, 'e')\n",
    "atp_obj = Reaction('obj_ATP', 'ATP objective function', 'objetive function', 0, 1000)\n",
    "atp_obj.add_metabolites({\n",
    "    model_mapped.metabolites.cpd00001_c: -1,\n",
    "    model_mapped.metabolites.cpd00002_c: -1,\n",
    "    model_mapped.metabolites.cpd00008_c: 1,\n",
    "    model_mapped.metabolites.cpd00009_c: 1,\n",
    "    model_mapped.metabolites.cpd00067_c: 1,\n",
    "})\n",
    "model_mapped.add_reactions([atp_obj])\n",
    "model_mapped.objective = 'obj_ATP'\n",
    "model_mapped.medium = {\n",
    "    #'EX_cpd00067_e': 1,\n",
    "    'EX_cpd11632_e': 0.5,\n",
    "    #'EX_hvphoton2_e': 0.5,\n",
    "    'EX_hvphoton1_e': 0.5\n",
    "}\n",
    "#1.0 obj_ATP = 0.8035714285714285\n",
    "model_mapped.summary()"
   ]
  },
  {
   "cell_type": "code",
   "execution_count": 197,
   "id": "ae9ff50c-d433-46b6-91c1-efb2ceaa8594",
   "metadata": {},
   "outputs": [],
   "source": [
    "model_mapped.medium = {\n",
    "        'EX_cpd00067_e': 1\n",
    "    }\n",
    "sol = cobra.flux_analysis.pfba(model_mapped)"
   ]
  },
  {
   "cell_type": "code",
   "execution_count": null,
   "id": "ef5ccc4d-ef83-455d-8602-1c37bca79558",
   "metadata": {},
   "outputs": [],
   "source": [
    "for a in [{'EX_cpd11632_e': 1}, {'EX_hvphoton1_e': 1}]:\n",
    "    model_mapped.medium = {\n",
    "        k.id: 1,\n",
    "    }\n",
    "    sol = cobra.flux_analysis.pfba(model_mapped)\n",
    "\n",
    "    print(model_mapped.medium)\n",
    "    ss = f\"{cpd.id}\\t{cpd.name}\\t{sol.fluxes['obj_ATP']}\\t{sol.status}\"\n",
    "    print(ss)"
   ]
  },
  {
   "cell_type": "code",
   "execution_count": null,
   "id": "7a57bcf3-1dbc-4e2d-899a-5b3fdaef9c63",
   "metadata": {},
   "outputs": [],
   "source": [
    "#glc/O2 22.857142857142854\n",
    "#glc 0"
   ]
  },
  {
   "cell_type": "code",
   "execution_count": 218,
   "id": "24fe768b-c842-4eb6-ba83-5d3013f1ddb1",
   "metadata": {},
   "outputs": [
    {
     "data": {
      "text/html": [
       "<h3>Objective</h3><p>1.0 obj_ATP = 0.0</p><h4>Uptake</h4><table border=\"1\" class=\"dataframe\">\n",
       "  <thead>\n",
       "    <tr style=\"text-align: right;\">\n",
       "      <th>Metabolite</th>\n",
       "      <th>Reaction</th>\n",
       "      <th>Flux</th>\n",
       "      <th>C-Number</th>\n",
       "      <th>C-Flux</th>\n",
       "    </tr>\n",
       "  </thead>\n",
       "  <tbody>\n",
       "  </tbody>\n",
       "</table><h4>Secretion</h4><table border=\"1\" class=\"dataframe\">\n",
       "  <thead>\n",
       "    <tr style=\"text-align: right;\">\n",
       "      <th>Metabolite</th>\n",
       "      <th>Reaction</th>\n",
       "      <th>Flux</th>\n",
       "      <th>C-Number</th>\n",
       "      <th>C-Flux</th>\n",
       "    </tr>\n",
       "  </thead>\n",
       "  <tbody>\n",
       "  </tbody>\n",
       "</table>"
      ],
      "text/plain": [
       "<cobra.summary.model_summary.ModelSummary at 0x7fcbaa776580>"
      ]
     },
     "execution_count": 218,
     "metadata": {},
     "output_type": "execute_result"
    }
   ],
   "source": [
    "model_mapped.medium = {\n",
    "    'EX_cpd00067_e': 1000,\n",
    "    'EX_cpd00001_e': 1000,\n",
    "    'EX_cpd00242_e': 1, #H2CO3\n",
    "    'EX_cpd00528_e': 1000, #N2\n",
    "    'EX_cpd00011_e': 1000, #co2\n",
    "    'EX_cpd00007_e': 0, #O2\n",
    "    'EX_cpd11632_e': 0,\n",
    "    'EX_hvphoton1_e': 0,\n",
    "    'EX_cpd00027_e': 1,\n",
    "    'EX_cpd00048_e': 1,\n",
    "    'EX_cpd00209_e': 1,\n",
    "    'EX_cpd11640_e': 1, #H2\n",
    "    'EX_cpd00268_e': 10\n",
    "    }\n",
    "model_mapped.summary()"
   ]
  },
  {
   "cell_type": "code",
   "execution_count": 203,
   "id": "511cbac2-307e-4834-b301-41d0b3596451",
   "metadata": {
    "collapsed": true,
    "jupyter": {
     "outputs_hidden": true
    },
    "tags": []
   },
   "outputs": [
    {
     "name": "stdout",
     "output_type": "stream",
     "text": [
      "cpd11632_e\tPhotosystem 2 photon\t0.8571428571428571\toptimal\n",
      "hvphoton1_e\tPhotosystem 1 photon\t0.75\toptimal\n",
      "cpd00067_e\tH+\t0.0\toptimal\n",
      "cpd00001_e\tH2O\t0.0\toptimal\n",
      "cpd00007_e\tO2\t0.0\toptimal\n",
      "cpd00009_e\tPhosphate\t0.0\toptimal\n",
      "cpd00048_e\tSulfate\t0.0\toptimal\n",
      "cpd00209_e\tNitrate\t0.0\toptimal\n",
      "cpd00254_e\tMg\t0.0\toptimal\n",
      "cpd10515_e\tFe+2\t0.0\toptimal\n",
      "cpd00149_e\tCo2+\t0.0\toptimal\n",
      "cpd00034_e\tZn2+\t0.0\toptimal\n",
      "cpd00058_e\tCu2+\t0.0\toptimal\n",
      "cpd20863_e\tMn2+\t0.0\toptimal\n",
      "cpd00063_e\tCa2+\t0.0\toptimal\n",
      "cpd00205_e\tK+\t0.0\toptimal\n",
      "cpd00971_e\tNa+\t0.0\toptimal\n",
      "cpd11574_e\tMolybdate\t0.0\toptimal\n",
      "cpd00011_e\tCO2\t0.0\toptimal\n",
      "cpd00528_e\tN2\t0.0\toptimal\n",
      "cpd00027_e\tD-Glucose\t0.0\toptimal\n",
      "cpd00053_e\tL-Glutamine\t0.0\toptimal\n",
      "cpd00107_e\tL-Leucine\t0.0\toptimal\n",
      "cpd00118_e\tPutrescine\t0.0\toptimal\n",
      "cpd00129_e\tL-Proline\t0.0\toptimal\n",
      "cpd00156_e\tL-Valine\t0.0\toptimal\n",
      "cpd00179_e\tMaltose\t0.0\toptimal\n",
      "cpd00264_e\tSpermidine\t0.0\toptimal\n",
      "cpd00268_e\tH2S2O3\t0.0\toptimal\n",
      "cpd00322_e\tL-Isoleucine\t0.0\toptimal\n",
      "cpd03725_e\tFe(III)dicitrate\t0.0\toptimal\n",
      "cpd00060_e\tL-Methionine\t0.0\toptimal\n",
      "cpd00104_e\tBIOT\t0.0\toptimal\n",
      "cpd01012_e\tCd2+\t0.0\toptimal\n",
      "cpd11593_e\tala-L-asp-L\t0.0\toptimal\n",
      "cpd00159_e\tL-Lactate\t0.0\toptimal\n",
      "cpd01262_e\tAmylotriose\t0.0\toptimal\n",
      "cpd01329_e\tMaltohexaose\t0.0\toptimal\n",
      "cpd00242_e\tH2CO3\t0.0\toptimal\n",
      "cpd00013_e\tcpd00013[e]\t0.0\toptimal\n",
      "cpd11640_e\tH2\t0.0\toptimal\n"
     ]
    }
   ],
   "source": [
    "for k in model_mapped.exchanges:\n",
    "    cpd = list(k.metabolites)[0]\n",
    "    model_mapped.medium = {\n",
    "        k.id: 1,\n",
    "    }\n",
    "    sol = cobra.flux_analysis.pfba(model_mapped)\n",
    "    ss = f\"{cpd.id}\\t{cpd.name}\\t{sol.fluxes['obj_ATP']}\\t{sol.status}\"\n",
    "    print(ss)"
   ]
  },
  {
   "cell_type": "code",
   "execution_count": 43,
   "id": "1c6bc2f8-d523-440b-904c-5acd4db54860",
   "metadata": {},
   "outputs": [
    {
     "name": "stdout",
     "output_type": "stream",
     "text": [
      "Dihydroorotate dehydrogenase (quinone) (EC 1.3.5.2)\n",
      "Putative dihydropyrimidine dehydrogenase [NADP+], similar to dihydroorotate dehydrogenase\n"
     ]
    }
   ],
   "source": [
    "for k in ['A3776_RS12690', 'A3776_RS16110']:\n",
    "    for o in genome.features.get_by_id(k).functions:\n",
    "        print(o)\n"
   ]
  },
  {
   "cell_type": "code",
   "execution_count": 19,
   "id": "15430fde-162c-4476-9319-35ebcf0541c1",
   "metadata": {},
   "outputs": [
    {
     "name": "stdout",
     "output_type": "stream",
     "text": [
      "NDH1_1u_k A3776_RS06230 and A3776_RS16180 and A3776_RS20905 and A3776_RS06215 and A3776_RS06220 and A3776_RS19180 and ( A3776_RS06225 or A3776_RS21975 ) and A3776_RS20895 and A3776_RS20900 and A3776_RS08395 and A3776_RS11390 and A3776_RS03245 and A3776_RS09810 and A3776_RS09805 and A3776_RS09800 and ( A3776_RS08060 or A3776_RS10415 or A3776_RS22280 ) and ( A3776_RS03760 or A3776_RS08065 or A3776_RS18720 )\n",
      "NDH1_1p_p A3776_RS06230 and A3776_RS16180 and A3776_RS20905 and A3776_RS06215 and A3776_RS06220 and A3776_RS19180 and ( A3776_RS06225 or A3776_RS21975 ) and A3776_RS20895 and A3776_RS20900 and A3776_RS08395 and A3776_RS11390 and A3776_RS03245 and A3776_RS09810 and A3776_RS09805 and A3776_RS09800 and ( A3776_RS08060 or A3776_RS10415 or A3776_RS22280 ) and ( A3776_RS03760 or A3776_RS08065 or A3776_RS18720 )\n",
      "NDH1_4pp_p A3776_RS06230 and A3776_RS16180 and A3776_RS20905 and A3776_RS06215 and A3776_RS06220 and A3776_RS19180 and ( A3776_RS06225 or A3776_RS21975 ) and A3776_RS20895 and A3776_RS20900 and A3776_RS08395 and A3776_RS11390 and A3776_RS03245 and A3776_RS09810 and A3776_RS09805 and A3776_RS09800 and ( A3776_RS03765 or A3776_RS18715 ) and ( A3776_RS03760 or A3776_RS08065 or A3776_RS18720 ) and A3776_RS03770\n",
      "NDH1_3u_k A3776_RS06230 and A3776_RS16180 and A3776_RS20905 and A3776_RS06215 and A3776_RS06220 and A3776_RS19180 and ( A3776_RS06225 or A3776_RS21975 ) and A3776_RS20895 and A3776_RS20900 and A3776_RS08395 and A3776_RS11390 and A3776_RS03245 and A3776_RS09810 and A3776_RS09805 and A3776_RS09800 and ( A3776_RS08060 or A3776_RS10415 or A3776_RS22280 ) and ( A3776_RS03760 or A3776_RS08065 or A3776_RS18720 ) and A3776_RS18710 and A3776_RS04105\n",
      "NDH1_2p_p A3776_RS06230 and A3776_RS16180 and A3776_RS20905 and A3776_RS06215 and A3776_RS06220 and A3776_RS19180 and ( A3776_RS06225 or A3776_RS21975 ) and A3776_RS20895 and A3776_RS20900 and A3776_RS08395 and A3776_RS11390 and A3776_RS03245 and A3776_RS09810 and A3776_RS09805 and A3776_RS09800 and ( A3776_RS08060 or A3776_RS10415 or A3776_RS22280 ) and ( A3776_RS03760 or A3776_RS08065 or A3776_RS18720 )\n",
      "NDH1_2u_k A3776_RS06230 and A3776_RS16180 and A3776_RS20905 and A3776_RS06215 and A3776_RS06220 and A3776_RS19180 and ( A3776_RS06225 or A3776_RS21975 ) and A3776_RS20895 and A3776_RS20900 and A3776_RS08395 and A3776_RS11390 and A3776_RS03245 and A3776_RS09810 and A3776_RS09805 and A3776_RS09800 and ( A3776_RS08060 or A3776_RS10415 or A3776_RS22280 ) and ( A3776_RS03760 or A3776_RS08065 or A3776_RS18720 )\n",
      "rxn08335_p_p A3776_RS12690\n",
      "DHORD_PQ9_k A3776_RS12690 or A3776_RS16110\n"
     ]
    }
   ],
   "source": [
    "for rxn_id in super_c:\n",
    "    if rxn_id in model.reactions:\n",
    "        stoich_key, compartment_setup = super_c[rxn_id]\n",
    "        rxn_model = model.reactions.get_by_id(rxn_id)\n",
    "        print(rxn_model.id, rxn_model.gene_reaction_rule)"
   ]
  },
  {
   "cell_type": "code",
   "execution_count": 7,
   "id": "d91f26d4-f2d1-4231-9408-7a451a304399",
   "metadata": {},
   "outputs": [],
   "source": [
    "import cobra\n",
    "model = cobra.io.load_json_model('/home/fliu/workspace/data/sbml/iAnC892/iAnC892_single.json')"
   ]
  },
  {
   "cell_type": "code",
   "execution_count": 64,
   "id": "43f03e38-ea9b-462d-b69c-aea595fdd8bd",
   "metadata": {},
   "outputs": [
    {
     "data": {
      "text/html": [
       "\n",
       "        <table>\n",
       "            <tr>\n",
       "                <td><strong>Reaction identifier</strong></td><td>CBFCu_k</td>\n",
       "            </tr><tr>\n",
       "                <td><strong>Name</strong></td><td>cytochrome b6/f complex</td>\n",
       "            </tr><tr>\n",
       "                <td><strong>Memory address</strong></td>\n",
       "                <td>0x07fcbbf9f9f70</td>\n",
       "            </tr><tr>\n",
       "                <td><strong>Stoichiometry</strong></td>\n",
       "                <td>\n",
       "                    <p style='text-align:right'>2.0 cpd00067_c + 2.0 cpd12265_k + cpd16503_k --> 4.0 cpd00067_k + cpd07274_k + 2.0 cpd12239_k</p>\n",
       "                    <p style='text-align:right'>2.0 H+ + 2.0 Oxidized plastocyanin + Plastoquinol-9 --> 4.0 H+ + Plastoquinone A + 2.0 Reduced plastocyanin</p>\n",
       "                </td>\n",
       "            </tr><tr>\n",
       "                <td><strong>GPR</strong></td><td>A3776_RS13955 or A3776_RS22750</td>\n",
       "            </tr><tr>\n",
       "                <td><strong>Lower bound</strong></td><td>0.0</td>\n",
       "            </tr><tr>\n",
       "                <td><strong>Upper bound</strong></td><td>1000.0</td>\n",
       "            </tr>\n",
       "        </table>\n",
       "        "
      ],
      "text/plain": [
       "<Reaction CBFCu_k at 0x7fcbbf9f9f70>"
      ]
     },
     "execution_count": 64,
     "metadata": {},
     "output_type": "execute_result"
    }
   ],
   "source": [
    "model.reactions.CBFCu_k"
   ]
  },
  {
   "cell_type": "code",
   "execution_count": 62,
   "id": "7c892248-657d-40aa-b73f-57331a0e7948",
   "metadata": {
    "tags": []
   },
   "outputs": [
    {
     "name": "stdout",
     "output_type": "stream",
     "text": [
      "cpd00007_0 0 cpd00007_k\n",
      "-1.0\n",
      "cpd00067_0 0 cpd00067_k\n",
      "-4.0\n",
      "cpd16503_0 0 cpd16503_k\n",
      "-2.0\n",
      "cpd00001_0 0 cpd00001_k\n",
      "2.0\n",
      "cpd00067_1 1 cpd00067_c\n",
      "4.0\n",
      "cpd07274_0 0 cpd07274_k\n",
      "2.0\n",
      "cpd11632_0 0 cpd11632_k\n",
      "1.0\n"
     ]
    },
    {
     "data": {
      "text/html": [
       "\n",
       "        <table>\n",
       "            <tr>\n",
       "                <td><strong>Reaction identifier</strong></td><td>rxn46370_k</td>\n",
       "            </tr><tr>\n",
       "                <td><strong>Name</strong></td><td>nan</td>\n",
       "            </tr><tr>\n",
       "                <td><strong>Memory address</strong></td>\n",
       "                <td>0x07fcbbc01f790</td>\n",
       "            </tr><tr>\n",
       "                <td><strong>Stoichiometry</strong></td>\n",
       "                <td>\n",
       "                    <p style='text-align:right'>cpd00007_k + 4.0 cpd00067_k + 2.0 cpd16503_k <=> 2.0 cpd00001_k + 4.0 cpd00067_c + 2.0 cpd07274_k + cpd11632_k</p>\n",
       "                    <p style='text-align:right'>O2 + 4.0 H+ + 2.0 Plastoquinol-9 <=> 2.0 H2O + 4.0 H+ + 2.0 Plastoquinone A + hn</p>\n",
       "                </td>\n",
       "            </tr><tr>\n",
       "                <td><strong>GPR</strong></td><td></td>\n",
       "            </tr><tr>\n",
       "                <td><strong>Lower bound</strong></td><td>-1000</td>\n",
       "            </tr><tr>\n",
       "                <td><strong>Upper bound</strong></td><td>1000</td>\n",
       "            </tr>\n",
       "        </table>\n",
       "        "
      ],
      "text/plain": [
       "<Reaction rxn46370_k at 0x7fcbbc01f790>"
      ]
     },
     "execution_count": 62,
     "metadata": {},
     "output_type": "execute_result"
    }
   ],
   "source": [
    "seed_build = {\n",
    "    'PSII_k': ('rxn46370', {'0': 'k', '1': 'c'}),\n",
    "}\n",
    "modelseed_git.reactions.rxn46370.to_template_reaction({'0': 'k', '1': 'c'})"
   ]
  },
  {
   "cell_type": "code",
   "execution_count": null,
   "id": "4556b85c-5d82-45e0-b9bb-e9860adf35a4",
   "metadata": {},
   "outputs": [],
   "source": []
  },
  {
   "cell_type": "code",
   "execution_count": 170,
   "id": "4436bbf2-885f-41a4-ab76-87f688447cb1",
   "metadata": {},
   "outputs": [],
   "source": [
    "#rxn37623: cpd00005_0 + 3.0 cpd00067_0 + cpd07274_0 <=> cpd00006_0 + cpd29046_0\n",
    "#rxn37623 NADPH + 3.0 H+ + Plastoquinone A <=> NADP + plastoquinol A\n",
    "#rxn36824 NADPH + H+ + Plastoquinone A <=> NADP + Plastoquinol-9\n",
    "#rxn36824: cpd00005_0 + cpd00067_0 + cpd07274_0 <=> cpd00006_0 + cpd16503_0\n",
    "super_c = {\n",
    "    'NDH1_1u_k': ('NDH1_1u_k', {'0': 'c', '1': 'k'}),\n",
    "    'NDH1_1p_p': ('NDH1_1u_k', {'0': 'c', '1': 'p'}),\n",
    "    'NDH1_4pp_p': ('NDH1_3u_k', {'0': 'c', '1': 'p'}),\n",
    "    'NDH1_3u_k': ('NDH1_3u_k', {'0': 'c', '1': 'k'}),\n",
    "    'NDH1_2p_p': ('NDH1_2u_k', {'0': 'c', '1': 'p'}),\n",
    "    'NDH1_2u_k': ('NDH1_2u_k', {'0': 'c', '1': 'k'}),\n",
    "    \n",
    "    'rxn08335_p_p': ('DHORD_PQ9_k', {'0': 'c', '1': 'p'}),\n",
    "    'DHORD_PQ9_k': ('DHORD_PQ9_k', {'0': 'c', '1': 'k'}),\n",
    "    'FQR_k': ('FQR_k', {'0': 'c', '1': 'k'}),\n",
    "    'CBFCu_k': ('CBFCu_k', {'0': 'c', '1': 'k'}),\n",
    "}\n",
    "#           cpd00005_c + 4.0 cpd00067_c + cpd07274_k --> cpd00006_c + 3.0 cpd00067_k + cpd16503_k\n",
    "#NDH1_1p_p: cpd00005_c + 4.0 cpd00067_c + cpd07274_p --> cpd00006_c + 3.0 cpd00067_p + cpd16503_p\n",
    "#NDH1_1u_k: cpd00005_c + 4.0 cpd00067_c + cpd07274_k --> cpd00006_c + 3.0 cpd00067_k + cpd16503_k\n",
    "super_s = {\n",
    "    'NDH1_1u_k': {\n",
    "        ('cpd00005', '0'): -1, \n",
    "        ('cpd00067', '0'): -4, \n",
    "        ('cpd07274', '1'): -1,\n",
    "        ('cpd00006', '0'): 1, \n",
    "        ('cpd00067', '1'): 3, \n",
    "        ('cpd16503', '1'): 1\n",
    "    },\n",
    "\n",
    "#NDH1_4pp_p: cpd00001_c + cpd00005_c + cpd00011_p + 3.0 cpd00067_c + cpd07274_p --> cpd00006_c + 3.0 cpd00067_p + cpd00242_c + cpd16503_p\n",
    "#NDH1_3u_k : cpd00001_c + cpd00005_c + cpd00011_p + 3.0 cpd00067_c + cpd07274_k --> cpd00006_c + 3.0 cpd00067_k + cpd00242_c + cpd16503_k\n",
    "    'NDH1_3u_k': {\n",
    "        ('cpd00001', '0'): -1, \n",
    "        ('cpd00005', '0'): -1, \n",
    "        ('cpd00011', '0'): -1,\n",
    "        ('cpd00067', '0'): -3,\n",
    "        ('cpd07274', '1'): -1,\n",
    "        ('cpd00006', '0'): 1, \n",
    "        ('cpd00067', '1'): 3, \n",
    "        ('cpd00242', '0'): 1,\n",
    "        ('cpd16503', '1'): 1\n",
    "    },\n",
    "#NDH1_2p_p: cpd00004_c + 4.0 cpd00067_c + cpd07274_p --> cpd00003_c + 3.0 cpd00067_p + cpd16503_p\n",
    "#NDH1_2u_k: cpd00004_c + 4.0 cpd00067_c + cpd07274_k --> cpd00003_c + 3.0 cpd00067_k + cpd16503_k\n",
    "    'NDH1_2u_k': {\n",
    "        ('cpd00004', '0'): -1, \n",
    "        ('cpd00067', '0'): -4, \n",
    "        ('cpd07274', '1'): -1,\n",
    "        ('cpd00003', '0'): 1,\n",
    "        ('cpd00067', '1'): 3, \n",
    "        ('cpd16503', '1'): 1\n",
    "    },\n",
    "#NDH2_syn_k: cpd00004_c + cpd00067_c + cpd07274_k --> cpd00003_c + cpd16503_k\n",
    "    'NDH2_syn_k': {\n",
    "        ('cpd00004', 'c'): -1, \n",
    "        ('cpd00067', 'c'): -1, \n",
    "        ('cpd07274', 'k'): -1,\n",
    "        ('cpd00003', 'c'): 1,\n",
    "        ('cpd16503', 'k'): 1\n",
    "    },\n",
    "#rxn08335_p_p: cpd00282_c + cpd07274_p --> cpd00247_c + cpd16503_p\n",
    "#DHORD_PQ9_k : cpd00282_c + cpd07274_k --> cpd00247_c + cpd16503_k\n",
    "    'DHORD_PQ9_k': {\n",
    "        ('cpd00282', '0'): -1, \n",
    "        ('cpd07274', '1'): -1, \n",
    "        ('cpd00247', '0'): 1,\n",
    "        ('cpd16503', '1'): 1\n",
    "    },\n",
    "#FQR_k: 2.0 cpd00067_c + cpd07274_k + 2.0 cpd11620_c --> 2.0 cpd11621_c + cpd16503_k\n",
    "    'FQR_k': {\n",
    "        ('cpd00067', '0'): -2, \n",
    "        ('cpd07274', '1'): -1, \n",
    "        ('cpd11620', '0'): -2,\n",
    "        ('cpd11621', '0'): 2,\n",
    "        ('cpd16503', '1'): 1\n",
    "    },\n",
    "#CBFCu_k: 2.0 cpd00067_c + 2.0 cpd12265_k + cpd16503_k --> 4.0 cpd00067_k + cpd07274_k + 2.0 cpd12239_k\n",
    "    'CBFCu_k': {\n",
    "        ('cpd00067', '0'): -2, \n",
    "        ('cpd12265', '1'): -2, \n",
    "        ('cpd16503', '1'): -1,\n",
    "        ('cpd00067', '1'): 4,\n",
    "        ('cpd07274', '1'): 1,\n",
    "        ('cpd12239', '1'): 2\n",
    "    },\n",
    "}"
   ]
  },
  {
   "cell_type": "code",
   "execution_count": 150,
   "id": "aecd7819-ac3f-4ec7-90f1-d262a6a5fb3e",
   "metadata": {},
   "outputs": [],
   "source": [
    "# CYTBDu_k -> DB with pq9"
   ]
  },
  {
   "cell_type": "code",
   "execution_count": null,
   "id": "e5d103f6-1cef-4851-a845-68eeb80298ef",
   "metadata": {},
   "outputs": [],
   "source": []
  },
  {
   "cell_type": "code",
   "execution_count": 174,
   "id": "3ce735a9-be63-4144-a466-d36b4c5b09f1",
   "metadata": {},
   "outputs": [
    {
     "name": "stdout",
     "output_type": "stream",
     "text": [
      "NDH1_1u_k True\n",
      "NDH1_1p_p True\n",
      "NDH1_4pp_p True\n",
      "NDH1_3u_k True\n",
      "NDH1_2p_p True\n",
      "NDH1_2u_k True\n",
      "rxn08335_p_p True\n",
      "DHORD_PQ9_k True\n",
      "FQR_k True\n",
      "CBFCu_k True\n"
     ]
    }
   ],
   "source": [
    "def test(model_mapped):\n",
    "    for rxn_id in super_c:\n",
    "        if rxn_id in model_mapped.reactions:\n",
    "            stoich_key, compartment_setup = super_c[rxn_id]\n",
    "            rxn_model = model_mapped.reactions.get_by_id(rxn_id)\n",
    "            #print(rxn_id, rxn_model)\n",
    "            #\n",
    "            rxn_s_model = dict(map(lambda x: (x[0].id, x[1]), rxn_model.metabolites.items()))\n",
    "            rxn_s_match = {}\n",
    "            for (cpd_id, cmp_token), v in super_s[stoich_key].items():\n",
    "                _cpd_id = f'{cpd_id}_{compartment_setup[cmp_token]}'\n",
    "                rxn_s_match[_cpd_id] = v\n",
    "\n",
    "            valid = rxn_s_model == rxn_s_match\n",
    "            print(rxn_id, valid)\n",
    "            if not valid:\n",
    "                print(rxn_id, compartment_setup)\n",
    "                print('rxn_s_match', rxn_s_match)\n",
    "                print('rxn_s_model', rxn_s_model)\n",
    "test(model_mapped)"
   ]
  },
  {
   "cell_type": "code",
   "execution_count": null,
   "id": "e5540a3d-cfe9-4f79-8a12-d3b1ee55747e",
   "metadata": {},
   "outputs": [],
   "source": []
  },
  {
   "cell_type": "code",
   "execution_count": null,
   "id": "85ac7e99-1a38-436d-b006-a10021d7b26a",
   "metadata": {},
   "outputs": [],
   "source": [
    "rxn14159: cpd00006_0 + cpd00067_0 + 2.0 cpd11620_0 <=> cpd00005_0 + 2.0 cpd11621_0\n",
    "rxn14159 NADP + H+ + 2.0 Reducedferredoxin <=> NADPH + 2.0 Oxidizedferredoxin\n",
    "\n",
    "rxn05937: cpd00006_0 + cpd00067_0 + cpd11620_0 <=> cpd00005_0 + cpd11621_0\n",
    "rxn05937 NADP + H+ + Reducedferredoxin <=> NADPH + Oxidizedferredoxin"
   ]
  },
  {
   "cell_type": "code",
   "execution_count": 226,
   "id": "5247a251-46de-4338-bb3d-ae336dae5bfa",
   "metadata": {
    "tags": []
   },
   "outputs": [
    {
     "name": "stdout",
     "output_type": "stream",
     "text": [
      "rxn34892: 4.0 cpd00005_0 + cpd00007_0 + cpd11621_0 + cpd30237_0 <=> 2.0 cpd00001_0 + 4.0 cpd00006_0 + cpd11620_0 + cpd30238_0 {'0'}\n",
      "rxn34892 4.0 NADPH + O2 + Oxidizedferredoxin + Digalactosyldiacylglycerol (1-(9Z)-octadecenoyl,2-(7Z,10Z)-hexadecadienoyl, 18:1(9Z)/16:2(7Z,10Z)) <=> 2.0 H2O + 4.0 NADP + Reducedferredoxin + Digalactosyldiacylglycerol (1-(9Z)-octadecenoyl,2-(4Z,7Z,10Z)-hexadecatrienoyl, 18:1(9Z)/16:3(4Z,7Z,10Z))\n",
      "\n",
      "rxn34920: 4.0 cpd00005_0 + cpd00007_0 + cpd11621_0 + cpd30244_0 <=> 2.0 cpd00001_0 + 4.0 cpd00006_0 + cpd11620_0 + cpd30248_0 {'0'}\n",
      "rxn34920 4.0 NADPH + O2 + Oxidizedferredoxin + Digalactosyldiacylglycerol (1-(9Z,12Z)-octadecadienoyl,2-(4Z,7Z,10Z)-hexadecatrienoyl, 18:2(9Z,12Z)/16:3(4Z,7Z,10Z)) <=> 2.0 H2O + 4.0 NADP + Reducedferredoxin + Digalactosyldiacylglycerol (1-(9Z,12Z,15Z)-octadecatrienoyl,2-(4Z,7Z,10Z)-hexadecatrienoyl, 18:3(9Z,12Z,15Z)/16:3(4Z,7Z,10Z))\n",
      "\n",
      "rxn35092: 4.0 cpd00005_0 + cpd00007_0 + cpd11621_0 + cpd30556_0 <=> 2.0 cpd00001_0 + 4.0 cpd00006_0 + cpd11620_0 + cpd30558_0 {'0'}\n",
      "rxn35092 4.0 NADPH + O2 + Oxidizedferredoxin + Sulfoquinovosyldiacylglycerol (1-(9Z)-octadecenoyl,2-hexadecanoyl, 18:1(9Z)/16:0) <=> 2.0 H2O + 4.0 NADP + Reducedferredoxin + Sulfoquinovosyldiacylglycerol (1-(9Z,12Z)-octadecadienoyl,2-hexadecanoyl, 18:2(9Z,12Z)/16:0)\n",
      "\n",
      "rxn34982: 4.0 cpd00005_0 + cpd00007_0 + cpd11621_0 + cpd30380_0 <=> 2.0 cpd00001_0 + 4.0 cpd00006_0 + cpd11620_0 + cpd30385_0 {'0'}\n",
      "rxn34982 4.0 NADPH + O2 + Oxidizedferredoxin + Monogalactosyldiacylglycerol (1-(9Z,12Z)-octadecadienoyl,2-(4Z,7Z,10Z)-hexadecatrienoyl, 18:2(9Z,12Z)/16:3(4Z,7Z,10Z)) <=> 2.0 H2O + 4.0 NADP + Reducedferredoxin + Monogalactosyldiacylglycerol (1-(9Z,12Z,15Z)-octadecatrienoyl,2-(4Z,7Z,10Z)-hexadecatrienoyl, 18:3(9Z,12Z,15Z)/16:3(4Z,7Z,10Z))\n",
      "\n",
      "rxn34984: 4.0 cpd00005_0 + cpd00007_0 + cpd11621_0 + cpd30384_0 <=> 2.0 cpd00001_0 + 4.0 cpd00006_0 + cpd11620_0 + cpd30386_0 {'0'}\n",
      "rxn34984 4.0 NADPH + O2 + Oxidizedferredoxin + Monogalactosyldiacylglycerol (1-(9Z,12Z,15Z)-octadecatrienoyl,2-(7Z,10Z)-hexadecadienoyl, 18:3(9Z,12Z,15Z)/16:2(7Z,10Z)) <=> 2.0 H2O + 4.0 NADP + Reducedferredoxin + Monogalactosyldiacylglycerol (1-(9Z,12Z,15Z)-octadecatrienoyl,2-(7Z,10Z,13Z)-hexadecatrienoyl, 18:3(9Z,12Z,15Z)/16:3(7Z,10Z,13Z))\n",
      "\n",
      "rxn35182: 4.0 cpd00005_0 + cpd00007_0 + cpd11621_0 + cpd30487_0 <=> 2.0 cpd00001_0 + 4.0 cpd00006_0 + cpd11620_0 + cpd30491_0 {'0'}\n",
      "rxn35182 4.0 NADPH + O2 + Oxidizedferredoxin + Phosphatidylglycerol (1-(9Z)-octadecenoyl,2-hexadecanoyl, 18:1(9Z)/16:0) <=> 2.0 H2O + 4.0 NADP + Reducedferredoxin + Phosphatidylglycerol (1-(9Z,12Z)-octadecadienoyl,2-hexadecanoyl, 18:2(9Z,12Z)/16:0)\n",
      "\n",
      "rxn34983: 4.0 cpd00005_0 + cpd00007_0 + cpd11621_0 + cpd30381_0 <=> 2.0 cpd00001_0 + 4.0 cpd00006_0 + cpd11620_0 + cpd30386_0 {'0'}\n",
      "rxn34983 4.0 NADPH + O2 + Oxidizedferredoxin + Monogalactosyldiacylglycerol (1-(9Z,12Z)-octadecadienoyl,2-(7Z,10Z,13Z)-hexadecatrienoyl, 18:2(9Z,12Z)/16:3(7Z,10Z,13Z)) <=> 2.0 H2O + 4.0 NADP + Reducedferredoxin + Monogalactosyldiacylglycerol (1-(9Z,12Z,15Z)-octadecatrienoyl,2-(7Z,10Z,13Z)-hexadecatrienoyl, 18:3(9Z,12Z,15Z)/16:3(7Z,10Z,13Z))\n",
      "\n",
      "rxn35091: 4.0 cpd00005_0 + cpd00007_0 + cpd11621_0 + cpd30558_0 <=> 2.0 cpd00001_0 + 4.0 cpd00006_0 + cpd11620_0 + cpd30559_0 {'0'}\n",
      "rxn35091 4.0 NADPH + O2 + Oxidizedferredoxin + Sulfoquinovosyldiacylglycerol (1-(9Z,12Z)-octadecadienoyl,2-hexadecanoyl, 18:2(9Z,12Z)/16:0) <=> 2.0 H2O + 4.0 NADP + Reducedferredoxin + Sulfoquinovosyldiacylglycerol (1-(9Z,12Z,15Z)-octadecatrienoyl,2-hexadecanoyl, 18:3(9Z,12Z,15Z)/16:0)\n",
      "\n",
      "rxn34971: 4.0 cpd00005_0 + cpd00007_0 + cpd11621_0 + cpd30384_0 <=> 2.0 cpd00001_0 + 4.0 cpd00006_0 + cpd11620_0 + cpd30385_0 {'0'}\n",
      "rxn34971 4.0 NADPH + O2 + Oxidizedferredoxin + Monogalactosyldiacylglycerol (1-(9Z,12Z,15Z)-octadecatrienoyl,2-(7Z,10Z)-hexadecadienoyl, 18:3(9Z,12Z,15Z)/16:2(7Z,10Z)) <=> 2.0 H2O + 4.0 NADP + Reducedferredoxin + Monogalactosyldiacylglycerol (1-(9Z,12Z,15Z)-octadecatrienoyl,2-(4Z,7Z,10Z)-hexadecatrienoyl, 18:3(9Z,12Z,15Z)/16:3(4Z,7Z,10Z))\n",
      "\n",
      "rxn34989: 4.0 cpd00005_0 + cpd00007_0 + cpd11621_0 + cpd30371_0 <=> 2.0 cpd00001_0 + 4.0 cpd00006_0 + cpd11620_0 + cpd30377_0 {'0'}\n",
      "rxn34989 4.0 NADPH + O2 + Oxidizedferredoxin + Monogalactosyldiacylglycerol (1-(9Z)-octadecenoyl,2-(7Z)-hexadecenoyl, 18:1(9Z)/16:1(7Z)) <=> 2.0 H2O + 4.0 NADP + Reducedferredoxin + Monogalactosyldiacylglycerol (1-(9Z,12Z)-octadecadienoyl,2-(7Z)-hexadecenoyl, 18:2(9Z,12Z)/16:1(7Z))\n",
      "\n",
      "rxn34897: 4.0 cpd00005_0 + cpd00007_0 + cpd11621_0 + cpd30240_0 <=> 2.0 cpd00001_0 + 4.0 cpd00006_0 + cpd11620_0 + cpd30241_0 {'0'}\n",
      "rxn34897 4.0 NADPH + O2 + Oxidizedferredoxin + Digalactosyldiacylglycerol (1-(9Z,12Z)-octadecadienoyl,2-hexadecanoyl, 18:2(9Z,12Z)/16:0) <=> 2.0 H2O + 4.0 NADP + Reducedferredoxin + Digalactosyldiacylglycerol (1-(9Z,12Z)-octadecadienoyl,2-(7Z)-hexadecenoyl, 18:2(9Z,12Z)/16:1(7Z))\n",
      "\n",
      "rxn34919: 4.0 cpd00005_0 + cpd00007_0 + cpd11621_0 + cpd30243_0 <=> 2.0 cpd00001_0 + 4.0 cpd00006_0 + cpd11620_0 + cpd30247_0 {'0'}\n",
      "rxn34919 4.0 NADPH + O2 + Oxidizedferredoxin + Digalactosyldiacylglycerol (1-(9Z,12Z)-octadecadienoyl,2-(7Z,10Z)-hexadecadienoyl, 18:2(9Z,12Z)/16:2(7Z,10Z)) <=> 2.0 H2O + 4.0 NADP + Reducedferredoxin + Digalactosyldiacylglycerol (1-(9Z,12Z,15Z)-octadecatrienoyl,2-(7Z,10Z)-hexadecadienoyl, 18:3(9Z,12Z,15Z)/16:2(7Z,10Z))\n",
      "\n",
      "rxn34927: 4.0 cpd00005_0 + cpd00007_0 + cpd11621_0 + cpd30236_0 <=> 2.0 cpd00001_0 + 4.0 cpd00006_0 + cpd11620_0 + cpd30242_0 {'0'}\n",
      "rxn34927 4.0 NADPH + O2 + Oxidizedferredoxin + Digalactosyldiacylglycerol (1-(9Z)-octadecenoyl,2-(9Z)-hexadecenoyl, 18:1(9Z)/16:1(9Z)) <=> 2.0 H2O + 4.0 NADP + Reducedferredoxin + Digalactosyldiacylglycerol (1-(9Z,12Z)-octadecadienoyl,2-(9Z)-hexadecenoyl, 18:2(9Z,12Z)/16:1(9Z))\n",
      "\n",
      "rxn35172: 4.0 cpd00005_0 + cpd00007_0 + cpd11621_0 + cpd30493_0 <=> 2.0 cpd00001_0 + 4.0 cpd00006_0 + cpd11620_0 + cpd30494_0 {'0'}\n",
      "rxn35172 4.0 NADPH + O2 + Oxidizedferredoxin + Phosphatidylglycerol (1-(9Z,12Z,15Z)-octadecatrienoyl,2-hexadecanoyl, 18:3(9Z,12Z,15Z)/16:0) <=> 2.0 H2O + 4.0 NADP + Reducedferredoxin + Phosphatidylglycerol (1-(9Z,12Z,15Z)-octadecatrienoyl,2-(3E)-hexadecenoyl, 18:3(9Z,12Z,15Z)/16:1(3E))\n",
      "\n",
      "rxn34926: 4.0 cpd00005_0 + cpd00007_0 + cpd11621_0 + cpd30235_0 <=> 2.0 cpd00001_0 + 4.0 cpd00006_0 + cpd11620_0 + cpd30241_0 {'0'}\n",
      "rxn34926 4.0 NADPH + O2 + Oxidizedferredoxin + Digalactosyldiacylglycerol (1-(9Z)-octadecenoyl,2-(7Z)-hexadecenoyl, 18:1(9Z)/16:1(7Z)) <=> 2.0 H2O + 4.0 NADP + Reducedferredoxin + Digalactosyldiacylglycerol (1-(9Z,12Z)-octadecadienoyl,2-(7Z)-hexadecenoyl, 18:2(9Z,12Z)/16:1(7Z))\n",
      "\n",
      "rxn34707: 4.0 cpd00005_0 + cpd00007_0 + cpd11621_0 + cpd12458_0 <=> 2.0 cpd00001_0 + 4.0 cpd00006_0 + cpd11620_0 + cpd30416_0 {'0'}\n",
      "rxn34707 4.0 NADPH + O2 + Oxidizedferredoxin + Stearoyl-[acyl-carrier protein] <=> 2.0 H2O + 4.0 NADP + Reducedferredoxin + cis-octadec-9-enoyl-[acyl-carrier protein] ((9Z)-n-C18:1)\n",
      "\n",
      "rxn34981: 4.0 cpd00005_0 + cpd00007_0 + cpd11621_0 + cpd30379_0 <=> 2.0 cpd00001_0 + 4.0 cpd00006_0 + cpd11620_0 + cpd30384_0 {'0'}\n",
      "rxn34981 4.0 NADPH + O2 + Oxidizedferredoxin + Monogalactosyldiacylglycerol (1-(9Z,12Z)-octadecadienoyl,2-(7Z,10Z)-hexadecadienoyl, 18:2(9Z,12Z)/16:2(7Z,10Z)) <=> 2.0 H2O + 4.0 NADP + Reducedferredoxin + Monogalactosyldiacylglycerol (1-(9Z,12Z,15Z)-octadecatrienoyl,2-(7Z,10Z)-hexadecadienoyl, 18:3(9Z,12Z,15Z)/16:2(7Z,10Z))\n",
      "\n",
      "rxn34988: 4.0 cpd00005_0 + cpd00007_0 + cpd11621_0 + cpd30370_0 <=> 2.0 cpd00001_0 + 4.0 cpd00006_0 + cpd11620_0 + cpd30376_0 {'0'}\n",
      "rxn34988 4.0 NADPH + O2 + Oxidizedferredoxin + Monogalactosyldiacylglycerol (1-(9Z)-octadecenoyl,2-hexadecanoyl, 18:1(9Z)/16:0) <=> 2.0 H2O + 4.0 NADP + Reducedferredoxin + Monogalactosyldiacylglycerol (1-(9Z,12Z)-octadecadienoyl,2-hexadecanoyl, 18:2(9Z,12Z)/16:0)\n",
      "\n",
      "rxn34977: 4.0 cpd00005_0 + cpd00007_0 + cpd11621_0 + cpd30373_0 <=> 2.0 cpd00001_0 + 4.0 cpd00006_0 + cpd11620_0 + cpd30374_0 {'0'}\n",
      "rxn34977 4.0 NADPH + O2 + Oxidizedferredoxin + Monogalactosyldiacylglycerol (1-(9Z)-octadecenoyl,2-(7Z,10Z)-hexadecadienoyl, 18:1(9Z)/16:2(7Z,10Z)) <=> 2.0 H2O + 4.0 NADP + Reducedferredoxin + Monogalactosyldiacylglycerol (1-(9Z)-octadecenoyl,2-(7Z,10Z,13Z)-hexadecatrienoyl, 18:1(9Z)/16:3(7Z,10Z,13Z))\n",
      "\n",
      "rxn34994: 4.0 cpd00005_0 + cpd00007_0 + cpd11621_0 + cpd30375_0 <=> 2.0 cpd00001_0 + 4.0 cpd00006_0 + cpd11620_0 + cpd30382_0 {'0'}\n",
      "rxn34994 4.0 NADPH + O2 + Oxidizedferredoxin + Monogalactosyldiacylglycerol (1-(9Z)-octadecenoyl,2-(4Z,7Z,10Z,13Z)-hexadecatetraenoyl, 18:1(9Z)/16:4(4Z,7Z,10Z,13Z)) <=> 2.0 H2O + 4.0 NADP + Reducedferredoxin + Monogalactosyldiacylglycerol (1-(9Z,12Z)-octadecadienoyl,2-(4Z,7Z,10Z,13Z)-hexadecatetraenoyl, 18:2(9Z,12Z)/16:4(4Z,7Z,10Z,13Z))\n",
      "\n",
      "rxn34980: 4.0 cpd00005_0 + cpd00007_0 + cpd11621_0 + cpd30376_0 <=> 2.0 cpd00001_0 + 4.0 cpd00006_0 + cpd11620_0 + cpd30383_0 {'0'}\n",
      "rxn34980 4.0 NADPH + O2 + Oxidizedferredoxin + Monogalactosyldiacylglycerol (1-(9Z,12Z)-octadecadienoyl,2-hexadecanoyl, 18:2(9Z,12Z)/16:0) <=> 2.0 H2O + 4.0 NADP + Reducedferredoxin + Monogalactosyldiacylglycerol (1-(9Z,12Z,15Z)-octadecatrienoyl,2-hexadecanoyl, 18:3(9Z,12Z,15Z)/16:0)\n",
      "\n",
      "rxn34931: 4.0 cpd00005_0 + cpd00007_0 + cpd11621_0 + cpd30239_0 <=> 2.0 cpd00001_0 + 4.0 cpd00006_0 + cpd11620_0 + cpd30245_0 {'0'}\n",
      "rxn34931 4.0 NADPH + O2 + Oxidizedferredoxin + Digalactosyldiacylglycerol (1-(9Z)-octadecenoyl,2-(7Z,10Z,13Z)-hexadecatrienoyl, 18:1(9Z)/16:3(7Z,10Z,13Z)) <=> 2.0 H2O + 4.0 NADP + Reducedferredoxin + Digalactosyldiacylglycerol (1-(9Z,12Z)-octadecadienoyl,2-(7Z,10Z,13Z)-hexadecatrienoyl, 18:2(9Z,12Z)/16:3(7Z,10Z,13Z))\n",
      "\n",
      "rxn35171: 4.0 cpd00005_0 + cpd00007_0 + cpd11621_0 + cpd30491_0 <=> 2.0 cpd00001_0 + 4.0 cpd00006_0 + cpd11620_0 + cpd30492_0 {'0'}\n",
      "rxn35171 4.0 NADPH + O2 + Oxidizedferredoxin + Phosphatidylglycerol (1-(9Z,12Z)-octadecadienoyl,2-hexadecanoyl, 18:2(9Z,12Z)/16:0) <=> 2.0 H2O + 4.0 NADP + Reducedferredoxin + Phosphatidylglycerol (1-(9Z,12Z)-octadecadienoyl,2-(3E)-hexadecenoyl, 18:2(9Z,12Z)/16:1(3E))\n",
      "\n",
      "rxn34979: 4.0 cpd00005_0 + cpd00007_0 + cpd11621_0 + cpd30380_0 <=> 2.0 cpd00001_0 + 4.0 cpd00006_0 + cpd11620_0 + cpd30382_0 {'0'}\n",
      "rxn34979 4.0 NADPH + O2 + Oxidizedferredoxin + Monogalactosyldiacylglycerol (1-(9Z,12Z)-octadecadienoyl,2-(4Z,7Z,10Z)-hexadecatrienoyl, 18:2(9Z,12Z)/16:3(4Z,7Z,10Z)) <=> 2.0 H2O + 4.0 NADP + Reducedferredoxin + Monogalactosyldiacylglycerol (1-(9Z,12Z)-octadecadienoyl,2-(4Z,7Z,10Z,13Z)-hexadecatetraenoyl, 18:2(9Z,12Z)/16:4(4Z,7Z,10Z,13Z))\n",
      "\n",
      "rxn14159: cpd00006_0 + cpd00067_0 + 2.0 cpd11620_0 <=> cpd00005_0 + 2.0 cpd11621_0 {'0'}\n",
      "rxn14159 NADP + H+ + 2.0 Reducedferredoxin <=> NADPH + 2.0 Oxidizedferredoxin\n",
      "\n",
      "rxn34928: 4.0 cpd00005_0 + cpd00007_0 + cpd11621_0 + cpd30237_0 <=> 2.0 cpd00001_0 + 4.0 cpd00006_0 + cpd11620_0 + cpd30243_0 {'0'}\n",
      "rxn34928 4.0 NADPH + O2 + Oxidizedferredoxin + Digalactosyldiacylglycerol (1-(9Z)-octadecenoyl,2-(7Z,10Z)-hexadecadienoyl, 18:1(9Z)/16:2(7Z,10Z)) <=> 2.0 H2O + 4.0 NADP + Reducedferredoxin + Digalactosyldiacylglycerol (1-(9Z,12Z)-octadecadienoyl,2-(7Z,10Z)-hexadecadienoyl, 18:2(9Z,12Z)/16:2(7Z,10Z))\n",
      "\n",
      "rxn34894: 4.0 cpd00005_0 + cpd00007_0 + cpd11621_0 + cpd30247_0 <=> 2.0 cpd00001_0 + 4.0 cpd00006_0 + cpd11620_0 + cpd30248_0 {'0'}\n",
      "rxn34894 4.0 NADPH + O2 + Oxidizedferredoxin + Digalactosyldiacylglycerol (1-(9Z,12Z,15Z)-octadecatrienoyl,2-(7Z,10Z)-hexadecadienoyl, 18:3(9Z,12Z,15Z)/16:2(7Z,10Z)) <=> 2.0 H2O + 4.0 NADP + Reducedferredoxin + Digalactosyldiacylglycerol (1-(9Z,12Z,15Z)-octadecatrienoyl,2-(4Z,7Z,10Z)-hexadecatrienoyl, 18:3(9Z,12Z,15Z)/16:3(4Z,7Z,10Z))\n",
      "\n",
      "rxn34987: 4.0 cpd00005_0 + cpd00007_0 + cpd11621_0 + cpd30371_0 <=> 2.0 cpd00001_0 + 4.0 cpd00006_0 + cpd11620_0 + cpd30373_0 {'0'}\n",
      "rxn34987 4.0 NADPH + O2 + Oxidizedferredoxin + Monogalactosyldiacylglycerol (1-(9Z)-octadecenoyl,2-(7Z)-hexadecenoyl, 18:1(9Z)/16:1(7Z)) <=> 2.0 H2O + 4.0 NADP + Reducedferredoxin + Monogalactosyldiacylglycerol (1-(9Z)-octadecenoyl,2-(7Z,10Z)-hexadecadienoyl, 18:1(9Z)/16:2(7Z,10Z))\n",
      "\n",
      "rxn05937: cpd00006_0 + cpd00067_0 + cpd11620_0 <=> cpd00005_0 + cpd11621_0 {'0'}\n",
      "rxn05937 NADP + H+ + Reducedferredoxin <=> NADPH + Oxidizedferredoxin\n",
      "\n",
      "rxn34895: 4.0 cpd00005_0 + cpd00007_0 + cpd11621_0 + cpd30248_0 <=> 2.0 cpd00001_0 + 4.0 cpd00006_0 + cpd11620_0 + cpd30250_0 {'0'}\n",
      "rxn34895 4.0 NADPH + O2 + Oxidizedferredoxin + Digalactosyldiacylglycerol (1-(9Z,12Z,15Z)-octadecatrienoyl,2-(4Z,7Z,10Z)-hexadecatrienoyl, 18:3(9Z,12Z,15Z)/16:3(4Z,7Z,10Z)) <=> 2.0 H2O + 4.0 NADP + Reducedferredoxin + Digalactosyldiacylglycerol (1-(9Z,12Z,15Z)-octadecatrienoyl,2-(4Z,7Z,10Z,13Z)-hexadecatetraenoyl, 18:3(9Z,12Z,15Z)/16:4(4Z,7Z,10Z,13Z))\n",
      "\n",
      "rxn34922: 4.0 cpd00005_0 + cpd00007_0 + cpd11621_0 + cpd30247_0 <=> 2.0 cpd00001_0 + 4.0 cpd00006_0 + cpd11620_0 + cpd30249_0 {'0'}\n",
      "rxn34922 4.0 NADPH + O2 + Oxidizedferredoxin + Digalactosyldiacylglycerol (1-(9Z,12Z,15Z)-octadecatrienoyl,2-(7Z,10Z)-hexadecadienoyl, 18:3(9Z,12Z,15Z)/16:2(7Z,10Z)) <=> 2.0 H2O + 4.0 NADP + Reducedferredoxin + Digalactosyldiacylglycerol (1-(9Z,12Z,15Z)-octadecatrienoyl,2-(7Z,10Z,13Z)-hexadecatrienoyl, 18:3(9Z,12Z,15Z)/16:3(7Z,10Z,13Z))\n",
      "\n",
      "rxn34969: 4.0 cpd00005_0 + cpd00007_0 + cpd11621_0 + cpd30379_0 <=> 2.0 cpd00001_0 + 4.0 cpd00006_0 + cpd11620_0 + cpd30380_0 {'0'}\n",
      "rxn34969 4.0 NADPH + O2 + Oxidizedferredoxin + Monogalactosyldiacylglycerol (1-(9Z,12Z)-octadecadienoyl,2-(7Z,10Z)-hexadecadienoyl, 18:2(9Z,12Z)/16:2(7Z,10Z)) <=> 2.0 H2O + 4.0 NADP + Reducedferredoxin + Monogalactosyldiacylglycerol (1-(9Z,12Z)-octadecadienoyl,2-(4Z,7Z,10Z)-hexadecatrienoyl, 18:2(9Z,12Z)/16:3(4Z,7Z,10Z))\n",
      "\n",
      "rxn34929: 4.0 cpd00005_0 + cpd00007_0 + cpd11621_0 + cpd30241_0 <=> 2.0 cpd00001_0 + 4.0 cpd00006_0 + cpd11620_0 + cpd30243_0 {'0'}\n",
      "rxn34929 4.0 NADPH + O2 + Oxidizedferredoxin + Digalactosyldiacylglycerol (1-(9Z,12Z)-octadecadienoyl,2-(7Z)-hexadecenoyl, 18:2(9Z,12Z)/16:1(7Z)) <=> 2.0 H2O + 4.0 NADP + Reducedferredoxin + Digalactosyldiacylglycerol (1-(9Z,12Z)-octadecadienoyl,2-(7Z,10Z)-hexadecadienoyl, 18:2(9Z,12Z)/16:2(7Z,10Z))\n",
      "\n",
      "rxn34972: 4.0 cpd00005_0 + cpd00007_0 + cpd11621_0 + cpd30385_0 <=> 2.0 cpd00001_0 + 4.0 cpd00006_0 + cpd11620_0 + cpd30387_0 {'0'}\n",
      "rxn34972 4.0 NADPH + O2 + Oxidizedferredoxin + Monogalactosyldiacylglycerol (1-(9Z,12Z,15Z)-octadecatrienoyl,2-(4Z,7Z,10Z)-hexadecatrienoyl, 18:3(9Z,12Z,15Z)/16:3(4Z,7Z,10Z)) <=> 2.0 H2O + 4.0 NADP + Reducedferredoxin + Monogalactosyldiacylglycerol (1-(9Z,12Z,15Z)-octadecatrienoyl,2-(4Z,7Z,10Z,13Z)-hexadecatetraenoyl, 18:3(9Z,12Z,15Z)/16:4(4Z,7Z,10Z,13Z))\n",
      "\n",
      "rxn34921: 4.0 cpd00005_0 + cpd00007_0 + cpd11621_0 + cpd30245_0 <=> 2.0 cpd00001_0 + 4.0 cpd00006_0 + cpd11620_0 + cpd30249_0 {'0'}\n",
      "rxn34921 4.0 NADPH + O2 + Oxidizedferredoxin + Digalactosyldiacylglycerol (1-(9Z,12Z)-octadecadienoyl,2-(7Z,10Z,13Z)-hexadecatrienoyl, 18:2(9Z,12Z)/16:3(7Z,10Z,13Z)) <=> 2.0 H2O + 4.0 NADP + Reducedferredoxin + Digalactosyldiacylglycerol (1-(9Z,12Z,15Z)-octadecatrienoyl,2-(7Z,10Z,13Z)-hexadecatrienoyl, 18:3(9Z,12Z,15Z)/16:3(7Z,10Z,13Z))\n",
      "\n",
      "rxn35169: 4.0 cpd00005_0 + cpd00007_0 + cpd11621_0 + cpd30483_0 <=> 2.0 cpd00001_0 + 4.0 cpd00006_0 + cpd11620_0 + cpd30486_0 {'0'}\n",
      "rxn35169 4.0 NADPH + O2 + Oxidizedferredoxin + Phosphatidylglycerol (1-(11Z)-octadecenoyl,2-hexadecanoyl, 18:1(11Z)/16:0) <=> 2.0 H2O + 4.0 NADP + Reducedferredoxin + Phosphatidylglycerol (1-(11Z)-octadecenoyl,2-(3E)-hexadecenoyl, 18:1(11Z)/16:1(3E))\n",
      "\n",
      "rxn35181: 4.0 cpd00005_0 + cpd00007_0 + cpd11621_0 + cpd30491_0 <=> 2.0 cpd00001_0 + 4.0 cpd00006_0 + cpd11620_0 + cpd30493_0 {'0'}\n",
      "rxn35181 4.0 NADPH + O2 + Oxidizedferredoxin + Phosphatidylglycerol (1-(9Z,12Z)-octadecadienoyl,2-hexadecanoyl, 18:2(9Z,12Z)/16:0) <=> 2.0 H2O + 4.0 NADP + Reducedferredoxin + Phosphatidylglycerol (1-(9Z,12Z,15Z)-octadecatrienoyl,2-hexadecanoyl, 18:3(9Z,12Z,15Z)/16:0)\n",
      "\n",
      "rxn34991: 4.0 cpd00005_0 + cpd00007_0 + cpd11621_0 + cpd30373_0 <=> 2.0 cpd00001_0 + 4.0 cpd00006_0 + cpd11620_0 + cpd30379_0 {'0'}\n",
      "rxn34991 4.0 NADPH + O2 + Oxidizedferredoxin + Monogalactosyldiacylglycerol (1-(9Z)-octadecenoyl,2-(7Z,10Z)-hexadecadienoyl, 18:1(9Z)/16:2(7Z,10Z)) <=> 2.0 H2O + 4.0 NADP + Reducedferredoxin + Monogalactosyldiacylglycerol (1-(9Z,12Z)-octadecadienoyl,2-(7Z,10Z)-hexadecadienoyl, 18:2(9Z,12Z)/16:2(7Z,10Z))\n",
      "\n",
      "rxn34970: 4.0 cpd00005_0 + cpd00007_0 + cpd11621_0 + cpd30381_0 <=> 2.0 cpd00001_0 + 4.0 cpd00006_0 + cpd11620_0 + cpd30382_0 {'0'}\n",
      "rxn34970 4.0 NADPH + O2 + Oxidizedferredoxin + Monogalactosyldiacylglycerol (1-(9Z,12Z)-octadecadienoyl,2-(7Z,10Z,13Z)-hexadecatrienoyl, 18:2(9Z,12Z)/16:3(7Z,10Z,13Z)) <=> 2.0 H2O + 4.0 NADP + Reducedferredoxin + Monogalactosyldiacylglycerol (1-(9Z,12Z)-octadecadienoyl,2-(4Z,7Z,10Z,13Z)-hexadecatetraenoyl, 18:2(9Z,12Z)/16:4(4Z,7Z,10Z,13Z))\n",
      "\n",
      "rxn34990: 4.0 cpd00005_0 + cpd00007_0 + cpd11621_0 + cpd30372_0 <=> 2.0 cpd00001_0 + 4.0 cpd00006_0 + cpd11620_0 + cpd30378_0 {'0'}\n",
      "rxn34990 4.0 NADPH + O2 + Oxidizedferredoxin + Monogalactosyldiacylglycerol (1-(9Z)-octadecenoyl,2-(9Z)-hexadecenoyl, 18:1(9Z)/16:1(9Z)) <=> 2.0 H2O + 4.0 NADP + Reducedferredoxin + Monogalactosyldiacylglycerol (1-(9Z,12Z)-octadecadienoyl,2-(9Z)-hexadecenoyl, 18:2(9Z,12Z)/16:1(9Z))\n",
      "\n",
      "rxn34978: 4.0 cpd00005_0 + cpd00007_0 + cpd11621_0 + cpd30379_0 <=> 2.0 cpd00001_0 + 4.0 cpd00006_0 + cpd11620_0 + cpd30381_0 {'0'}\n",
      "rxn34978 4.0 NADPH + O2 + Oxidizedferredoxin + Monogalactosyldiacylglycerol (1-(9Z,12Z)-octadecadienoyl,2-(7Z,10Z)-hexadecadienoyl, 18:2(9Z,12Z)/16:2(7Z,10Z)) <=> 2.0 H2O + 4.0 NADP + Reducedferredoxin + Monogalactosyldiacylglycerol (1-(9Z,12Z)-octadecadienoyl,2-(7Z,10Z,13Z)-hexadecatrienoyl, 18:2(9Z,12Z)/16:3(7Z,10Z,13Z))\n",
      "\n",
      "rxn34893: 4.0 cpd00005_0 + cpd00007_0 + cpd11621_0 + cpd30243_0 <=> 2.0 cpd00001_0 + 4.0 cpd00006_0 + cpd11620_0 + cpd30244_0 {'0'}\n",
      "rxn34893 4.0 NADPH + O2 + Oxidizedferredoxin + Digalactosyldiacylglycerol (1-(9Z,12Z)-octadecadienoyl,2-(7Z,10Z)-hexadecadienoyl, 18:2(9Z,12Z)/16:2(7Z,10Z)) <=> 2.0 H2O + 4.0 NADP + Reducedferredoxin + Digalactosyldiacylglycerol (1-(9Z,12Z)-octadecadienoyl,2-(4Z,7Z,10Z)-hexadecatrienoyl, 18:2(9Z,12Z)/16:3(4Z,7Z,10Z))\n",
      "\n",
      "rxn34968: 4.0 cpd00005_0 + cpd00007_0 + cpd11621_0 + cpd30374_0 <=> 2.0 cpd00001_0 + 4.0 cpd00006_0 + cpd11620_0 + cpd30375_0 {'0'}\n",
      "rxn34968 4.0 NADPH + O2 + Oxidizedferredoxin + Monogalactosyldiacylglycerol (1-(9Z)-octadecenoyl,2-(7Z,10Z,13Z)-hexadecatrienoyl, 18:1(9Z)/16:3(7Z,10Z,13Z)) <=> 2.0 H2O + 4.0 NADP + Reducedferredoxin + Monogalactosyldiacylglycerol (1-(9Z)-octadecenoyl,2-(4Z,7Z,10Z,13Z)-hexadecatetraenoyl, 18:1(9Z)/16:4(4Z,7Z,10Z,13Z))\n",
      "\n",
      "rxn34986: 4.0 cpd00005_0 + cpd00007_0 + cpd11621_0 + cpd30386_0 <=> 2.0 cpd00001_0 + 4.0 cpd00006_0 + cpd11620_0 + cpd30387_0 {'0'}\n",
      "rxn34986 4.0 NADPH + O2 + Oxidizedferredoxin + Monogalactosyldiacylglycerol (1-(9Z,12Z,15Z)-octadecatrienoyl,2-(7Z,10Z,13Z)-hexadecatrienoyl, 18:3(9Z,12Z,15Z)/16:3(7Z,10Z,13Z)) <=> 2.0 H2O + 4.0 NADP + Reducedferredoxin + Monogalactosyldiacylglycerol (1-(9Z,12Z,15Z)-octadecatrienoyl,2-(4Z,7Z,10Z,13Z)-hexadecatetraenoyl, 18:3(9Z,12Z,15Z)/16:4(4Z,7Z,10Z,13Z))\n",
      "\n",
      "rxn34917: 4.0 cpd00005_0 + cpd00007_0 + cpd11621_0 + cpd30243_0 <=> 2.0 cpd00001_0 + 4.0 cpd00006_0 + cpd11620_0 + cpd30245_0 {'0'}\n",
      "rxn34917 4.0 NADPH + O2 + Oxidizedferredoxin + Digalactosyldiacylglycerol (1-(9Z,12Z)-octadecadienoyl,2-(7Z,10Z)-hexadecadienoyl, 18:2(9Z,12Z)/16:2(7Z,10Z)) <=> 2.0 H2O + 4.0 NADP + Reducedferredoxin + Digalactosyldiacylglycerol (1-(9Z,12Z)-octadecadienoyl,2-(7Z,10Z,13Z)-hexadecatrienoyl, 18:2(9Z,12Z)/16:3(7Z,10Z,13Z))\n",
      "\n",
      "rxn34974: 4.0 cpd00005_0 + cpd00007_0 + cpd11621_0 + cpd30376_0 <=> 2.0 cpd00001_0 + 4.0 cpd00006_0 + cpd11620_0 + cpd30377_0 {'0'}\n",
      "rxn34974 4.0 NADPH + O2 + Oxidizedferredoxin + Monogalactosyldiacylglycerol (1-(9Z,12Z)-octadecadienoyl,2-hexadecanoyl, 18:2(9Z,12Z)/16:0) <=> 2.0 H2O + 4.0 NADP + Reducedferredoxin + Monogalactosyldiacylglycerol (1-(9Z,12Z)-octadecadienoyl,2-(7Z)-hexadecenoyl, 18:2(9Z,12Z)/16:1(7Z))\n",
      "\n",
      "rxn34706: 4.0 cpd00005_0 + cpd00007_0 + cpd11621_0 + cpd15277_0 <=> 2.0 cpd00001_0 + 4.0 cpd00006_0 + 2.0 cpd00067_0 + cpd11620_0 + cpd15239_0 {'0'}\n",
      "rxn34706 4.0 NADPH + O2 + Oxidizedferredoxin + Palmitoyl-ACP <=> 2.0 H2O + 4.0 NADP + 2.0 H+ + Reducedferredoxin + Hexadecenoyl-ACP\n",
      "\n",
      "rxn34924: 4.0 cpd00005_0 + cpd00007_0 + cpd11621_0 + cpd30235_0 <=> 2.0 cpd00001_0 + 4.0 cpd00006_0 + cpd11620_0 + cpd30237_0 {'0'}\n",
      "rxn34924 4.0 NADPH + O2 + Oxidizedferredoxin + Digalactosyldiacylglycerol (1-(9Z)-octadecenoyl,2-(7Z)-hexadecenoyl, 18:1(9Z)/16:1(7Z)) <=> 2.0 H2O + 4.0 NADP + Reducedferredoxin + Digalactosyldiacylglycerol (1-(9Z)-octadecenoyl,2-(7Z,10Z)-hexadecadienoyl, 18:1(9Z)/16:2(7Z,10Z))\n",
      "\n",
      "rxn34973: 4.0 cpd00005_0 + cpd00007_0 + cpd11621_0 + cpd30370_0 <=> 2.0 cpd00001_0 + 4.0 cpd00006_0 + cpd11620_0 + cpd30371_0 {'0'}\n",
      "rxn34973 4.0 NADPH + O2 + Oxidizedferredoxin + Monogalactosyldiacylglycerol (1-(9Z)-octadecenoyl,2-hexadecanoyl, 18:1(9Z)/16:0) <=> 2.0 H2O + 4.0 NADP + Reducedferredoxin + Monogalactosyldiacylglycerol (1-(9Z)-octadecenoyl,2-(7Z)-hexadecenoyl, 18:1(9Z)/16:1(7Z))\n",
      "\n",
      "rxn34918: 4.0 cpd00005_0 + cpd00007_0 + cpd11621_0 + cpd30240_0 <=> 2.0 cpd00001_0 + 4.0 cpd00006_0 + cpd11620_0 + cpd30246_0 {'0'}\n",
      "rxn34918 4.0 NADPH + O2 + Oxidizedferredoxin + Digalactosyldiacylglycerol (1-(9Z,12Z)-octadecadienoyl,2-hexadecanoyl, 18:2(9Z,12Z)/16:0) <=> 2.0 H2O + 4.0 NADP + Reducedferredoxin + Digalactosyldiacylglycerol (1-(9Z,12Z,15Z)-octadecatrienoyl,2-hexadecanoyl, 18:3(9Z,12Z,15Z)/16:0)\n",
      "\n",
      "rxn34985: 4.0 cpd00005_0 + cpd00007_0 + cpd11621_0 + cpd30382_0 <=> 2.0 cpd00001_0 + 4.0 cpd00006_0 + cpd11620_0 + cpd30387_0 {'0'}\n",
      "rxn34985 4.0 NADPH + O2 + Oxidizedferredoxin + Monogalactosyldiacylglycerol (1-(9Z,12Z)-octadecadienoyl,2-(4Z,7Z,10Z,13Z)-hexadecatetraenoyl, 18:2(9Z,12Z)/16:4(4Z,7Z,10Z,13Z)) <=> 2.0 H2O + 4.0 NADP + Reducedferredoxin + Monogalactosyldiacylglycerol (1-(9Z,12Z,15Z)-octadecatrienoyl,2-(4Z,7Z,10Z,13Z)-hexadecatetraenoyl, 18:3(9Z,12Z,15Z)/16:4(4Z,7Z,10Z,13Z))\n",
      "\n",
      "rxn35170: 4.0 cpd00005_0 + cpd00007_0 + cpd11621_0 + cpd30487_0 <=> 2.0 cpd00001_0 + 4.0 cpd00006_0 + cpd11620_0 + cpd30490_0 {'0'}\n",
      "rxn35170 4.0 NADPH + O2 + Oxidizedferredoxin + Phosphatidylglycerol (1-(9Z)-octadecenoyl,2-hexadecanoyl, 18:1(9Z)/16:0) <=> 2.0 H2O + 4.0 NADP + Reducedferredoxin + Phosphatidylglycerol (1-(9Z)-octadecenoyl,2-(3E)-hexadecenoyl, 18:1(9Z)/16:1(3E))\n",
      "\n",
      "rxn34925: 4.0 cpd00005_0 + cpd00007_0 + cpd11621_0 + cpd30234_0 <=> 2.0 cpd00001_0 + 4.0 cpd00006_0 + cpd11620_0 + cpd30240_0 {'0'}\n",
      "rxn34925 4.0 NADPH + O2 + Oxidizedferredoxin + Digalactosyldiacylglycerol (1-(9Z)-octadecenoyl,2-hexadecanoyl, 18:1(9Z)/16:0) <=> 2.0 H2O + 4.0 NADP + Reducedferredoxin + Digalactosyldiacylglycerol (1-(9Z,12Z)-octadecadienoyl,2-hexadecanoyl, 18:2(9Z,12Z)/16:0)\n",
      "\n",
      "rxn31414: 5.0 cpd00006_0 + 5.0 cpd00067_0 + 3.0 cpd11620_0 <=> 5.0 cpd00005_0 + 3.0 cpd11621_0 {'0'}\n",
      "rxn31414 5.0 NADP + 5.0 H+ + 3.0 Reducedferredoxin <=> 5.0 NADPH + 3.0 Oxidizedferredoxin\n",
      "\n",
      "rxn34930: 4.0 cpd00005_0 + cpd00007_0 + cpd11621_0 + cpd30238_0 <=> 2.0 cpd00001_0 + 4.0 cpd00006_0 + cpd11620_0 + cpd30244_0 {'0'}\n",
      "rxn34930 4.0 NADPH + O2 + Oxidizedferredoxin + Digalactosyldiacylglycerol (1-(9Z)-octadecenoyl,2-(4Z,7Z,10Z)-hexadecatrienoyl, 18:1(9Z)/16:3(4Z,7Z,10Z)) <=> 2.0 H2O + 4.0 NADP + Reducedferredoxin + Digalactosyldiacylglycerol (1-(9Z,12Z)-octadecadienoyl,2-(4Z,7Z,10Z)-hexadecatrienoyl, 18:2(9Z,12Z)/16:3(4Z,7Z,10Z))\n",
      "\n",
      "rxn34923: 4.0 cpd00005_0 + cpd00007_0 + cpd11621_0 + cpd30249_0 <=> 2.0 cpd00001_0 + 4.0 cpd00006_0 + cpd11620_0 + cpd30250_0 {'0'}\n",
      "rxn34923 4.0 NADPH + O2 + Oxidizedferredoxin + Digalactosyldiacylglycerol (1-(9Z,12Z,15Z)-octadecatrienoyl,2-(7Z,10Z,13Z)-hexadecatrienoyl, 18:3(9Z,12Z,15Z)/16:3(7Z,10Z,13Z)) <=> 2.0 H2O + 4.0 NADP + Reducedferredoxin + Digalactosyldiacylglycerol (1-(9Z,12Z,15Z)-octadecatrienoyl,2-(4Z,7Z,10Z,13Z)-hexadecatetraenoyl, 18:3(9Z,12Z,15Z)/16:4(4Z,7Z,10Z,13Z))\n",
      "\n",
      "rxn34916: 4.0 cpd00005_0 + cpd00007_0 + cpd11621_0 + cpd30237_0 <=> 2.0 cpd00001_0 + 4.0 cpd00006_0 + cpd11620_0 + cpd30239_0 {'0'}\n",
      "rxn34916 4.0 NADPH + O2 + Oxidizedferredoxin + Digalactosyldiacylglycerol (1-(9Z)-octadecenoyl,2-(7Z,10Z)-hexadecadienoyl, 18:1(9Z)/16:2(7Z,10Z)) <=> 2.0 H2O + 4.0 NADP + Reducedferredoxin + Digalactosyldiacylglycerol (1-(9Z)-octadecenoyl,2-(7Z,10Z,13Z)-hexadecatrienoyl, 18:1(9Z)/16:3(7Z,10Z,13Z))\n",
      "\n",
      "rxn34992: 4.0 cpd00005_0 + cpd00007_0 + cpd11621_0 + cpd30377_0 <=> 2.0 cpd00001_0 + 4.0 cpd00006_0 + cpd11620_0 + cpd30379_0 {'0'}\n",
      "rxn34992 4.0 NADPH + O2 + Oxidizedferredoxin + Monogalactosyldiacylglycerol (1-(9Z,12Z)-octadecadienoyl,2-(7Z)-hexadecenoyl, 18:2(9Z,12Z)/16:1(7Z)) <=> 2.0 H2O + 4.0 NADP + Reducedferredoxin + Monogalactosyldiacylglycerol (1-(9Z,12Z)-octadecadienoyl,2-(7Z,10Z)-hexadecadienoyl, 18:2(9Z,12Z)/16:2(7Z,10Z))\n",
      "\n",
      "rxn34896: 4.0 cpd00005_0 + cpd00007_0 + cpd11621_0 + cpd30234_0 <=> 2.0 cpd00001_0 + 4.0 cpd00006_0 + cpd11620_0 + cpd30235_0 {'0'}\n",
      "rxn34896 4.0 NADPH + O2 + Oxidizedferredoxin + Digalactosyldiacylglycerol (1-(9Z)-octadecenoyl,2-hexadecanoyl, 18:1(9Z)/16:0) <=> 2.0 H2O + 4.0 NADP + Reducedferredoxin + Digalactosyldiacylglycerol (1-(9Z)-octadecenoyl,2-(7Z)-hexadecenoyl, 18:1(9Z)/16:1(7Z))\n",
      "\n",
      "rxn34993: 4.0 cpd00005_0 + cpd00007_0 + cpd11621_0 + cpd30374_0 <=> 2.0 cpd00001_0 + 4.0 cpd00006_0 + cpd11620_0 + cpd30381_0 {'0'}\n",
      "rxn34993 4.0 NADPH + O2 + Oxidizedferredoxin + Monogalactosyldiacylglycerol (1-(9Z)-octadecenoyl,2-(7Z,10Z,13Z)-hexadecatrienoyl, 18:1(9Z)/16:3(7Z,10Z,13Z)) <=> 2.0 H2O + 4.0 NADP + Reducedferredoxin + Monogalactosyldiacylglycerol (1-(9Z,12Z)-octadecadienoyl,2-(7Z,10Z,13Z)-hexadecatrienoyl, 18:2(9Z,12Z)/16:3(7Z,10Z,13Z))\n",
      "\n"
     ]
    }
   ],
   "source": [
    "def finddd(a, b):\n",
    "    c = set(a) | set(b)\n",
    "    super_match = None\n",
    "    for i in c:\n",
    "        if i in metabolite_reactions:\n",
    "            if super_match is None:\n",
    "                super_match = set(metabolite_reactions[i])\n",
    "            super_match &= set(metabolite_reactions[i])\n",
    "    return super_match\n",
    "\n",
    "#finddd(['cpd00003'], ['cpd00004'])\n",
    "#cpd00001_k + 2.0 cpd00067_c + cpd07274_k + 2.0 hvphoton2_c --> 0.5 cpd00007_k + 2.0 cpd00067_k + cpd16503_k\n",
    "#2 cpd00001_k + 4.0 cpd00067_c + 2 cpd07274_k + 4.0 hvphoton2_c --> 1 cpd00007_k + 4.0 cpd00067_k + 2 cpd16503_k\n",
    "for r in finddd(['cpd00006', 'cpd11620'], ['cpd00005', 'cpd11621']):\n",
    "    rxn = modelseed_git.reactions.get_by_id(r)\n",
    "    print(rxn, rxn.compartments)\n",
    "    print(rxn.id, rxn.build_reaction_string(True))\n",
    "    print()"
   ]
  },
  {
   "cell_type": "code",
   "execution_count": null,
   "id": "cb26ddf6-393f-44b8-8bfc-c3844e02dc82",
   "metadata": {},
   "outputs": [],
   "source": [
    "#2 cpd00001_0 + 4.0 cpd00067_1 + 2 cpd07274_0 + cpd11632_0      --> 1 cpd00007_0 + 4.0 cpd00067_0 + 2 cpd16503_0\n",
    "#2 cpd00001_k + 4.0 cpd00067_c + 2 cpd07274_k + 4.0 hvphoton2_c --> 1 cpd00007_k + 4.0 cpd00067_k + 2 cpd16503_k"
   ]
  },
  {
   "cell_type": "code",
   "execution_count": 48,
   "id": "2e451f61-3ce3-4f18-b68c-d989ff5cb49e",
   "metadata": {},
   "outputs": [
    {
     "data": {
      "text/html": [
       "\n",
       "        <table>\n",
       "            <tr>\n",
       "                <td><strong>Reaction identifier</strong></td><td>rxn05937</td>\n",
       "            </tr><tr>\n",
       "                <td><strong>Name</strong></td><td>Ferredoxin:NADP+ oxidoreductase</td>\n",
       "            </tr><tr>\n",
       "                <td><strong>Memory address</strong></td>\n",
       "                <td>0x07fcbbd112c70</td>\n",
       "            </tr><tr>\n",
       "                <td><strong>Stoichiometry</strong></td>\n",
       "                <td>\n",
       "                    <p style='text-align:right'>cpd00006_0 + cpd00067_0 + cpd11620_0 <=> cpd00005_0 + cpd11621_0</p>\n",
       "                    <p style='text-align:right'>NADP + H+ + Reducedferredoxin <=> NADPH + Oxidizedferredoxin</p>\n",
       "                </td>\n",
       "            </tr><tr>\n",
       "                <td><strong>GPR</strong></td><td></td>\n",
       "            </tr><tr>\n",
       "                <td><strong>Lower bound</strong></td><td>-1000</td>\n",
       "            </tr><tr>\n",
       "                <td><strong>Upper bound</strong></td><td>1000</td>\n",
       "            </tr>\n",
       "        </table>\n",
       "        "
      ],
      "text/plain": [
       "<ModelSEEDReaction2 rxn05937 at 0x7fcbbd112c70>"
      ]
     },
     "execution_count": 48,
     "metadata": {},
     "output_type": "execute_result"
    }
   ],
   "source": [
    "modelseed_git.reactions.rxn05937"
   ]
  },
  {
   "cell_type": "code",
   "execution_count": null,
   "id": "0d7d8a12-514f-48e1-9fff-f213a7ffb8b5",
   "metadata": {},
   "outputs": [],
   "source": [
    "cpd00006_c + cpd00067_c + 2 cpd11620_c --> cpd00005_c + 2 cpd11621_c"
   ]
  }
 ],
 "metadata": {
  "kernelspec": {
   "display_name": "Python 3",
   "language": "python",
   "name": "python3"
  },
  "language_info": {
   "codemirror_mode": {
    "name": "ipython",
    "version": 3
   },
   "file_extension": ".py",
   "mimetype": "text/x-python",
   "name": "python",
   "nbconvert_exporter": "python",
   "pygments_lexer": "ipython3",
   "version": "3.8.10"
  }
 },
 "nbformat": 4,
 "nbformat_minor": 5
}
