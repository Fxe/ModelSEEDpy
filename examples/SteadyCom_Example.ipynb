{
 "cells": [
  {
   "cell_type": "markdown",
   "id": "1dda7cb0",
   "metadata": {},
   "source": [
    "# SteadyCom Example"
   ]
  },
  {
   "cell_type": "code",
   "execution_count": 1,
   "id": "82f3ff22",
   "metadata": {},
   "outputs": [],
   "source": [
    "from reframed import *"
   ]
  },
  {
   "cell_type": "code",
   "execution_count": 2,
   "id": "4f5e41c6",
   "metadata": {},
   "outputs": [
    {
     "name": "stdout",
     "output_type": "stream",
     "text": [
      "Community growth: 107.38671874999997\n",
      "m1\t0.0\n",
      "m2\t0.0\n",
      "m3\t1.0\n"
     ]
    },
    {
     "name": "stderr",
     "output_type": "stream",
     "text": [
      "/Users/chandhanavoleti/opt/anaconda3/lib/python3.8/site-packages/reframed/community/SteadyCom.py:169: UserWarning: Max iterations exceeded.\n",
      "  warn(\"Max iterations exceeded.\")\n"
     ]
    }
   ],
   "source": [
    "# THREE-MEMBER ELECTROSYNTHESIS COMMUNITY MODEL\n",
    "\n",
    "model1 = load_cbmodel('Acetobacterium_MES1.electrosynthesis.edited.xml',flavor='bigg')\n",
    "model1.id = 'm1'\n",
    "\n",
    "model2 = load_cbmodel('Sulfurospirillum_MES13.autotroph.edited.xml',flavor='bigg')\n",
    "model2.id = 'm2'\n",
    "\n",
    "model3 = load_cbmodel('Desulfovibrio_MES4.autotroph.edited.v2.xml',flavor='bigg')\n",
    "model3.id = 'm3'\n",
    "\n",
    "community = Community('electro.community',[model1,model2,model3])\n",
    "communitySolution = SteadyCom(community)\n",
    "\n",
    "# cross_all = communitySolution.cross_feeding()\n",
    "# for i in cross_all:\n",
    "#     print(i)\n",
    "\n",
    "print(communitySolution)"
   ]
  },
  {
   "cell_type": "code",
   "execution_count": 3,
   "id": "825bffb8",
   "metadata": {},
   "outputs": [
    {
     "name": "stdout",
     "output_type": "stream",
     "text": [
      "R_EX_cpd00067_e0  965.865\n",
      "R_EX_cpd11582_e0 -22.6664\n",
      "R_EX_cpd11586_e0 -8.22496\n",
      "R_EX_cpd00276_e0 -233.952\n",
      "R_EX_cpd00082_e0 -251.759\n",
      "R_EX_cpd00001_e0  226.867\n",
      "R_EX_cpd00063_e0 -0.332519\n",
      "R_EX_cpd00058_e0 -0.332519\n",
      "R_EX_cpd00107_e0 -49.4594\n",
      "R_EX_cpd00013_e0  1000\n",
      "R_EX_cpd10515_e0 -0.997558\n",
      "R_EX_cpd00009_e0 -87.1958\n",
      "R_EX_cpd00034_e0 -0.332519\n",
      "R_EX_cpd00322_e0 -35.1136\n",
      "R_EX_cpd00220_e0 -0.665039\n",
      "R_EX_cpd00254_e0 -0.332519\n",
      "R_EX_cpd00138_e0 -133.788\n",
      "R_EX_cpd00047_e0  1000\n",
      "R_EX_cpd10516_e0 -0.332519\n",
      "R_EX_cpd00099_e0 -0.332519\n",
      "R_EX_cpd00205_e0 -0.332519\n",
      "R_EX_cpd00007_e0 -483.479\n",
      "R_EX_cpd00156_e0  2.43374\n",
      "R_EX_cpd00092_e0 -22.2263\n",
      "R_EX_cpd11590_e0 -14.0567\n",
      "R_EX_cpd11584_e0 -8.51186\n",
      "R_EX_cpd00011_e0  1000\n",
      "R_EX_cpd00054_e0 -280.932\n",
      "R_EX_cpd00041_e0 -977.324\n",
      "R_EX_cpd00066_e0 -16.5933\n",
      "R_EX_cpd00393_e0 -0.997558\n",
      "R_EX_cpd00305_e0 -0.332519\n",
      "R_EX_cpd00065_e0 -5.06886\n",
      "R_EX_cpd00069_e0 -12.9591\n",
      "R_EX_cpd00030_e0 -0.332519\n",
      "R_EX_cpd00149_e0 -0.332519\n",
      "R_EX_cpd00048_e0 -9.5072\n",
      "R_EX_cpd00106_e0 -958.887\n",
      "R_EX_cpd00036_e0  1000\n",
      "R_EX_cpd00137_e0  598.287\n",
      "R_EX_cpd15353_e0 -1000\n",
      "R_EX_cpd15352_e0  1000\n",
      "R_EX_cpd00226_e0 -31.808\n",
      "R_EX_cpd15499_e0  1000\n",
      "R_EX_cpd15500_e0 -1000\n",
      "None\n"
     ]
    }
   ],
   "source": [
    "print(communitySolution.print_external_fluxes())"
   ]
  },
  {
   "cell_type": "code",
   "execution_count": 4,
   "id": "59b54618",
   "metadata": {},
   "outputs": [],
   "source": [
    "# print(communitySolution.print_internal_fluxes('m1'))"
   ]
  },
  {
   "cell_type": "code",
   "execution_count": 5,
   "id": "d80f0006",
   "metadata": {},
   "outputs": [
    {
     "name": "stdout",
     "output_type": "stream",
     "text": [
      "M_cpd00067_e0\n",
      "[    * => ] out          -965.865  \n",
      "[ O --> * ] m3            965.865  \n",
      "M_cpd11582_e0\n",
      "[ * --> O ] m3           -22.6664  \n",
      "[ => *    ] in            22.6664  \n",
      "M_cpd11586_e0\n",
      "[ * --> O ] m3           -8.22496  \n",
      "[ => *    ] in            8.22496  \n",
      "M_cpd00276_e0\n",
      "[ * --> O ] m3           -233.952  \n",
      "[ => *    ] in            233.952  \n",
      "M_cpd00082_e0\n",
      "[ * --> O ] m3           -251.759  \n",
      "[ => *    ] in            251.759  \n",
      "M_cpd00001_e0\n",
      "[    * => ] out          -226.867  \n",
      "[ O --> * ] m3            226.867  \n",
      "M_cpd00063_e0\n",
      "[ * --> O ] m3           -0.332519 \n",
      "[ => *    ] in            0.332519 \n",
      "M_cpd00058_e0\n",
      "[ * --> O ] m3           -0.332519 \n",
      "[ => *    ] in            0.332519 \n",
      "M_cpd00107_e0\n",
      "[ * --> O ] m3           -49.4594  \n",
      "[ => *    ] in            49.4594  \n",
      "M_cpd00013_e0\n",
      "[    * => ] out          -1000     \n",
      "[ O --> * ] m3            1000     \n",
      "M_cpd10515_e0\n",
      "[ * --> O ] m3           -0.997558 \n",
      "[ => *    ] in            0.997558 \n",
      "M_cpd00009_e0\n",
      "[ * --> O ] m3           -87.1958  \n",
      "[ => *    ] in            87.1958  \n",
      "M_cpd00034_e0\n",
      "[ * --> O ] m3           -0.332519 \n",
      "[ => *    ] in            0.332519 \n",
      "M_cpd00322_e0\n",
      "[ * --> O ] m3           -35.1136  \n",
      "[ => *    ] in            35.1136  \n",
      "M_cpd00220_e0\n",
      "[ * --> O ] m3           -0.665039 \n",
      "[ => *    ] in            0.665039 \n",
      "M_cpd00254_e0\n",
      "[ * --> O ] m3           -0.332519 \n",
      "[ => *    ] in            0.332519 \n",
      "M_cpd00138_e0\n",
      "[ * --> O ] m3           -133.788  \n",
      "[ => *    ] in            133.788  \n",
      "M_cpd00047_e0\n",
      "[    * => ] out          -1000     \n",
      "[ O --> * ] m3            1000     \n",
      "M_cpd10516_e0\n",
      "[ * --> O ] m3           -0.332519 \n",
      "[ => *    ] in            0.332519 \n",
      "M_cpd00099_e0\n",
      "[ * --> O ] m3           -0.332519 \n",
      "[ => *    ] in            0.332519 \n",
      "M_cpd00205_e0\n",
      "[ * --> O ] m3           -0.332519 \n",
      "[ => *    ] in            0.332519 \n",
      "M_cpd00007_e0\n",
      "[ * --> O ] m3           -483.479  \n",
      "[ => *    ] in            483.479  \n",
      "M_cpd00156_e0\n",
      "[    * => ] out          -2.43374  \n",
      "[ O --> * ] m3            2.43374  \n",
      "M_cpd00092_e0\n",
      "[ * --> O ] m3           -22.2263  \n",
      "[ => *    ] in            22.2263  \n",
      "M_cpd11590_e0\n",
      "[ * --> O ] m3           -14.0567  \n",
      "[ => *    ] in            14.0567  \n",
      "M_cpd11584_e0\n",
      "[ * --> O ] m3           -8.51186  \n",
      "[ => *    ] in            8.51186  \n",
      "M_cpd00011_e0\n",
      "[    * => ] out          -1000     \n",
      "[ O --> * ] m3            1000     \n",
      "M_cpd00054_e0\n",
      "[ * --> O ] m3           -280.932  \n",
      "[ => *    ] in            280.932  \n",
      "M_cpd00041_e0\n",
      "[ * --> O ] m3           -977.324  \n",
      "[ => *    ] in            977.324  \n",
      "M_cpd00066_e0\n",
      "[ * --> O ] m3           -16.5933  \n",
      "[ => *    ] in            16.5933  \n",
      "M_cpd00393_e0\n",
      "[ * --> O ] m3           -0.997558 \n",
      "[ => *    ] in            0.997558 \n",
      "M_cpd00305_e0\n",
      "[ * --> O ] m3           -0.332519 \n",
      "[ => *    ] in            0.332519 \n",
      "M_cpd00065_e0\n",
      "[ * --> O ] m3           -5.06886  \n",
      "[ => *    ] in            5.06886  \n",
      "M_cpd00069_e0\n",
      "[ * --> O ] m3           -12.9591  \n",
      "[ => *    ] in            12.9591  \n",
      "M_cpd00030_e0\n",
      "[ * --> O ] m3           -0.332519 \n",
      "[ => *    ] in            0.332519 \n",
      "M_cpd00149_e0\n",
      "[ * --> O ] m3           -0.332519 \n",
      "[ => *    ] in            0.332519 \n",
      "M_cpd00048_e0\n",
      "[ * --> O ] m3           -9.5072   \n",
      "[ => *    ] in            9.5072   \n",
      "M_cpd00106_e0\n",
      "[ * --> O ] m3           -958.887  \n",
      "[ => *    ] in            958.887  \n",
      "M_cpd00036_e0\n",
      "[    * => ] out          -1000     \n",
      "[ O --> * ] m3            1000     \n",
      "M_cpd00137_e0\n",
      "[    * => ] out          -598.287  \n",
      "[ O --> * ] m3            598.287  \n",
      "M_cpd15353_e0\n",
      "[ * --> O ] m3           -1000     \n",
      "[ => *    ] in            1000     \n",
      "M_cpd15352_e0\n",
      "[    * => ] out          -1000     \n",
      "[ O --> * ] m3            1000     \n",
      "M_cpd00226_e0\n",
      "[ * --> O ] m3           -31.808   \n",
      "[ => *    ] in            31.808   \n",
      "M_cpd15499_e0\n",
      "[    * => ] out          -1000     \n",
      "[ O --> * ] m3            1000     \n",
      "M_cpd15500_e0\n",
      "[ * --> O ] m3           -1000     \n",
      "[ => *    ] in            1000     \n",
      "None\n"
     ]
    }
   ],
   "source": [
    "print(communitySolution.print_exchanges())"
   ]
  },
  {
   "cell_type": "code",
   "execution_count": 6,
   "id": "db19d933",
   "metadata": {},
   "outputs": [
    {
     "name": "stdout",
     "output_type": "stream",
     "text": [
      "Community growth: 25.94140625\n",
      "m1\t0.08741065706394156\n",
      "m2\t0.08673064071533769\n",
      "m3\t0.8258587022207208\n"
     ]
    }
   ],
   "source": [
    "# WITH ENVIRONMENT\n",
    "env = Environment.complete(community.merged_model, inplace=False)\n",
    "communitySolution2 = SteadyCom(community,env)\n",
    "\n",
    "print(communitySolution2)"
   ]
  },
  {
   "cell_type": "code",
   "execution_count": null,
   "id": "955b4901",
   "metadata": {},
   "outputs": [],
   "source": []
  }
 ],
 "metadata": {
  "kernelspec": {
   "display_name": "Python 3",
   "language": "python",
   "name": "python3"
  },
  "language_info": {
   "codemirror_mode": {
    "name": "ipython",
    "version": 3
   },
   "file_extension": ".py",
   "mimetype": "text/x-python",
   "name": "python",
   "nbconvert_exporter": "python",
   "pygments_lexer": "ipython3",
   "version": "3.8.8"
  }
 },
 "nbformat": 4,
 "nbformat_minor": 5
}
