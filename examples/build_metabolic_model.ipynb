{
 "cells": [
  {
   "cell_type": "code",
   "execution_count": 1,
   "metadata": {},
   "outputs": [],
   "source": [
    "import modelseedpy\n",
    "from modelseedpy import MSBuilder, MSGenome"
   ]
  },
  {
   "cell_type": "code",
   "execution_count": 2,
   "metadata": {},
   "outputs": [],
   "source": [
    "genome = MSGenome.from_fasta('GCF_000005845.2_ASM584v2_protein.faa', split=' ')"
   ]
  },
  {
   "cell_type": "code",
   "execution_count": 3,
   "metadata": {},
   "outputs": [
    {
     "name": "stdout",
     "output_type": "stream",
     "text": [
      "Number of features: 4285\n"
     ]
    }
   ],
   "source": [
    "print('Number of features:', len(genome.features))"
   ]
  },
  {
   "cell_type": "code",
   "execution_count": 4,
   "metadata": {},
   "outputs": [
    {
     "name": "stdout",
     "output_type": "stream",
     "text": [
      "cobrakbase 0.2.7\n"
     ]
    }
   ],
   "source": [
    "import cobrakbase\n",
    "kbase = cobrakbase.KBaseAPI()  # or kbase = cobrakbase.KBaseAPI('YOUR_KBASE_AUTHTOKEN')\n",
    "core_template = kbase.get_from_ws('CoreModelTemplateV3', 'NewKBaseModelTemplates')"
   ]
  },
  {
   "cell_type": "code",
   "execution_count": 9,
   "metadata": {
    "collapsed": true,
    "jupyter": {
     "outputs_hidden": true
    },
    "tags": []
   },
   "outputs": [
    {
     "name": "stdout",
     "output_type": "stream",
     "text": [
      "rxn01975_c (NP_416366.1)\n",
      "rxn00265_c (NP_415148.1) or (NP_415149.4)\n",
      "rxn00549_c (NP_418360.1) or (NP_417405.1) or (NP_418653.1) or (NP_416526.4)\n",
      "rxn14427_c (NP_415982.1 and NP_415984.1 and NP_415742.1 and NP_415744.1) or (NP_415982.1 and NP_415984.1 and NP_415985.1 and NP_415744.1) or (NP_415984.1 and NP_415742.1 and NP_415745.1 and NP_415744.1) or (NP_415984.1 and NP_415985.1 and NP_415745.1 and NP_415744.1) or (NP_415982.1 and NP_415743.1 and NP_415742.1 and NP_415744.1) or (NP_415982.1 and NP_415743.1 and NP_415985.1 and NP_415744.1) or (NP_415743.1 and NP_415742.1 and NP_415745.1 and NP_415744.1) or (NP_415743.1 and NP_415985.1 and NP_415745.1 and NP_415744.1) or (NP_415982.1 and NP_415742.1 and NP_415984.1 and NP_415983.1) or (NP_415982.1 and NP_415985.1 and NP_415984.1 and NP_415983.1) or (NP_415742.1 and NP_415745.1 and NP_415984.1 and NP_415983.1) or (NP_415985.1 and NP_415745.1 and NP_415984.1 and NP_415983.1) or (NP_415982.1 and NP_415742.1 and NP_415743.1 and NP_415983.1) or (NP_415982.1 and NP_415985.1 and NP_415743.1 and NP_415983.1) or (NP_415742.1 and NP_415745.1 and NP_415743.1 and NP_415983.1) or (NP_415985.1 and NP_415745.1 and NP_415743.1 and NP_415983.1) or (NP_415742.1) or (NP_415985.1) or (NP_415984.1) or (NP_415743.1) or (NP_415744.1) or (NP_415983.1) or (NP_415982.1) or (NP_415745.1) or (NP_416707.4 and NP_416706.1 and NP_416708.1 and NP_416709.1) or (NP_417825.1 and NP_417824.1)\n",
      "rxn00441_c (NP_415254.1) or (NP_415392.1)\n",
      "rxn01977_c (NP_418449.1)\n",
      "rxn05561_c (NP_415154.1) or (NP_418547.1)\n",
      "rxn05040_c (NP_415793.1 and NP_417513.1)\n",
      "rxn05581_c (NP_418362.1)\n",
      "rxn00569_c (NP_417825.1) or (NP_417824.1)\n",
      "rxn00545_c (NP_418351.1) or (NP_416237.3)\n",
      "rxn00874_c (NP_416844.1) or (YP_026272.1) or (NP_417321.2) or (NP_416728.1)\n",
      "rxn01333_c (NP_416959.1) or (NP_414549.1)\n",
      "rxn00224_c (NP_415008.1)\n",
      "rxn00256_c (NP_415248.1) or (NP_414616.1)\n",
      "rxn00782_c (NP_417147.1)\n",
      "rxn00011_c (NP_414656.1) or (NP_418217.1 and NP_418127.1) or (NP_418217.1 and YP_025294.2) or (NP_418127.1 and NP_418126.1) or (NP_418126.1 and YP_025294.2) or (NP_418127.1 and NP_414620.1) or (YP_025294.2 and NP_414620.1)\n",
      "rxn00336_c (NP_418439.1)\n",
      "rxn00602_c (NP_417392.1)\n",
      "rxn09272_c (NP_415250.1 and NP_415249.1 and NP_418576.1 and NP_418575.1)\n",
      "rxn00747_c (NP_418354.1)\n",
      "rxn05602_c (NP_418060.1)\n",
      "rxn01480_c (NP_418288.1) or (NP_416843.1)\n",
      "rxn05937_c (NP_418359.1)\n",
      "rxn00785_c (YP_026188.1) or (NP_416960.1)\n",
      "rxn00974_c (NP_414660.1) or (NP_415792.1) or (NP_415792.1 and NP_414660.1)\n",
      "rxn00330_c (NP_417450.1) or (NP_418438.1)\n",
      "rxn08179_c (NP_418007.3)\n",
      "rxn05209_c (NP_414560.1)\n",
      "rxn01116_c (NP_417845.1) or (NP_416542.1)\n",
      "rxn08556_c (NP_416745.1 and NP_416744.1) or (NP_417884.1)\n",
      "rxn00777_c (NP_417389.1) or (NP_418514.1)\n",
      "rxn00285_c (NP_415257.1 and NP_415256.1)\n",
      "rxn01115_c (NP_416533.1)\n",
      "rxn00147_c (NP_416217.1)\n",
      "rxn01241_c (NP_414838.2) or (NP_414658.1) or (NP_414658.1)\n",
      "rxn00122_c (NP_414566.1)\n",
      "rxn04794_c (NP_415344.1) or (YP_026205.1) or (NP_415423.1) or (NP_418386.1) or (YP_026205.1)\n",
      "rxn00543_c (NP_415995.4) or (NP_418690.4) or (NP_415757.1) or (YP_026233.1) or (NP_414859.1) or (NP_415995.4) or (NP_418690.4) or (NP_415757.1) or (YP_026233.1) or (NP_414859.1)\n",
      "rxn00225_c (NP_416799.1) or (NP_417585.2) or (NP_417585.2)\n",
      "rxn01334_c (NP_417400.1) or (NP_416600.4) or (NP_417280.1)\n",
      "rxn08734_c (NP_415261.2 and NP_417199.1 and NP_417203.1 and NP_417201.1 and NP_417200.1 and NP_417204.1 and NP_417202.1) or (NP_417199.1 and NP_417203.1 and NP_415497.1 and NP_417200.1 and NP_417204.1 and NP_417202.1 and NP_417201.1)\n",
      "rxn00875_c (NP_418048.1)\n",
      "rxn00786_c (NP_417400.1) or (NP_416600.4) or (NP_417280.1)\n",
      "rxn00990_c (NP_418048.1)\n",
      "rxn08557_c (NP_416745.1 and NP_416744.1) or (NP_417884.1)\n",
      "rxn00869_c (NP_416950.1) or (NP_415757.1)\n",
      "rxn05627_c (NP_416707.4 and NP_416706.1 and NP_416708.1 and NP_416709.1) or (NP_415982.1 and NP_415984.1 and NP_415742.1 and NP_415744.1) or (NP_415982.1 and NP_415984.1 and NP_415985.1 and NP_415744.1) or (NP_415984.1 and NP_415742.1 and NP_415745.1 and NP_415744.1) or (NP_415984.1 and NP_415985.1 and NP_415745.1 and NP_415744.1) or (NP_415982.1 and NP_415743.1 and NP_415742.1 and NP_415744.1) or (NP_415982.1 and NP_415743.1 and NP_415985.1 and NP_415744.1) or (NP_415743.1 and NP_415742.1 and NP_415745.1 and NP_415744.1) or (NP_415743.1 and NP_415985.1 and NP_415745.1 and NP_415744.1) or (NP_415982.1 and NP_415742.1 and NP_415984.1 and NP_415983.1) or (NP_415982.1 and NP_415985.1 and NP_415984.1 and NP_415983.1) or (NP_415742.1 and NP_415745.1 and NP_415984.1 and NP_415983.1) or (NP_415985.1 and NP_415745.1 and NP_415984.1 and NP_415983.1) or (NP_415982.1 and NP_415742.1 and NP_415743.1 and NP_415983.1) or (NP_415982.1 and NP_415985.1 and NP_415743.1 and NP_415983.1) or (NP_415742.1 and NP_415745.1 and NP_415743.1 and NP_415983.1) or (NP_415985.1 and NP_415745.1 and NP_415743.1 and NP_415983.1) or (NP_417824.1) or (NP_415742.1) or (NP_415985.1) or (NP_415984.1) or (NP_415743.1) or (NP_415744.1) or (NP_415983.1) or (NP_415982.1) or (NP_415745.1) or (NP_417825.1 and NP_417824.1)\n",
      "rxn01343_c (NP_418351.1)\n",
      "rxn05528_c (NP_415017.1) or (NP_417926.1) or (YP_009518752.1)\n",
      "rxn02342_c (NP_414656.1)\n",
      "rxn09001_c (NP_416707.4 and NP_416706.1 and NP_416708.1 and NP_416709.1) or (NP_415982.1 and NP_415984.1 and NP_415742.1 and NP_415744.1) or (NP_415982.1 and NP_415984.1 and NP_415985.1 and NP_415744.1) or (NP_415984.1 and NP_415742.1 and NP_415745.1 and NP_415744.1) or (NP_415984.1 and NP_415985.1 and NP_415745.1 and NP_415744.1) or (NP_415982.1 and NP_415743.1 and NP_415742.1 and NP_415744.1) or (NP_415982.1 and NP_415743.1 and NP_415985.1 and NP_415744.1) or (NP_415743.1 and NP_415742.1 and NP_415745.1 and NP_415744.1) or (NP_415743.1 and NP_415985.1 and NP_415745.1 and NP_415744.1) or (NP_415982.1 and NP_415742.1 and NP_415984.1 and NP_415983.1) or (NP_415982.1 and NP_415985.1 and NP_415984.1 and NP_415983.1) or (NP_415742.1 and NP_415745.1 and NP_415984.1 and NP_415983.1) or (NP_415985.1 and NP_415745.1 and NP_415984.1 and NP_415983.1) or (NP_415982.1 and NP_415742.1 and NP_415743.1 and NP_415983.1) or (NP_415982.1 and NP_415985.1 and NP_415743.1 and NP_415983.1) or (NP_415742.1 and NP_415745.1 and NP_415743.1 and NP_415983.1) or (NP_415985.1 and NP_415745.1 and NP_415743.1 and NP_415983.1)\n",
      "rxn10114_c (NP_418328.1 and NP_418503.1 and NP_418329.1 and NP_418330.1 and NP_415992.1 and NP_415991.1 and NP_415993.1)\n",
      "rxn00148_c (NP_416191.1) or (NP_416368.1)\n",
      "rxn00159_c (NP_415996.2)\n",
      "rxn01872_c (NP_415255.1)\n",
      "rxn09003_c (NP_417824.1) or (NP_415982.1 and NP_415984.1 and NP_415742.1 and NP_415744.1) or (NP_415982.1 and NP_415984.1 and NP_415985.1 and NP_415744.1) or (NP_415984.1 and NP_415742.1 and NP_415745.1 and NP_415744.1) or (NP_415984.1 and NP_415985.1 and NP_415745.1 and NP_415744.1) or (NP_415982.1 and NP_415743.1 and NP_415742.1 and NP_415744.1) or (NP_415982.1 and NP_415743.1 and NP_415985.1 and NP_415744.1) or (NP_415743.1 and NP_415742.1 and NP_415745.1 and NP_415744.1) or (NP_415743.1 and NP_415985.1 and NP_415745.1 and NP_415744.1) or (NP_415982.1 and NP_415742.1 and NP_415984.1 and NP_415983.1) or (NP_415982.1 and NP_415985.1 and NP_415984.1 and NP_415983.1) or (NP_415742.1 and NP_415745.1 and NP_415984.1 and NP_415983.1) or (NP_415985.1 and NP_415745.1 and NP_415984.1 and NP_415983.1) or (NP_415982.1 and NP_415742.1 and NP_415743.1 and NP_415983.1) or (NP_415982.1 and NP_415985.1 and NP_415743.1 and NP_415983.1) or (NP_415742.1 and NP_415745.1 and NP_415743.1 and NP_415983.1) or (NP_415985.1 and NP_415745.1 and NP_415743.1 and NP_415983.1)\n",
      "rxn08178_c (NP_418007.3)\n",
      "rxn00199_c (NP_415654.1) or (NP_415654.1)\n",
      "rxn00615_c (NP_418361.1)\n",
      "rxn00392_c (NP_414566.1)\n",
      "rxn08527_c (NP_415250.1 and NP_415249.1 and NP_418576.1 and NP_418575.1)\n",
      "rxn00083_c (NP_416119.1) or (NP_418397.2)\n",
      "rxn00935_c (NP_416714.1)\n",
      "rxn01169_c (NP_416889.1) or (NP_417105.1)\n",
      "rxn00161_c (NP_416958.1)\n",
      "rxn00985_c (NP_417585.2) or (NP_416799.1) or (NP_417585.2) or (NP_417585.2)\n",
      "rxn02185_c (NP_418217.1 and NP_418127.1) or (NP_418217.1 and YP_025294.2) or (NP_418127.1 and NP_418126.1) or (NP_418126.1 and YP_025294.2) or (NP_418127.1 and NP_414620.1) or (YP_025294.2 and NP_414620.1)\n",
      "rxn03240_c (NP_418288.1) or (NP_416843.1)\n",
      "rxn06777_c (NP_418288.1) or (NP_416843.1) or (NP_418288.1) or (NP_416843.1)\n",
      "rxn03250_c (NP_418288.1) or (NP_416843.1)\n",
      "rxn00288_c (NP_415249.1) or (NP_415250.1) or (NP_418576.1) or (NP_418575.1)\n",
      "rxn14418_c (NP_415261.2 and NP_417199.1 and NP_417203.1 and NP_417201.1 and NP_417200.1 and NP_417204.1 and NP_417202.1) or (NP_417199.1 and NP_417203.1 and NP_415497.1 and NP_417200.1 and NP_417204.1 and NP_417202.1 and NP_417201.1) or (NP_415261.2) or (NP_415497.1) or (NP_415261.2 and NP_415262.1) or (NP_415497.1 and NP_415262.1) or (NP_415261.2 and NP_415498.1) or (NP_415497.1 and NP_415498.1) or (NP_415262.1) or (NP_415498.1)\n",
      "rxn08173_c (NP_418187.1 and NP_418188.1 and NP_418189.1 and NP_418190.1 and NP_418191.1 and NP_418195.2)\n",
      "rxn00171_c (NP_416950.1) or (NP_415757.1)\n",
      "rxn14420_c (NP_415261.2 and NP_417199.1 and NP_417203.1 and NP_417201.1 and NP_417200.1 and NP_417204.1 and NP_417202.1) or (NP_417199.1 and NP_417203.1 and NP_415497.1 and NP_417200.1 and NP_417204.1 and NP_417202.1 and NP_417201.1) or (NP_415261.2 and NP_415262.1) or (NP_415497.1 and NP_415262.1) or (NP_415261.2 and NP_415498.1) or (NP_415497.1 and NP_415498.1) or (NP_417700.2)\n",
      "rxn14422_c (NP_414963.1) or (NP_414964.1) or (NP_414965.1) or (NP_414966.1)\n",
      "rxn00248_c (NP_417703.1) or (NP_417703.1)\n",
      "rxn00604_c (NP_416366.1)\n",
      "rxn02380_c (NP_418449.1)\n",
      "rxn00371_c (NP_415993.1) or (NP_416018.1) or (NP_418330.1) or (NP_418329.1) or (NP_418328.1) or (NP_415991.1) or (NP_415992.1)\n",
      "rxn05313_c (NP_418444.1)\n",
      "rxn01100_c (NP_417401.1)\n",
      "rxn00216_c (NP_416889.1) or (NP_417105.1)\n",
      "rxn08655_c (NP_417453.1 and YP_026190.1 and YP_026191.1)\n",
      "rxn00763_c (NP_415995.4) or (NP_418690.4) or (NP_415757.1) or (YP_026233.1) or (NP_414859.1)\n",
      "rxn01476_c (NP_415288.1)\n",
      "rxn00247_c (NP_417862.1)\n",
      "rxn05625_c (NP_416707.4 and NP_416706.1 and NP_416708.1 and NP_416709.1) or (NP_415982.1 and NP_415984.1 and NP_415742.1 and NP_415744.1) or (NP_415982.1 and NP_415984.1 and NP_415985.1 and NP_415744.1) or (NP_415984.1 and NP_415742.1 and NP_415745.1 and NP_415744.1) or (NP_415984.1 and NP_415985.1 and NP_415745.1 and NP_415744.1) or (NP_415982.1 and NP_415743.1 and NP_415742.1 and NP_415744.1) or (NP_415982.1 and NP_415743.1 and NP_415985.1 and NP_415744.1) or (NP_415743.1 and NP_415742.1 and NP_415745.1 and NP_415744.1) or (NP_415743.1 and NP_415985.1 and NP_415745.1 and NP_415744.1) or (NP_415982.1 and NP_415742.1 and NP_415984.1 and NP_415983.1) or (NP_415982.1 and NP_415985.1 and NP_415984.1 and NP_415983.1) or (NP_415742.1 and NP_415745.1 and NP_415984.1 and NP_415983.1) or (NP_415985.1 and NP_415745.1 and NP_415984.1 and NP_415983.1) or (NP_415982.1 and NP_415742.1 and NP_415743.1 and NP_415983.1) or (NP_415982.1 and NP_415985.1 and NP_415743.1 and NP_415983.1) or (NP_415742.1 and NP_415745.1 and NP_415743.1 and NP_415983.1) or (NP_415985.1 and NP_415745.1 and NP_415743.1 and NP_415983.1) or (NP_417824.1) or (NP_415742.1) or (NP_415985.1) or (NP_415984.1) or (NP_415743.1) or (NP_415744.1) or (NP_415983.1) or (NP_415982.1) or (NP_415745.1) or (NP_417825.1 and NP_417824.1)\n",
      "rxn10126_c (NP_415249.1) or (NP_415250.1)\n",
      "rxn00173_c (NP_416800.1)\n",
      "rxn06493_c (NP_417380.1) or (NP_417379.1 and NP_417380.1) or (NP_414658.1)\n",
      "rxn02167_c (NP_418288.1) or (NP_416843.1)\n",
      "rxn03644_c (NP_418022.1)\n",
      "rxn03978_c (NP_418494.1)\n",
      "rxn01388_c (NP_414660.1) or (NP_415792.1) or (NP_415792.1 and NP_414660.1)\n",
      "rxn00459_c (NP_417259.1) or (NP_416764.1)\n",
      "rxn00500_c (NP_416637.1) or (NP_415898.1) or (NP_416637.1) or (NP_415898.1)\n",
      "rxn00670_c (NP_416800.1)\n",
      "rxn01275_c (NP_418689.1) or (NP_417894.2) or (NP_418689.1) or (NP_417894.2)\n",
      "rxn02376_c (NP_415254.1) or (NP_415392.1)\n",
      "rxn01871_c (NP_414657.1)\n",
      "rxn01870_c (NP_417400.1) or (NP_417280.1)\n",
      "rxn01200_c (YP_026188.1) or (NP_416960.1)\n",
      "rxn14419_c (NP_415261.2 and NP_417199.1 and NP_417203.1 and NP_417201.1 and NP_417200.1 and NP_417204.1 and NP_417202.1) or (NP_417199.1 and NP_417203.1 and NP_415497.1 and NP_417200.1 and NP_417204.1 and NP_417202.1 and NP_417201.1) or (NP_415261.2) or (NP_415497.1) or (NP_415261.2 and NP_415262.1) or (NP_415497.1 and NP_415262.1) or (NP_415261.2 and NP_415498.1) or (NP_415497.1 and NP_415498.1) or (NP_415262.1) or (NP_415498.1)\n",
      "rxn03249_c (NP_418288.1) or (NP_416843.1) or (NP_418288.1) or (NP_416843.1)\n",
      "rxn00160_c (NP_416314.1)\n",
      "rxn08901_c (NP_416714.1)\n",
      "rxn00558_c (NP_418449.1)\n",
      "rxn05226_c (YP_026278.1) or (NP_416911.1) or (NP_416884.1)\n",
      "rxn00178_c (NP_416844.1) or (YP_026272.1) or (NP_417321.2) or (NP_416728.1)\n",
      "rxn00157_c (NP_415344.1) or (YP_026205.1) or (NP_415423.1) or (NP_418386.1) or (NP_415422.1) or (NP_415345.2) or (NP_418387.3)\n",
      "rxn00305_c (NP_418096.4)\n",
      "rxn00623_c (NP_417243.1 and NP_417244.1)\n",
      "rxn10122_c (NP_416785.1 and NP_416782.1 and NP_416779.2 and NP_416791.3 and NP_416784.1 and NP_416789.2 and NP_416790.1 and NP_416783.1 and NP_416788.1 and NP_416787.1 and NP_416786.4 and NP_416780.1 and NP_416781.1)\n",
      "rxn00568_c (NP_417825.1 and NP_417824.1)\n",
      "rxn02314_c (NP_416673.1) or (NP_418351.1) or (NP_415278.1)\n",
      "rxn08094_c (NP_415254.1) or (NP_415255.1) or (NP_415392.1)\n",
      "rxn03884_c (NP_416364.1)\n",
      "rxn08971_c (NP_415627.1)\n",
      "rxn00172_c (NP_414869.1)\n",
      "rxn00616_c (NP_417884.1) or (NP_416745.1) or (NP_416744.1)\n",
      "rxn01477_c (NP_416365.1)\n",
      "rxn00770_c (NP_415725.1)\n",
      "rxn14421_c (NP_414963.1) or (NP_414964.1) or (NP_414965.1) or (NP_414966.1)\n",
      "rxn00077_c (NP_417105.1)\n",
      "rxn06526_c (NP_418559.1)\n",
      "rxn00251_c (NP_418391.1)\n",
      "rxn08975_c (NP_415627.1)\n",
      "rxn00781_c (NP_416293.1)\n",
      "rxn08656_c (NP_417453.1 and YP_026190.1 and YP_026191.1)\n",
      "rxn00973_c (NP_415792.1 and NP_414660.1) or (NP_415792.1 and NP_414660.1)\n",
      "rxn00762_c (NP_418380.4) or (NP_418380.4)\n",
      "rxn01387_c (NP_415654.1) or (NP_415654.1)\n",
      "rxn00799_c (NP_416128.1) or (NP_416129.1) or (NP_418546.1)\n",
      "rxn09295_c (NP_416119.1) or (NP_418397.2)\n"
     ]
    }
   ],
   "source": [
    "model = MSBuilder.build_metabolic_model('ecoli.core', genome, core_template, None, allow_all_non_grp_reactions=True)"
   ]
  },
  {
   "cell_type": "code",
   "execution_count": 10,
   "metadata": {},
   "outputs": [
    {
     "data": {
      "text/html": [
       "\n",
       "        <table>\n",
       "            <tr>\n",
       "                <td><strong>Name</strong></td>\n",
       "                <td>ecoli.core</td>\n",
       "            </tr><tr>\n",
       "                <td><strong>Memory address</strong></td>\n",
       "                <td>0x07f5960718ac0</td>\n",
       "            </tr><tr>\n",
       "                <td><strong>Number of metabolites</strong></td>\n",
       "                <td>148</td>\n",
       "            </tr><tr>\n",
       "                <td><strong>Number of reactions</strong></td>\n",
       "                <td>155</td>\n",
       "            </tr><tr>\n",
       "                <td><strong>Number of groups</strong></td>\n",
       "                <td>0</td>\n",
       "            </tr><tr>\n",
       "                <td><strong>Objective expression</strong></td>\n",
       "                <td>1.0*bio1 - 1.0*bio1_reverse_b18f7</td>\n",
       "            </tr><tr>\n",
       "                <td><strong>Compartments</strong></td>\n",
       "                <td>c0, e0</td>\n",
       "            </tr>\n",
       "          </table>"
      ],
      "text/plain": [
       "<Model ecoli.core at 0x7f5960718ac0>"
      ]
     },
     "execution_count": 10,
     "metadata": {},
     "output_type": "execute_result"
    }
   ],
   "source": [
    "model"
   ]
  },
  {
   "cell_type": "code",
   "execution_count": 12,
   "metadata": {},
   "outputs": [],
   "source": [
    "model.objective = 'bio2'"
   ]
  },
  {
   "cell_type": "code",
   "execution_count": 13,
   "metadata": {},
   "outputs": [],
   "source": [
    "model.medium = {\n",
    "    'EX_cpd00067_e0': 1000,\n",
    "    'EX_cpd00027_e0': 1,\n",
    "    #'EX_cpd00007_e0': 1000,\n",
    "    'EX_cpd00001_e0': 1000,\n",
    "    \n",
    "}"
   ]
  },
  {
   "cell_type": "code",
   "execution_count": 14,
   "metadata": {},
   "outputs": [
    {
     "data": {
      "text/html": [
       "<h3>Objective</h3><p>1.0 bio2 = 0.0</p><h4>Uptake</h4><table border=\"1\" class=\"dataframe\">\n",
       "  <thead>\n",
       "    <tr style=\"text-align: right;\">\n",
       "      <th>Metabolite</th>\n",
       "      <th>Reaction</th>\n",
       "      <th>Flux</th>\n",
       "      <th>C-Number</th>\n",
       "      <th>C-Flux</th>\n",
       "    </tr>\n",
       "  </thead>\n",
       "  <tbody>\n",
       "  </tbody>\n",
       "</table><h4>Secretion</h4><table border=\"1\" class=\"dataframe\">\n",
       "  <thead>\n",
       "    <tr style=\"text-align: right;\">\n",
       "      <th>Metabolite</th>\n",
       "      <th>Reaction</th>\n",
       "      <th>Flux</th>\n",
       "      <th>C-Number</th>\n",
       "      <th>C-Flux</th>\n",
       "    </tr>\n",
       "  </thead>\n",
       "  <tbody>\n",
       "  </tbody>\n",
       "</table>"
      ],
      "text/plain": [
       "<cobra.summary.model_summary.ModelSummary at 0x7f5960644d00>"
      ]
     },
     "execution_count": 14,
     "metadata": {},
     "output_type": "execute_result"
    }
   ],
   "source": [
    "model.summary()"
   ]
  },
  {
   "cell_type": "code",
   "execution_count": 15,
   "metadata": {},
   "outputs": [
    {
     "data": {
      "text/html": [
       "<h3>Objective</h3><p>1.0 bio1 = 0.05181669326590313</p><h4>Uptake</h4><table border=\"1\" class=\"dataframe\">\n",
       "  <thead>\n",
       "    <tr style=\"text-align: right;\">\n",
       "      <th>Metabolite</th>\n",
       "      <th>Reaction</th>\n",
       "      <th>Flux</th>\n",
       "      <th>C-Number</th>\n",
       "      <th>C-Flux</th>\n",
       "    </tr>\n",
       "  </thead>\n",
       "  <tbody>\n",
       "    <tr>\n",
       "      <td>cpd00007_e0</td>\n",
       "      <td>EX_cpd00007_e0</td>\n",
       "      <td>4.049</td>\n",
       "      <td>0</td>\n",
       "      <td>0.00%</td>\n",
       "    </tr>\n",
       "    <tr>\n",
       "      <td>cpd00009_e0</td>\n",
       "      <td>EX_cpd00009_e0</td>\n",
       "      <td>0.2184</td>\n",
       "      <td>0</td>\n",
       "      <td>0.00%</td>\n",
       "    </tr>\n",
       "    <tr>\n",
       "      <td>cpd00027_e0</td>\n",
       "      <td>EX_cpd00027_e0</td>\n",
       "      <td>1</td>\n",
       "      <td>6</td>\n",
       "      <td>100.00%</td>\n",
       "    </tr>\n",
       "  </tbody>\n",
       "</table><h4>Secretion</h4><table border=\"1\" class=\"dataframe\">\n",
       "  <thead>\n",
       "    <tr style=\"text-align: right;\">\n",
       "      <th>Metabolite</th>\n",
       "      <th>Reaction</th>\n",
       "      <th>Flux</th>\n",
       "      <th>C-Number</th>\n",
       "      <th>C-Flux</th>\n",
       "    </tr>\n",
       "  </thead>\n",
       "  <tbody>\n",
       "    <tr>\n",
       "      <td>cpd00001_e0</td>\n",
       "      <td>EX_cpd00001_e0</td>\n",
       "      <td>-4.656</td>\n",
       "      <td>0</td>\n",
       "      <td>0.00%</td>\n",
       "    </tr>\n",
       "    <tr>\n",
       "      <td>cpd00011_e0</td>\n",
       "      <td>EX_cpd00011_e0</td>\n",
       "      <td>-3.684</td>\n",
       "      <td>1</td>\n",
       "      <td>100.00%</td>\n",
       "    </tr>\n",
       "    <tr>\n",
       "      <td>cpd00067_e0</td>\n",
       "      <td>EX_cpd00067_e0</td>\n",
       "      <td>-1.489</td>\n",
       "      <td>0</td>\n",
       "      <td>0.00%</td>\n",
       "    </tr>\n",
       "    <tr>\n",
       "      <td>cpd11416_c0</td>\n",
       "      <td>SK_cpd11416_c0</td>\n",
       "      <td>-0.05182</td>\n",
       "      <td>0</td>\n",
       "      <td>0.00%</td>\n",
       "    </tr>\n",
       "  </tbody>\n",
       "</table>"
      ],
      "text/plain": [
       "<cobra.summary.model_summary.ModelSummary at 0x7f5961045280>"
      ]
     },
     "execution_count": 15,
     "metadata": {},
     "output_type": "execute_result"
    }
   ],
   "source": [
    "model.objective = 'bio1'\n",
    "model.medium = {\n",
    "    'EX_cpd00067_e0': 1000,\n",
    "    'EX_cpd00027_e0': 1,\n",
    "    'EX_cpd00007_e0': 1000,\n",
    "    'EX_cpd00001_e0': 1000,\n",
    "    'EX_cpd00009_e0': 1000,\n",
    "    \n",
    "}\n",
    "model.summary()"
   ]
  },
  {
   "cell_type": "code",
   "execution_count": 16,
   "metadata": {},
   "outputs": [],
   "source": [
    "rxn = model.reactions.rxn00011_c0"
   ]
  },
  {
   "cell_type": "code",
   "execution_count": null,
   "metadata": {},
   "outputs": [],
   "source": []
  },
  {
   "cell_type": "code",
   "execution_count": 17,
   "metadata": {},
   "outputs": [],
   "source": [
    "import cobrakbase\n",
    "kbase = cobrakbase.KBaseAPI()"
   ]
  },
  {
   "cell_type": "code",
   "execution_count": 18,
   "metadata": {},
   "outputs": [
    {
     "name": "stderr",
     "output_type": "stream",
     "text": [
      "WARNING:cobrakbase.core.kbasefba.fbamodel_builder:unable to add sink for [cpd02701_c0]: not found\n",
      "WARNING:cobrakbase.core.kbasefba.fbamodel_builder:unable to add sink for [cpd15302_c0]: not found\n"
     ]
    },
    {
     "ename": "ValueError",
     "evalue": "id 'SSO' at index 1 is non-unique. Is it present twice?",
     "output_type": "error",
     "traceback": [
      "\u001b[0;31m---------------------------------------------------------------------------\u001b[0m",
      "\u001b[0;31mValueError\u001b[0m                                Traceback (most recent call last)",
      "\u001b[0;32m<ipython-input-18-0f78976cc165>\u001b[0m in \u001b[0;36m<module>\u001b[0;34m\u001b[0m\n\u001b[1;32m      1\u001b[0m \u001b[0mmodel_compare\u001b[0m \u001b[0;34m=\u001b[0m \u001b[0mkbase\u001b[0m\u001b[0;34m.\u001b[0m\u001b[0mget_from_ws\u001b[0m\u001b[0;34m(\u001b[0m\u001b[0;34m'GCF_000005845.2.RAST.mdl'\u001b[0m\u001b[0;34m,\u001b[0m \u001b[0;34m'filipeliu:narrative_1612259860241'\u001b[0m\u001b[0;34m)\u001b[0m\u001b[0;34m\u001b[0m\u001b[0;34m\u001b[0m\u001b[0m\n\u001b[1;32m      2\u001b[0m \u001b[0mmodel_compare_template\u001b[0m \u001b[0;34m=\u001b[0m \u001b[0mkbase\u001b[0m\u001b[0;34m.\u001b[0m\u001b[0mget_from_ws\u001b[0m\u001b[0;34m(\u001b[0m\u001b[0mmodel_compare\u001b[0m\u001b[0;34m.\u001b[0m\u001b[0mtemplate_ref\u001b[0m\u001b[0;34m)\u001b[0m\u001b[0;34m\u001b[0m\u001b[0;34m\u001b[0m\u001b[0m\n\u001b[0;32m----> 3\u001b[0;31m \u001b[0mmodel_compare_genome\u001b[0m \u001b[0;34m=\u001b[0m \u001b[0mkbase\u001b[0m\u001b[0;34m.\u001b[0m\u001b[0mget_from_ws\u001b[0m\u001b[0;34m(\u001b[0m\u001b[0mmodel_compare\u001b[0m\u001b[0;34m.\u001b[0m\u001b[0mgenome_ref\u001b[0m\u001b[0;34m)\u001b[0m\u001b[0;34m\u001b[0m\u001b[0;34m\u001b[0m\u001b[0m\n\u001b[0m",
      "\u001b[0;32m/usr/local/lib/python3.8/site-packages/cobrakbase/kbaseapi.py\u001b[0m in \u001b[0;36mget_from_ws\u001b[0;34m(self, id_or_ref, workspace)\u001b[0m\n\u001b[1;32m    100\u001b[0m             \u001b[0;32mreturn\u001b[0m \u001b[0;32mNone\u001b[0m\u001b[0;34m\u001b[0m\u001b[0;34m\u001b[0m\u001b[0m\n\u001b[1;32m    101\u001b[0m         \u001b[0mfactory\u001b[0m \u001b[0;34m=\u001b[0m \u001b[0mKBaseObjectFactory\u001b[0m\u001b[0;34m(\u001b[0m\u001b[0;34m)\u001b[0m\u001b[0;34m\u001b[0m\u001b[0;34m\u001b[0m\u001b[0m\n\u001b[0;32m--> 102\u001b[0;31m         \u001b[0;32mreturn\u001b[0m \u001b[0mfactory\u001b[0m\u001b[0;34m.\u001b[0m\u001b[0mcreate\u001b[0m\u001b[0;34m(\u001b[0m\u001b[0mres\u001b[0m\u001b[0;34m,\u001b[0m \u001b[0;32mNone\u001b[0m\u001b[0;34m)\u001b[0m\u001b[0;34m\u001b[0m\u001b[0;34m\u001b[0m\u001b[0m\n\u001b[0m\u001b[1;32m    103\u001b[0m \u001b[0;34m\u001b[0m\u001b[0m\n\u001b[1;32m    104\u001b[0m     \u001b[0;32mdef\u001b[0m \u001b[0msave_object\u001b[0m\u001b[0;34m(\u001b[0m\u001b[0mself\u001b[0m\u001b[0;34m,\u001b[0m \u001b[0mobject_id\u001b[0m\u001b[0;34m,\u001b[0m \u001b[0mws\u001b[0m\u001b[0;34m,\u001b[0m \u001b[0mobject_type\u001b[0m\u001b[0;34m,\u001b[0m \u001b[0mdata\u001b[0m\u001b[0;34m)\u001b[0m\u001b[0;34m:\u001b[0m\u001b[0;34m\u001b[0m\u001b[0;34m\u001b[0m\u001b[0m\n",
      "\u001b[0;32m/usr/local/lib/python3.8/site-packages/cobrakbase/core/kbase_object_factory.py\u001b[0m in \u001b[0;36mcreate\u001b[0;34m(self, ws_output, object_type)\u001b[0m\n\u001b[1;32m     57\u001b[0m \u001b[0;34m\u001b[0m\u001b[0m\n\u001b[1;32m     58\u001b[0m     \u001b[0;32mdef\u001b[0m \u001b[0mcreate\u001b[0m\u001b[0;34m(\u001b[0m\u001b[0mself\u001b[0m\u001b[0;34m,\u001b[0m \u001b[0mws_output\u001b[0m\u001b[0;34m,\u001b[0m \u001b[0mobject_type\u001b[0m\u001b[0;34m)\u001b[0m\u001b[0;34m:\u001b[0m\u001b[0;34m\u001b[0m\u001b[0;34m\u001b[0m\u001b[0m\n\u001b[0;32m---> 59\u001b[0;31m         \u001b[0;32mreturn\u001b[0m \u001b[0mself\u001b[0m\u001b[0;34m.\u001b[0m\u001b[0mbuild_object_from_ws\u001b[0m\u001b[0;34m(\u001b[0m\u001b[0mws_output\u001b[0m\u001b[0;34m,\u001b[0m \u001b[0mobject_type\u001b[0m\u001b[0;34m)\u001b[0m\u001b[0;34m\u001b[0m\u001b[0;34m\u001b[0m\u001b[0m\n\u001b[0m",
      "\u001b[0;32m/usr/local/lib/python3.8/site-packages/cobrakbase/core/kbase_object_factory.py\u001b[0m in \u001b[0;36mbuild_object_from_ws\u001b[0;34m(self, ws_output, object_type)\u001b[0m\n\u001b[1;32m     52\u001b[0m \u001b[0;34m\u001b[0m\u001b[0m\n\u001b[1;32m     53\u001b[0m         \u001b[0;32mif\u001b[0m \u001b[0minfo\u001b[0m \u001b[0;32mand\u001b[0m \u001b[0minfo\u001b[0m\u001b[0;34m.\u001b[0m\u001b[0mtype\u001b[0m \u001b[0;32mand\u001b[0m \u001b[0minfo\u001b[0m\u001b[0;34m.\u001b[0m\u001b[0mtype\u001b[0m \u001b[0;32min\u001b[0m \u001b[0mself\u001b[0m\u001b[0;34m.\u001b[0m\u001b[0mobject_mapper\u001b[0m\u001b[0;34m:\u001b[0m\u001b[0;34m\u001b[0m\u001b[0;34m\u001b[0m\u001b[0m\n\u001b[0;32m---> 54\u001b[0;31m             \u001b[0;32mreturn\u001b[0m \u001b[0mself\u001b[0m\u001b[0;34m.\u001b[0m\u001b[0mobject_mapper\u001b[0m\u001b[0;34m[\u001b[0m\u001b[0minfo\u001b[0m\u001b[0;34m.\u001b[0m\u001b[0mtype\u001b[0m\u001b[0;34m]\u001b[0m\u001b[0;34m(\u001b[0m\u001b[0mdata\u001b[0m\u001b[0;34m,\u001b[0m \u001b[0minfo\u001b[0m\u001b[0;34m,\u001b[0m \u001b[0margs\u001b[0m\u001b[0;34m)\u001b[0m\u001b[0;34m\u001b[0m\u001b[0;34m\u001b[0m\u001b[0m\n\u001b[0m\u001b[1;32m     55\u001b[0m \u001b[0;34m\u001b[0m\u001b[0m\n\u001b[1;32m     56\u001b[0m         \u001b[0;32mreturn\u001b[0m \u001b[0mKBaseObject\u001b[0m\u001b[0;34m(\u001b[0m\u001b[0mdata\u001b[0m\u001b[0;34m,\u001b[0m \u001b[0minfo\u001b[0m\u001b[0;34m,\u001b[0m \u001b[0margs\u001b[0m\u001b[0;34m)\u001b[0m\u001b[0;34m\u001b[0m\u001b[0;34m\u001b[0m\u001b[0m\n",
      "\u001b[0;32m/usr/local/lib/python3.8/site-packages/cobrakbase/core/kbasegenomesgenome.py\u001b[0m in \u001b[0;36m__init__\u001b[0;34m(self, data, info, args, kbase_type)\u001b[0m\n\u001b[1;32m     16\u001b[0m \u001b[0;34m\u001b[0m\u001b[0m\n\u001b[1;32m     17\u001b[0m     \u001b[0;32mdef\u001b[0m \u001b[0m__init__\u001b[0m\u001b[0;34m(\u001b[0m\u001b[0mself\u001b[0m\u001b[0;34m,\u001b[0m \u001b[0mdata\u001b[0m\u001b[0;34m=\u001b[0m\u001b[0;32mNone\u001b[0m\u001b[0;34m,\u001b[0m \u001b[0minfo\u001b[0m\u001b[0;34m=\u001b[0m\u001b[0;32mNone\u001b[0m\u001b[0;34m,\u001b[0m \u001b[0margs\u001b[0m\u001b[0;34m=\u001b[0m\u001b[0;32mNone\u001b[0m\u001b[0;34m,\u001b[0m \u001b[0mkbase_type\u001b[0m\u001b[0;34m=\u001b[0m\u001b[0;32mNone\u001b[0m\u001b[0;34m)\u001b[0m\u001b[0;34m:\u001b[0m\u001b[0;34m\u001b[0m\u001b[0;34m\u001b[0m\u001b[0m\n\u001b[0;32m---> 18\u001b[0;31m         \u001b[0mKBaseObject\u001b[0m\u001b[0;34m.\u001b[0m\u001b[0m__init__\u001b[0m\u001b[0;34m(\u001b[0m\u001b[0mself\u001b[0m\u001b[0;34m,\u001b[0m \u001b[0mdata\u001b[0m\u001b[0;34m,\u001b[0m \u001b[0minfo\u001b[0m\u001b[0;34m,\u001b[0m \u001b[0margs\u001b[0m\u001b[0;34m,\u001b[0m \u001b[0mkbase_type\u001b[0m\u001b[0;34m)\u001b[0m\u001b[0;34m\u001b[0m\u001b[0;34m\u001b[0m\u001b[0m\n\u001b[0m\u001b[1;32m     19\u001b[0m \u001b[0;34m\u001b[0m\u001b[0m\n\u001b[1;32m     20\u001b[0m     \u001b[0;32mdef\u001b[0m \u001b[0m_to_object\u001b[0m\u001b[0;34m(\u001b[0m\u001b[0mself\u001b[0m\u001b[0;34m,\u001b[0m \u001b[0mkey\u001b[0m\u001b[0;34m,\u001b[0m \u001b[0mdata\u001b[0m\u001b[0;34m)\u001b[0m\u001b[0;34m:\u001b[0m\u001b[0;34m\u001b[0m\u001b[0;34m\u001b[0m\u001b[0m\n",
      "\u001b[0;32m/usr/local/lib/python3.8/site-packages/cobrakbase/core/kbaseobject.py\u001b[0m in \u001b[0;36m__init__\u001b[0;34m(self, data, info, args, kbase_type)\u001b[0m\n\u001b[1;32m     46\u001b[0m         \u001b[0;32mif\u001b[0m \u001b[0mself\u001b[0m\u001b[0;34m.\u001b[0m\u001b[0minfo\u001b[0m\u001b[0;34m.\u001b[0m\u001b[0mtype\u001b[0m \u001b[0;32mis\u001b[0m \u001b[0;32mNone\u001b[0m\u001b[0;34m:\u001b[0m\u001b[0;34m\u001b[0m\u001b[0;34m\u001b[0m\u001b[0m\n\u001b[1;32m     47\u001b[0m             \u001b[0;32mraise\u001b[0m \u001b[0mObjectError\u001b[0m\u001b[0;34m(\u001b[0m\u001b[0;34m\"KBase object without type\"\u001b[0m\u001b[0;34m)\u001b[0m\u001b[0;34m\u001b[0m\u001b[0;34m\u001b[0m\u001b[0m\n\u001b[0;32m---> 48\u001b[0;31m         \u001b[0mself\u001b[0m\u001b[0;34m.\u001b[0m\u001b[0mdata\u001b[0m \u001b[0;34m=\u001b[0m \u001b[0mself\u001b[0m\u001b[0;34m.\u001b[0m\u001b[0m_from_json\u001b[0m\u001b[0;34m(\u001b[0m\u001b[0mdata\u001b[0m\u001b[0;34m)\u001b[0m\u001b[0;34m\u001b[0m\u001b[0;34m\u001b[0m\u001b[0m\n\u001b[0m\u001b[1;32m     49\u001b[0m \u001b[0;34m\u001b[0m\u001b[0m\n\u001b[1;32m     50\u001b[0m         fields = [\"provenance\", \"path\", \"creator\", \"orig_wsid\", \"created\", \"epoch\", \"refs\", \"copied\",\n",
      "\u001b[0;32m/usr/local/lib/python3.8/site-packages/cobrakbase/core/kbaseobject.py\u001b[0m in \u001b[0;36m_from_json\u001b[0;34m(self, data)\u001b[0m\n\u001b[1;32m     81\u001b[0m \u001b[0;34m\u001b[0m\u001b[0m\n\u001b[1;32m     82\u001b[0m                 \u001b[0;32mif\u001b[0m \u001b[0misinstance\u001b[0m\u001b[0;34m(\u001b[0m\u001b[0mdata\u001b[0m\u001b[0;34m[\u001b[0m\u001b[0mfield\u001b[0m\u001b[0;34m]\u001b[0m\u001b[0;34m[\u001b[0m\u001b[0;36m0\u001b[0m\u001b[0;34m]\u001b[0m\u001b[0;34m,\u001b[0m \u001b[0mdict\u001b[0m\u001b[0;34m)\u001b[0m \u001b[0;32mand\u001b[0m \u001b[0;34m\"id\"\u001b[0m \u001b[0;32min\u001b[0m \u001b[0mdata\u001b[0m\u001b[0;34m[\u001b[0m\u001b[0mfield\u001b[0m\u001b[0;34m]\u001b[0m\u001b[0;34m[\u001b[0m\u001b[0;36m0\u001b[0m\u001b[0;34m]\u001b[0m\u001b[0;34m:\u001b[0m\u001b[0;34m\u001b[0m\u001b[0;34m\u001b[0m\u001b[0m\n\u001b[0;32m---> 83\u001b[0;31m                     \u001b[0mdata\u001b[0m\u001b[0;34m[\u001b[0m\u001b[0mfield\u001b[0m\u001b[0;34m]\u001b[0m \u001b[0;34m=\u001b[0m \u001b[0mDictList\u001b[0m\u001b[0;34m(\u001b[0m\u001b[0mmap\u001b[0m\u001b[0;34m(\u001b[0m\u001b[0;32mlambda\u001b[0m \u001b[0mx\u001b[0m\u001b[0;34m:\u001b[0m \u001b[0mself\u001b[0m\u001b[0;34m.\u001b[0m\u001b[0m_to_object\u001b[0m\u001b[0;34m(\u001b[0m\u001b[0mfield\u001b[0m\u001b[0;34m,\u001b[0m \u001b[0mx\u001b[0m\u001b[0;34m)\u001b[0m\u001b[0;34m,\u001b[0m \u001b[0mdata\u001b[0m\u001b[0;34m[\u001b[0m\u001b[0mfield\u001b[0m\u001b[0;34m]\u001b[0m\u001b[0;34m)\u001b[0m\u001b[0;34m)\u001b[0m\u001b[0;34m\u001b[0m\u001b[0;34m\u001b[0m\u001b[0m\n\u001b[0m\u001b[1;32m     84\u001b[0m \u001b[0;34m\u001b[0m\u001b[0m\n\u001b[1;32m     85\u001b[0m         \u001b[0;32mreturn\u001b[0m \u001b[0mdata\u001b[0m\u001b[0;34m\u001b[0m\u001b[0;34m\u001b[0m\u001b[0m\n",
      "\u001b[0;32m/usr/local/lib/python3.8/site-packages/cobra/core/dictlist.py\u001b[0m in \u001b[0;36m__init__\u001b[0;34m(self, *args)\u001b[0m\n\u001b[1;32m     37\u001b[0m                 \u001b[0mself\u001b[0m\u001b[0;34m.\u001b[0m\u001b[0m_dict\u001b[0m \u001b[0;34m=\u001b[0m \u001b[0mother\u001b[0m\u001b[0;34m.\u001b[0m\u001b[0m_dict\u001b[0m\u001b[0;34m.\u001b[0m\u001b[0mcopy\u001b[0m\u001b[0;34m(\u001b[0m\u001b[0;34m)\u001b[0m\u001b[0;34m\u001b[0m\u001b[0;34m\u001b[0m\u001b[0m\n\u001b[1;32m     38\u001b[0m             \u001b[0;32melse\u001b[0m\u001b[0;34m:\u001b[0m\u001b[0;34m\u001b[0m\u001b[0;34m\u001b[0m\u001b[0m\n\u001b[0;32m---> 39\u001b[0;31m                 \u001b[0mself\u001b[0m\u001b[0;34m.\u001b[0m\u001b[0mextend\u001b[0m\u001b[0;34m(\u001b[0m\u001b[0mother\u001b[0m\u001b[0;34m)\u001b[0m\u001b[0;34m\u001b[0m\u001b[0;34m\u001b[0m\u001b[0m\n\u001b[0m\u001b[1;32m     40\u001b[0m \u001b[0;34m\u001b[0m\u001b[0m\n\u001b[1;32m     41\u001b[0m     \u001b[0;32mdef\u001b[0m \u001b[0mhas_id\u001b[0m\u001b[0;34m(\u001b[0m\u001b[0mself\u001b[0m\u001b[0;34m,\u001b[0m \u001b[0mid\u001b[0m\u001b[0;34m)\u001b[0m\u001b[0;34m:\u001b[0m\u001b[0;34m\u001b[0m\u001b[0;34m\u001b[0m\u001b[0m\n",
      "\u001b[0;32m/usr/local/lib/python3.8/site-packages/cobra/core/dictlist.py\u001b[0m in \u001b[0;36mextend\u001b[0;34m(self, iterable)\u001b[0m\n\u001b[1;32m    196\u001b[0m                 \u001b[0;31m# if the above succeeded, then the id must be present\u001b[0m\u001b[0;34m\u001b[0m\u001b[0;34m\u001b[0m\u001b[0;34m\u001b[0m\u001b[0m\n\u001b[1;32m    197\u001b[0m                 \u001b[0;31m# twice in the list being added\u001b[0m\u001b[0;34m\u001b[0m\u001b[0;34m\u001b[0m\u001b[0;34m\u001b[0m\u001b[0m\n\u001b[0;32m--> 198\u001b[0;31m                 raise ValueError(\n\u001b[0m\u001b[1;32m    199\u001b[0m                     \u001b[0;34m\"id '%s' at index %d is non-unique. \"\u001b[0m\u001b[0;34m\u001b[0m\u001b[0;34m\u001b[0m\u001b[0m\n\u001b[1;32m    200\u001b[0m                     \u001b[0;34m\"Is it present twice?\"\u001b[0m \u001b[0;34m%\u001b[0m \u001b[0;34m(\u001b[0m\u001b[0mstr\u001b[0m\u001b[0;34m(\u001b[0m\u001b[0mthe_id\u001b[0m\u001b[0;34m)\u001b[0m\u001b[0;34m,\u001b[0m \u001b[0mi\u001b[0m\u001b[0;34m)\u001b[0m\u001b[0;34m\u001b[0m\u001b[0;34m\u001b[0m\u001b[0m\n",
      "\u001b[0;31mValueError\u001b[0m: id 'SSO' at index 1 is non-unique. Is it present twice?"
     ]
    }
   ],
   "source": [
    "model_compare = kbase.get_from_ws('GCF_000005845.2.RAST.mdl', 'filipeliu:narrative_1612259860241')\n",
    "model_compare_template = kbase.get_from_ws(model_compare.template_ref)\n",
    "model_compare_genome = kbase.get_from_ws(model_compare.genome_ref)"
   ]
  },
  {
   "cell_type": "code",
   "execution_count": 19,
   "metadata": {},
   "outputs": [
    {
     "data": {
      "text/plain": [
       "'78503/2948/1'"
      ]
     },
     "execution_count": 19,
     "metadata": {},
     "output_type": "execute_result"
    }
   ],
   "source": [
    "model_compare.genome_ref"
   ]
  },
  {
   "cell_type": "code",
   "execution_count": 12,
   "metadata": {},
   "outputs": [
    {
     "data": {
      "text/html": [
       "\n",
       "        <table>\n",
       "            <tr>\n",
       "                <td><strong>Name</strong></td>\n",
       "                <td>GCF_000005845.2.RAST.mdl</td>\n",
       "            </tr><tr>\n",
       "                <td><strong>Memory address</strong></td>\n",
       "                <td>0x07fa6819dee50</td>\n",
       "            </tr><tr>\n",
       "                <td><strong>Number of metabolites</strong></td>\n",
       "                <td>190</td>\n",
       "            </tr><tr>\n",
       "                <td><strong>Number of reactions</strong></td>\n",
       "                <td>229</td>\n",
       "            </tr><tr>\n",
       "                <td><strong>Number of groups</strong></td>\n",
       "                <td>0</td>\n",
       "            </tr><tr>\n",
       "                <td><strong>Objective expression</strong></td>\n",
       "                <td>1.0*bio2 - 1.0*bio2_reverse_a4204</td>\n",
       "            </tr><tr>\n",
       "                <td><strong>Compartments</strong></td>\n",
       "                <td>c0, e0</td>\n",
       "            </tr>\n",
       "          </table>"
      ],
      "text/plain": [
       "<FBAModel GCF_000005845.2.RAST.mdl at 0x7fa6819dee50>"
      ]
     },
     "execution_count": 12,
     "metadata": {},
     "output_type": "execute_result"
    }
   ],
   "source": [
    "model_compare"
   ]
  },
  {
   "cell_type": "code",
   "execution_count": 13,
   "metadata": {},
   "outputs": [],
   "source": [
    "rxn_ids2 = set(map(lambda x: x.id, model.reactions))\n",
    "rxn_ids1 = set(map(lambda x: x.id, model_compare.reactions))"
   ]
  },
  {
   "cell_type": "code",
   "execution_count": 14,
   "metadata": {},
   "outputs": [
    {
     "data": {
      "text/plain": [
       "set()"
      ]
     },
     "execution_count": 14,
     "metadata": {},
     "output_type": "execute_result"
    }
   ],
   "source": [
    "rxn_ids2 - rxn_ids1"
   ]
  },
  {
   "cell_type": "code",
   "execution_count": 15,
   "metadata": {},
   "outputs": [
    {
     "data": {
      "text/plain": [
       "set()"
      ]
     },
     "execution_count": 15,
     "metadata": {},
     "output_type": "execute_result"
    }
   ],
   "source": [
    "rxn_ids1 - rxn_ids2"
   ]
  },
  {
   "cell_type": "code",
   "execution_count": null,
   "metadata": {},
   "outputs": [],
   "source": []
  }
 ],
 "metadata": {
  "kernelspec": {
   "display_name": "Python 3",
   "language": "python",
   "name": "python3"
  },
  "language_info": {
   "codemirror_mode": {
    "name": "ipython",
    "version": 3
   },
   "file_extension": ".py",
   "mimetype": "text/x-python",
   "name": "python",
   "nbconvert_exporter": "python",
   "pygments_lexer": "ipython3",
   "version": "3.8.10"
  }
 },
 "nbformat": 4,
 "nbformat_minor": 4
}
