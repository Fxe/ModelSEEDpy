{
 "cells": [
  {
   "cell_type": "code",
   "execution_count": 1,
   "metadata": {},
   "outputs": [
    {
     "name": "stdout",
     "output_type": "stream",
     "text": [
      "cobrakbase 0.2.7\n"
     ]
    }
   ],
   "source": [
    "import cobra\n",
    "from cobra.flux_analysis import (\n",
    "    single_gene_deletion, single_reaction_deletion, double_gene_deletion,\n",
    "    double_reaction_deletion)\n",
    "from cobra.flux_analysis.parsimonious import pfba\n",
    "import cobrakbase\n",
    "import escher\n",
    "from escher import Builder\n",
    "import sys\n",
    "sys.path.append(\"/Users/chenry/code/ModelSEEDpy\")\n",
    "from modelseedpy import MSPackageManager,FBAHelper\n"
   ]
  },
  {
   "cell_type": "code",
   "execution_count": 2,
   "metadata": {},
   "outputs": [
    {
     "data": {
      "text/html": [
       "<div>\n",
       "<style scoped>\n",
       "    .dataframe tbody tr th:only-of-type {\n",
       "        vertical-align: middle;\n",
       "    }\n",
       "\n",
       "    .dataframe tbody tr th {\n",
       "        vertical-align: top;\n",
       "    }\n",
       "\n",
       "    .dataframe thead tr th {\n",
       "        text-align: left;\n",
       "    }\n",
       "</style>\n",
       "<table border=\"1\" class=\"dataframe\">\n",
       "  <thead>\n",
       "    <tr>\n",
       "      <th></th>\n",
       "      <th colspan=\"2\" halign=\"left\">IN_FLUXES</th>\n",
       "      <th colspan=\"2\" halign=\"left\">OUT_FLUXES</th>\n",
       "      <th colspan=\"2\" halign=\"left\">OBJECTIVES</th>\n",
       "    </tr>\n",
       "    <tr>\n",
       "      <th></th>\n",
       "      <th>ID</th>\n",
       "      <th>FLUX</th>\n",
       "      <th>ID</th>\n",
       "      <th>FLUX</th>\n",
       "      <th>ID</th>\n",
       "      <th>FLUX</th>\n",
       "    </tr>\n",
       "  </thead>\n",
       "  <tbody>\n",
       "    <tr>\n",
       "      <th>0</th>\n",
       "      <td>cpd00027_e0</td>\n",
       "      <td>5.000000</td>\n",
       "      <td>cpd00067_e0</td>\n",
       "      <td>13.427805</td>\n",
       "      <td>bio1</td>\n",
       "      <td>0.168001</td>\n",
       "    </tr>\n",
       "    <tr>\n",
       "      <th>1</th>\n",
       "      <td>cpd00013_e0</td>\n",
       "      <td>1.814398</td>\n",
       "      <td>cpd00047_e0</td>\n",
       "      <td>8.048341</td>\n",
       "      <td>NaN</td>\n",
       "      <td>NaN</td>\n",
       "    </tr>\n",
       "    <tr>\n",
       "      <th>2</th>\n",
       "      <td>cpd00009_e0</td>\n",
       "      <td>0.162055</td>\n",
       "      <td>cpd00029_e0</td>\n",
       "      <td>3.722385</td>\n",
       "      <td>NaN</td>\n",
       "      <td>NaN</td>\n",
       "    </tr>\n",
       "    <tr>\n",
       "      <th>3</th>\n",
       "      <td>NaN</td>\n",
       "      <td>NaN</td>\n",
       "      <td>cpd00363_e0</td>\n",
       "      <td>3.693314</td>\n",
       "      <td>NaN</td>\n",
       "      <td>NaN</td>\n",
       "    </tr>\n",
       "    <tr>\n",
       "      <th>4</th>\n",
       "      <td>NaN</td>\n",
       "      <td>NaN</td>\n",
       "      <td>cpd00001_e0</td>\n",
       "      <td>0.798529</td>\n",
       "      <td>NaN</td>\n",
       "      <td>NaN</td>\n",
       "    </tr>\n",
       "  </tbody>\n",
       "</table>\n",
       "</div>"
      ],
      "text/plain": [
       "<cobra.core.summary.model_summary.ModelSummary at 0x7faf19ab2250>"
      ]
     },
     "execution_count": 2,
     "metadata": {},
     "output_type": "execute_result"
    }
   ],
   "source": [
    "kbase_api = cobrakbase.KBaseAPI()\n",
    "model = kbase_api.get_from_ws(\"E_iML1515.kb\",40576)\n",
    "media = kbase_api.get_from_ws(\"Btheta_Ecoli_minimal_media\",40576)\n",
    "pkgmgr = MSPackageManager.get_pkg_mgr(model)\n",
    "pkgmgr.getpkg(\"KBaseMediaPkg\").build_package(media)\n",
    "FBAHelper.set_objective_from_target_reaction(model, \"bio1\")\n",
    "solution=model.optimize()\n",
    "model.summary()"
   ]
  },
  {
   "cell_type": "code",
   "execution_count": 5,
   "metadata": {},
   "outputs": [
    {
     "data": {
      "text/html": [
       "<div>\n",
       "<style scoped>\n",
       "    .dataframe tbody tr th:only-of-type {\n",
       "        vertical-align: middle;\n",
       "    }\n",
       "\n",
       "    .dataframe tbody tr th {\n",
       "        vertical-align: top;\n",
       "    }\n",
       "\n",
       "    .dataframe thead th {\n",
       "        text-align: right;\n",
       "    }\n",
       "</style>\n",
       "<table border=\"1\" class=\"dataframe\">\n",
       "  <thead>\n",
       "    <tr style=\"text-align: right;\">\n",
       "      <th></th>\n",
       "      <th>growth</th>\n",
       "      <th>status</th>\n",
       "    </tr>\n",
       "    <tr>\n",
       "      <th>ids</th>\n",
       "      <th></th>\n",
       "      <th></th>\n",
       "    </tr>\n",
       "  </thead>\n",
       "  <tbody>\n",
       "    <tr>\n",
       "      <th>(b1123)</th>\n",
       "      <td>0.168001</td>\n",
       "      <td>optimal</td>\n",
       "    </tr>\n",
       "    <tr>\n",
       "      <th>(b1134)</th>\n",
       "      <td>0.168001</td>\n",
       "      <td>optimal</td>\n",
       "    </tr>\n",
       "    <tr>\n",
       "      <th>(b0158)</th>\n",
       "      <td>0.168001</td>\n",
       "      <td>optimal</td>\n",
       "    </tr>\n",
       "    <tr>\n",
       "      <th>(b0775)</th>\n",
       "      <td>0.000000</td>\n",
       "      <td>optimal</td>\n",
       "    </tr>\n",
       "    <tr>\n",
       "      <th>(b1683)</th>\n",
       "      <td>0.168001</td>\n",
       "      <td>optimal</td>\n",
       "    </tr>\n",
       "    <tr>\n",
       "      <th>...</th>\n",
       "      <td>...</td>\n",
       "      <td>...</td>\n",
       "    </tr>\n",
       "    <tr>\n",
       "      <th>(b4386)</th>\n",
       "      <td>0.168001</td>\n",
       "      <td>optimal</td>\n",
       "    </tr>\n",
       "    <tr>\n",
       "      <th>(b0867)</th>\n",
       "      <td>0.168001</td>\n",
       "      <td>optimal</td>\n",
       "    </tr>\n",
       "    <tr>\n",
       "      <th>(b1463)</th>\n",
       "      <td>0.168001</td>\n",
       "      <td>optimal</td>\n",
       "    </tr>\n",
       "    <tr>\n",
       "      <th>(b0688)</th>\n",
       "      <td>0.168001</td>\n",
       "      <td>optimal</td>\n",
       "    </tr>\n",
       "    <tr>\n",
       "      <th>(b1475)</th>\n",
       "      <td>0.168001</td>\n",
       "      <td>optimal</td>\n",
       "    </tr>\n",
       "  </tbody>\n",
       "</table>\n",
       "<p>1515 rows × 2 columns</p>\n",
       "</div>"
      ],
      "text/plain": [
       "           growth   status\n",
       "ids                       \n",
       "(b1123)  0.168001  optimal\n",
       "(b1134)  0.168001  optimal\n",
       "(b0158)  0.168001  optimal\n",
       "(b0775)  0.000000  optimal\n",
       "(b1683)  0.168001  optimal\n",
       "...           ...      ...\n",
       "(b4386)  0.168001  optimal\n",
       "(b0867)  0.168001  optimal\n",
       "(b1463)  0.168001  optimal\n",
       "(b0688)  0.168001  optimal\n",
       "(b1475)  0.168001  optimal\n",
       "\n",
       "[1515 rows x 2 columns]"
      ]
     },
     "execution_count": 5,
     "metadata": {},
     "output_type": "execute_result"
    }
   ],
   "source": [
    "deletion_results = single_gene_deletion(model)\n",
    "deletion_results"
   ]
  },
  {
   "cell_type": "code",
   "execution_count": 4,
   "metadata": {},
   "outputs": [
    {
     "data": {
      "application/vnd.jupyter.widget-view+json": {
       "model_id": "d30ab0c86c3544b890993baee65b5198",
       "version_major": 2,
       "version_minor": 0
      },
      "text/plain": [
       "Builder(reaction_data={'34dhpactex_e0': 0.0, 'GUAtex_e0': 0.0, 'rxn01256_c0': 0.05432889023402956, 'rxn00411_c…"
      ]
     },
     "metadata": {},
     "output_type": "display_data"
    }
   ],
   "source": [
    "file = open('CentralCarbon.json',)\n",
    "ccmap = file.read()\n",
    "builder = Builder(map_json=ccmap)\n",
    "builder.reaction_scale=[\n",
    "        { \"type\": 'value', \"value\": 0, \"color\": '#dcdcdc', \"size\": 10 },\n",
    "        { \"type\": 'value', \"value\": 0.000001, \"color\": '#9696ff', \"size\": 25 },\n",
    "        { \"type\": 'value', \"value\": 1, \"color\": '#ff0000', \"size\": 35 },\n",
    "        { \"type\": 'value', \"value\": 20, \"color\": '#209123', \"size\": 50 },\n",
    "    ]\n",
    "builder.model = model\n",
    "builder.reaction_data = solution.fluxes\n",
    "builder"
   ]
  },
  {
   "cell_type": "code",
   "execution_count": null,
   "metadata": {},
   "outputs": [],
   "source": []
  },
  {
   "cell_type": "code",
   "execution_count": null,
   "metadata": {},
   "outputs": [],
   "source": []
  }
 ],
 "metadata": {
  "kernelspec": {
   "display_name": "Python 3",
   "language": "python",
   "name": "python3"
  },
  "language_info": {
   "codemirror_mode": {
    "name": "ipython",
    "version": 3
   },
   "file_extension": ".py",
   "mimetype": "text/x-python",
   "name": "python",
   "nbconvert_exporter": "python",
   "pygments_lexer": "ipython3",
   "version": "3.7.6"
  }
 },
 "nbformat": 4,
 "nbformat_minor": 4
}
